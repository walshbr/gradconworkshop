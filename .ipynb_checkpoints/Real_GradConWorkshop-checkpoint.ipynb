{
 "cells": [
  {
   "cell_type": "markdown",
   "metadata": {
    "id": "UKaWOn09-20L"
   },
   "source": [
    "# A brief introduction to part-of-speech tagging"
   ]
  },
  {
   "cell_type": "markdown",
   "metadata": {
    "id": "kvtwpwVo-20M"
   },
   "source": [
    "Identifying the part of speech associated with a particular word is complex, even for humans. Let's talk through how a computer would go about doing this. We have to get really basic. \n",
    "\n",
    "In Python there are a few base level units of data. There are more, but to begin let's just look at two:\n",
    "\n",
    "* Integers\n",
    "* Strings\n",
    "\n",
    "In addition to some super basic Python, you should also take note of the interface we're  in. This Google Colab environment should let us look at a collaborative set of code I've set up for us. As we go, you can either follow along quietly or, if you're ambitious, edit code yourself and see the results of your changes  (I'll try to flag good spaces for doing so). To see how it works, you can click on the code block below and change \"4 + 4\" to be something else. Then click the little \"play\" button to the left of the block for it to run. Each of these code blocks is a little bit of Python, a computer programming language, and clicking the button let's us see the results of our output. They run in sequence as we move down the page, so the last code block might make assumptions about what has happened earlier in the page. "
   ]
  },
  {
   "cell_type": "markdown",
   "metadata": {
    "id": "QPiPvaLZ6Rfg"
   },
   "source": [
    "## Try it - prelude"
   ]
  },
  {
   "cell_type": "code",
   "execution_count": 12,
   "metadata": {
    "colab": {
     "base_uri": "https://localhost:8080/",
     "height": 34
    },
    "id": "dX9j5Py1-20N",
    "outputId": "61d90656-89ef-4698-b1c3-658968cadc6a"
   },
   "outputs": [
    {
     "data": {
      "text/plain": [
       "13"
      ]
     },
     "execution_count": 12,
     "metadata": {
      "tags": []
     },
     "output_type": "execute_result"
    }
   ],
   "source": [
    "# an integer is a whole number that you do number like things to. Try changing this to something else. \n",
    "4 + 9"
   ]
  },
  {
   "cell_type": "code",
   "execution_count": 13,
   "metadata": {
    "colab": {
     "base_uri": "https://localhost:8080/",
     "height": 34
    },
    "id": "w-PUkPLB-20S",
    "outputId": "74c799f9-0ece-4638-8ee7-2fca59388a0c"
   },
   "outputs": [
    {
     "data": {
      "text/plain": [
       "19"
      ]
     },
     "execution_count": 13,
     "metadata": {
      "tags": []
     },
     "output_type": "execute_result"
    }
   ],
   "source": [
    "our_int = 4\n",
    "our_int + 15"
   ]
  },
  {
   "cell_type": "markdown",
   "metadata": {
    "id": "gCjj25Hu-20V"
   },
   "source": [
    "In contrast, a string is something we can do word-like things to:"
   ]
  },
  {
   "cell_type": "code",
   "execution_count": 14,
   "metadata": {
    "colab": {
     "base_uri": "https://localhost:8080/",
     "height": 35
    },
    "id": "lnTAr5IA-20Y",
    "outputId": "623569a5-6f42-4718-b775-8a1c47c57d98"
   },
   "outputs": [
    {
     "data": {
      "application/vnd.google.colaboratory.intrinsic+json": {
       "type": "string"
      },
      "text/plain": [
       "'FOUR'"
      ]
     },
     "execution_count": 14,
     "metadata": {
      "tags": []
     },
     "output_type": "execute_result"
    }
   ],
   "source": [
    "\"four\".upper()"
   ]
  },
  {
   "cell_type": "code",
   "execution_count": 15,
   "metadata": {
    "colab": {
     "base_uri": "https://localhost:8080/",
     "height": 35
    },
    "id": "yrlo9fUu-20b",
    "outputId": "003340f5-cc42-4e2b-8137-92924b7f68c8"
   },
   "outputs": [
    {
     "data": {
      "application/vnd.google.colaboratory.intrinsic+json": {
       "type": "string"
      },
      "text/plain": [
       "'fourfour'"
      ]
     },
     "execution_count": 15,
     "metadata": {
      "tags": []
     },
     "output_type": "execute_result"
    }
   ],
   "source": [
    "our_string = \"four\"\n",
    "\n",
    "our_string + our_string\n",
    "# what happened here?"
   ]
  },
  {
   "cell_type": "markdown",
   "metadata": {
    "id": "Ki3W7Ocm-20e"
   },
   "source": [
    "Numbers can do numerical things and strings (word-type bits) can do word-type things. You can, of course, go way deeper in Python with data types, but a one more example of things you can do to strings (word-type data):"
   ]
  },
  {
   "cell_type": "code",
   "execution_count": 16,
   "metadata": {
    "colab": {
     "base_uri": "https://localhost:8080/",
     "height": 85
    },
    "id": "BkRSVY4h-20f",
    "outputId": "050406ec-2e55-49d4-898d-37826b0048e3",
    "scrolled": false
   },
   "outputs": [
    {
     "name": "stdout",
     "output_type": "stream",
     "text": [
      "f\n",
      "o\n",
      "u\n",
      "r\n"
     ]
    }
   ],
   "source": [
    "# we can print each letter out - a string is made up of its constituent pieces. you could try this with a word of your own\n",
    "our_string = \"four\"\n",
    "for letter in our_string:\n",
    "    print(letter)"
   ]
  },
  {
   "cell_type": "code",
   "execution_count": 17,
   "metadata": {
    "colab": {
     "base_uri": "https://localhost:8080/",
     "height": 34
    },
    "id": "rc3ZR0pH-20i",
    "outputId": "09558300-ce3d-4ddb-831e-b97a7ab687b0"
   },
   "outputs": [
    {
     "data": {
      "text/plain": [
       "False"
      ]
     },
     "execution_count": 17,
     "metadata": {
      "tags": []
     },
     "output_type": "execute_result"
    }
   ],
   "source": [
    "# is 4 equal to four?\n",
    "our_int = 4\n",
    "our_string = \"four\"\n",
    "our_int == our_string"
   ]
  },
  {
   "cell_type": "markdown",
   "metadata": {
    "id": "x9zNdWkJ-20l"
   },
   "source": [
    "Python is very literal the number four is not equal to the word four. Similarly, we can see that a word is not equal to its individual letters (we could combine those letters and get a different result."
   ]
  },
  {
   "cell_type": "code",
   "execution_count": 18,
   "metadata": {
    "colab": {
     "base_uri": "https://localhost:8080/",
     "height": 34
    },
    "id": "JrwHflxM-20m",
    "outputId": "4cdbcac0-a36b-461f-c320-66bc271fbd8c",
    "scrolled": true
   },
   "outputs": [
    {
     "data": {
      "text/plain": [
       "False"
      ]
     },
     "execution_count": 18,
     "metadata": {
      "tags": []
     },
     "output_type": "execute_result"
    }
   ],
   "source": [
    "['f','o','u','r'] == 'four'"
   ]
  },
  {
   "cell_type": "markdown",
   "metadata": {
    "id": "KFR6XuYX-20p"
   },
   "source": [
    "Given how difficult it is for Python to parse these basic elements - how can it do more complicated things? like recognize the part of speech for a word? for a poem? We don't have to work from scratch - people build on the work of others. We can test out a basic part of speech tagger, but in order to do so we have to feed a series of words (a list) rather than a single word."
   ]
  },
  {
   "cell_type": "markdown",
   "metadata": {
    "id": "cpdBkN7fyEcC"
   },
   "source": [
    "## Try it 1 - tagging your own sentence"
   ]
  },
  {
   "cell_type": "code",
   "execution_count": 19,
   "metadata": {
    "colab": {
     "base_uri": "https://localhost:8080/",
     "height": 153
    },
    "id": "nuBQKO1V-20q",
    "outputId": "c0aa4105-c1d5-4abe-8a6a-1589e2e56b72"
   },
   "outputs": [
    {
     "name": "stdout",
     "output_type": "stream",
     "text": [
      "[nltk_data] Downloading package averaged_perceptron_tagger to\n",
      "[nltk_data]     /root/nltk_data...\n",
      "[nltk_data]   Unzipping taggers/averaged_perceptron_tagger.zip.\n"
     ]
    },
    {
     "data": {
      "text/plain": [
       "[('A', 'DT'),\n",
       " ('sentence', 'NN'),\n",
       " ('made', 'VBN'),\n",
       " ('of', 'IN'),\n",
       " ('words', 'NNS')]"
      ]
     },
     "execution_count": 19,
     "metadata": {
      "tags": []
     },
     "output_type": "execute_result"
    }
   ],
   "source": [
    "# This could be a good opportunity to try subbing in some text of your own. Try changing the sentence below and see if you can get it to run without errors.\n",
    "\n",
    "import nltk\n",
    "nltk.download('averaged_perceptron_tagger') \n",
    "nltk.pos_tag([\"A\", \"sentence\", \"made\", \"of\", \"words\"])"
   ]
  },
  {
   "cell_type": "markdown",
   "metadata": {
    "id": "cwoCYgV3-20s"
   },
   "source": [
    "It gives us a list of word/tag pairs. It can be a little confusing to understand what those tags are, because you probably don't use them in everyday speech. Here's a list of the tag definitions used by NLTK - https://www.ling.upenn.edu/courses/Fall_2003/ling001/penn_treebank_pos.html - which come from the Penn Treebank dataset. SpaCy, which we will also use later on, uses a slightly different but overlapping tagging dictionary - https://github.com/explosion/spaCy/blob/master/spacy/lang/en/tag_map.py.\n",
    "\n",
    "But on a more basic level - how did that work? Time for…\n",
    "\n",
    "## A Brief interlude on machine learning by way of Nicholas Sparks if Time Allows"
   ]
  },
  {
   "cell_type": "markdown",
   "metadata": {
    "id": "H_NjOB7_XHM9"
   },
   "source": [
    "In this context, part-of-speech tagging is a form of machine learning. More specifically, it is a kind of supervised classification. Those can sound like baggy and confusing words but the concepts behind them are actually pretty simple:\n",
    "\n",
    "* Give the computer a lot of examples of a thing that fit the label\n",
    "* Then tell it what to pay attention to – features of the label\n",
    "* ask it whether or not new data should be given that label\n",
    "* Computer looks at features of the new bits and gives it the label or not\n",
    "* Machine learning: “gives computers the ability to learn without being explicitly programmed” – Arthur Samuel\n",
    "\n",
    "If you've ever done a ReCaptcha you're engaging in this. In addition to logging in, you're helping the computer get a set of examples that it can use to identify future photos. In the below example, after selecting cats, the computer will have a better of sense of what cats look like:\n",
    "\n",
    "![recaptcha image](images/recaptcha.png)\n"
   ]
  },
  {
   "cell_type": "markdown",
   "metadata": {
    "id": "P2buBrREbR8r"
   },
   "source": [
    "Super generic objects can be a clearer illustration of this, so I like to use Nicholas Sparks movie posters to point out how this would work. \n",
    "\n",
    "**So let's play \"Nicholas Sparks Movie poster or not.**\n",
    "\n",
    "What do the following two images have in common?"
   ]
  },
  {
   "cell_type": "markdown",
   "metadata": {
    "colab": {
     "base_uri": "https://localhost:8080/",
     "height": 993
    },
    "id": "yWo7dpeHcGZ_",
    "outputId": "b3912714-f55c-42c6-a874-6ed483143d4a"
   },
   "source": [
    "![Sparks Poster 1](images/sparks_1.png)\n",
    "![Sparks Poster 2](images/sparks_2.png)\n"
   ]
  },
  {
   "cell_type": "markdown",
   "metadata": {
    "id": "OurqxiRYcmgz"
   },
   "source": [
    "Hugging from the back is the answer I'm going for, though you  might have others. So we can these posters as  **training data**\n",
    "\n",
    "Nicholas Sparks Poster\n",
    "* Hug from behind (no personal space)\n",
    "\n",
    "Another:"
   ]
  },
  {
   "cell_type": "markdown",
   "metadata": {
    "colab": {
     "base_uri": "https://localhost:8080/",
     "height": 993
    },
    "id": "lOuyXmcYdPKD",
    "outputId": "c94c1ff9-beb9-4743-e75b-13568e14e500"
   },
   "source": [
    "![Sparks Poster 3](images/sparks_3.png)\n",
    "![Sparks Poster 4](images/sparks_4.png)\n"
   ]
  },
  {
   "cell_type": "markdown",
   "metadata": {
    "id": "oPZpPYtLdZqJ"
   },
   "source": [
    "Based on these we could add another feature to our growing model for how to identify a Nicholas Sparks movie poster.\n",
    "\n",
    "Nicholas Sparks Poster\n",
    "* Hug from behind (no personal space)\n",
    "* Almost kissing (no personal space)\n",
    "\n",
    "Also would have accepted white, heteronormative romance. We could go on with more examples, but you get the  point. \n",
    "\n",
    "Now that we've trained on some data we could test our model, our sense of how the parts relate to the whole, on some unknowns. Are these Nicholas Sparks movie posters?"
   ]
  },
  {
   "cell_type": "markdown",
   "metadata": {
    "colab": {
     "base_uri": "https://localhost:8080/",
     "height": 993
    },
    "id": "42-IOQ4adwvl",
    "outputId": "b1896624-f466-4fe3-ecdf-c33a62707eae"
   },
   "source": [
    "![Sparks Poster](images/sparks_5.png)\n",
    "![Sparks Poster](images/sparks_6.png)"
   ]
  },
  {
   "cell_type": "markdown",
   "metadata": {
    "id": "Eai4GJoXe-qH"
   },
   "source": [
    "Based on our features so far, both of these look sort of like NS posters. But the first one is not a Nicholas Sparks movie poster and the second one is. So our model is not 100% accurate (that makes sense! they rarely are). Based on this set, we could say it's 50% accurate, because it gets a false positive on the Nicolas Cage movie poster.  \n",
    "\n",
    "If you already knew the answers you were cheating. The machine learning term for that is **overfitting**, when your model is so highly specialized that you know everything about it. "
   ]
  },
  {
   "cell_type": "markdown",
   "metadata": {
    "id": "QE-V3ri6gQTm"
   },
   "source": [
    "The second movie poster clues us in to how complicated this gets. If you look closely at it - it only features one of our two features. In fact, you might imagine that it is very hard to have people **both** nearly kissing and hugging from behind. So it's not as simple as looking for the presence of the features or not - you might have to weight them by their usefulness. Something like…\n",
    "\n",
    "* Hug from behind (no personal space) \n",
    "* Almost kissing (no personal space) **twice as important as hugging from behind**\n",
    "\n",
    "You quickly get to some pretty complicated math. And that points to how this can work for language and part-of-speech-tagging. You might start making a list of textual features and how they associate with parts of speech:\n",
    "\n",
    "Part of speech tagging:\n",
    "\n",
    "* Words ending in “ly” are adverbs\n",
    "* Words ending in “ing” are gerunds\n",
    "* A word ending in ’s is a possessive noun\n",
    "* Simple cases, where certain words are always going to be a certain tag\n",
    "\n",
    "But even in all these examples you can imagine complications. \"Move\" is a verb except for those situations in which it is a \"noun,\" which etc. etc. And that's where the weighting comes in. The models used by the two different ways we'll be doing part-of-speech tagging use some combination of\n",
    "\n",
    "1. Hand tagged data  (explicit word banks)\n",
    "2. Grammatical rules like the above\n",
    "3. Probability (\"move\" is a verb 80% of the time)\n",
    "4. Computerized grammatical parsing of training data to determine best guesses at how the parts of speech are working\n",
    "\n",
    "All of these categories are interesting for humanists because you can imagine how much context matters. Who is doing the tagging? What backgrounds do they have and what positionality do they have to the texts they are tagging? For a computerized approach, who is deciding the algorithm and what assumptions does it make? What source texts are they using to build their model, which will then be applied elsewhere? NLTK is built on Wall Street Journal texts, while SpaCy has more of a cross-genre approach. How well can tags built from newspapers apply to poetry? Ethan Reed (a former Scholars' Lab fellow) has a great series of [blog posts](https://scholarslab.lib.virginia.edu/blog/poems-with-pattern-and-vader-part-1-quincy-troupe/) on the Scholars' Lab website about sentiment analysis, a related form of text analysis that draws on machine learning to decide how positive or negative text is. Ethan's post on how these methods fail to account for the social and historical context of Black Arts Movement poetry is very helpful reading for how to think critically about these methods."
   ]
  },
  {
   "cell_type": "markdown",
   "metadata": {
    "id": "Gn-EKphCW_3C"
   },
   "source": [
    "## Up and running with Tagging"
   ]
  },
  {
   "cell_type": "markdown",
   "metadata": {
    "id": "5c6K_Q1c-20t"
   },
   "source": [
    "Given these basic building blocks, let's take a poem and try to work out how we would tag it convert it into a read out of parts of speech. We'll be about as hand-wave-y as you can possibly be here, only gesturing at what the code does on a macro level. Let's run it on the first bits of \"The Rape of the Lock\" by Alexander Pope, a text marked up for parts of speech in the same way by Josephine Miles."
   ]
  },
  {
   "cell_type": "code",
   "execution_count": 24,
   "metadata": {
    "colab": {
     "base_uri": "https://localhost:8080/",
     "height": 476
    },
    "id": "X4lkW5mJ-20t",
    "outputId": "3ee55768-fa69-4316-db2e-6913c80f202b"
   },
   "outputs": [
    {
     "name": "stdout",
     "output_type": "stream",
     "text": [
      "\n",
      "Canto I\n",
      "\n",
      "What dire offence from am'rous causes springs, \n",
      "What mighty contests rise from trivial things, \n",
      "I sing — This verse to Caryl, Muse! is due: \n",
      "This, ev'n Belinda may vouchsafe to view: \n",
      "Slight is the subject, but not so the praise,\n",
      "If She inspire, and He approve my lays. \n",
      "\n",
      "Say what strange motive, Goddess! could compel\n",
      "A well-bred Lord t' assault a gentle Belle?\n",
      "O say what stranger cause, yet unexplor'd,\n",
      "Could make a gentle Belle reject a Lord?\n",
      "In tasks so bold, can little men engage,\n",
      "And in soft bosoms dwells such mighty Rage? \n",
      "\n",
      "Sol thro' white curtains shot a tim'rous ray,\n",
      "And oped those eyes that must eclipse the day:\n",
      "Now lap-dogs give themselves the rousing shake,\n",
      "And sleepless lovers, just at twelve, awake:\n",
      "Thrice rung the bell, the slipper knock'd the ground,\n",
      "And the press'd watch return'd a silver sound.\n",
      "Belinda still her downy pillow prest, \n",
      "Her guardian Sylph prolong'd the balmy rest:\n",
      "'Twas He had summon'd to her silent bed\n",
      "The morning-dream that hover'd o'er her head;\n"
     ]
    }
   ],
   "source": [
    "text = \"\"\"\n",
    "Canto I\n",
    "\n",
    "What dire offence from am'rous causes springs, \n",
    "What mighty contests rise from trivial things, \n",
    "I sing — This verse to Caryl, Muse! is due: \n",
    "This, ev'n Belinda may vouchsafe to view: \n",
    "Slight is the subject, but not so the praise,\n",
    "If She inspire, and He approve my lays. \n",
    "\n",
    "Say what strange motive, Goddess! could compel\n",
    "A well-bred Lord t' assault a gentle Belle?\n",
    "O say what stranger cause, yet unexplor'd,\n",
    "Could make a gentle Belle reject a Lord?\n",
    "In tasks so bold, can little men engage,\n",
    "And in soft bosoms dwells such mighty Rage? \n",
    "\n",
    "Sol thro' white curtains shot a tim'rous ray,\n",
    "And oped those eyes that must eclipse the day:\n",
    "Now lap-dogs give themselves the rousing shake,\n",
    "And sleepless lovers, just at twelve, awake:\n",
    "Thrice rung the bell, the slipper knock'd the ground,\n",
    "And the press'd watch return'd a silver sound.\n",
    "Belinda still her downy pillow prest, \n",
    "Her guardian Sylph prolong'd the balmy rest:\n",
    "'Twas He had summon'd to her silent bed\n",
    "The morning-dream that hover'd o'er her head;\n",
    "A Youth more glitt'ring than a Birth-night Beau,\n",
    "(That ev'n in slumber caus'd her cheek to glow)\n",
    "Seem'd to her ear his winning lips to lay,\n",
    "And thus in whispers said, or seem'd to say. \n",
    "Fairest of mortals, thou distinguish'd care\n",
    "Of thousand bright Inhabitants of Air! \n",
    "If e'er one vision touch.'d thy infant thought, \n",
    "Of all the Nurse and all the Priest have taught;\n",
    "Of airy Elves by moonlight shadows seen, \n",
    "The silver token, and the circled green, \n",
    "Or virgins visited by Angel-pow'rs, \n",
    "With golden crowns and wreaths of heav'nly flow'rs; \n",
    "Hear and believe! thy own importance know,\n",
    "Nor bound thy narrow views to things below. \n",
    "Some secret truths, from learned pride conceal'd,\n",
    "To Maids alone and Children are reveal'd:\n",
    "What tho' no credit doubting Wits may give? \n",
    "The Fair and Innocent shall still believe.\n",
    "Know, then, unnumber'd Spirits round thee fly, \n",
    "The light Militia of the lower sky: \n",
    "These, tho' unseen, are ever on the wing, \n",
    "Hang o'er the Box, and hover round the Ring. \n",
    "Think what an equipage thou hast in Air,\n",
    "And view with scorn two Pages and a Chair. \n",
    "As now your own, our beings were of old, \n",
    "And once inclos'd in Woman's beauteous mould; \n",
    "Thence, by a soft transition, we repair \n",
    "From earthly Vehicles to these of air.\n",
    "Think not, when Woman's transient breath is fled \n",
    "That all her vanities at once are dead; \n",
    "Succeeding vanities she still regards, \n",
    "And tho' she plays no more, o'erlooks the cards. \n",
    "Her joy in gilded Chariots, when alive,\n",
    "And love of Ombre, after death survive. \n",
    "For when the Fair in all their pride expire, \n",
    "To their first Elements their Souls retire: \n",
    "The Sprites of fiery Termagants in Flame \n",
    "Mount up, and take a Salamander's name.\n",
    "Soft yielding minds to Water glide away, \n",
    "And sip, with Nymphs, their elemental Tea. \n",
    "The graver Prude sinks downward to a Gnome, \n",
    "In search of mischief still on Earth to roam. \n",
    "The light Coquettes in Sylphs aloft repair,\n",
    "And sport and flutter in the fields of Air.  \n",
    "\"\"\"\n",
    "\n",
    "# by default this is going to be the whole text as one long strings (line breaks\n",
    "# are represented by a \\n character)\n",
    "\n",
    "print(text[0:1000])"
   ]
  },
  {
   "cell_type": "code",
   "execution_count": 25,
   "metadata": {
    "colab": {
     "base_uri": "https://localhost:8080/",
     "height": 595
    },
    "id": "auUoYb11-20w",
    "outputId": "17d735ac-e5d9-4ce3-bf9e-28f63ab56af1"
   },
   "outputs": [
    {
     "name": "stdout",
     "output_type": "stream",
     "text": [
      "[nltk_data] Downloading package averaged_perceptron_tagger to\n",
      "[nltk_data]     /root/nltk_data...\n",
      "[nltk_data]   Package averaged_perceptron_tagger is already up-to-\n",
      "[nltk_data]       date!\n"
     ]
    },
    {
     "data": {
      "text/plain": [
       "[('\\n', 'JJ'),\n",
       " ('C', 'NNP'),\n",
       " ('a', 'DT'),\n",
       " ('n', 'JJ'),\n",
       " ('t', 'NN'),\n",
       " ('o', 'IN'),\n",
       " (' ', 'NN'),\n",
       " ('I', 'PRP'),\n",
       " ('\\n', 'VBP'),\n",
       " ('\\n', 'JJ'),\n",
       " ('W', 'NNP'),\n",
       " ('h', 'NN'),\n",
       " ('a', 'DT'),\n",
       " ('t', 'NN'),\n",
       " (' ', 'NNP'),\n",
       " ('d', 'NN'),\n",
       " ('i', 'NN'),\n",
       " ('r', 'VBP'),\n",
       " ('e', 'NN'),\n",
       " (' ', 'NNP'),\n",
       " ('o', 'VBZ'),\n",
       " ('f', 'JJ'),\n",
       " ('f', 'JJ'),\n",
       " ('e', 'NN'),\n",
       " ('n', 'JJ'),\n",
       " ('c', 'NN'),\n",
       " ('e', 'NN'),\n",
       " (' ', 'NNP'),\n",
       " ('f', 'NN'),\n",
       " ('r', 'NN')]"
      ]
     },
     "execution_count": 25,
     "metadata": {
      "tags": []
     },
     "output_type": "execute_result"
    }
   ],
   "source": [
    "# tag the poem!\n",
    "import nltk\n",
    "nltk.download('averaged_perceptron_tagger')\n",
    "nltk.pos_tag(text[0:30])"
   ]
  },
  {
   "cell_type": "markdown",
   "metadata": {
    "id": "GZOZ2KeI-200"
   },
   "source": [
    "Oops that didn't work. Remember that the POS tagger we're using requires a list of words, and it read our file in as one long string. By default a string is divided into characters - it doesn't know what a \"word\" is. So we have to break that poem into words."
   ]
  },
  {
   "cell_type": "code",
   "execution_count": 28,
   "metadata": {
    "colab": {
     "base_uri": "https://localhost:8080/",
     "height": 561
    },
    "id": "AX3rCxg_-201",
    "outputId": "0f8c9c30-cb97-4e90-987a-40458512d35b"
   },
   "outputs": [
    {
     "name": "stdout",
     "output_type": "stream",
     "text": [
      "[nltk_data] Downloading package punkt to /root/nltk_data...\n",
      "[nltk_data]   Package punkt is already up-to-date!\n"
     ]
    },
    {
     "data": {
      "text/plain": [
       "['Canto',\n",
       " 'I',\n",
       " 'What',\n",
       " 'dire',\n",
       " 'offence',\n",
       " 'from',\n",
       " \"am'rous\",\n",
       " 'causes',\n",
       " 'springs',\n",
       " ',',\n",
       " 'What',\n",
       " 'mighty',\n",
       " 'contests',\n",
       " 'rise',\n",
       " 'from',\n",
       " 'trivial',\n",
       " 'things',\n",
       " ',',\n",
       " 'I',\n",
       " 'sing',\n",
       " '—',\n",
       " 'This',\n",
       " 'verse',\n",
       " 'to',\n",
       " 'Caryl',\n",
       " ',',\n",
       " 'Muse',\n",
       " '!',\n",
       " 'is',\n",
       " 'due']"
      ]
     },
     "execution_count": 28,
     "metadata": {
      "tags": []
     },
     "output_type": "execute_result"
    }
   ],
   "source": [
    "# break a text into a series of words\n",
    "import nltk\n",
    "nltk.download('punkt') \n",
    "words = nltk.word_tokenize(text)\n",
    "    \n",
    "words[0:30]"
   ]
  },
  {
   "cell_type": "code",
   "execution_count": 29,
   "metadata": {
    "colab": {
     "base_uri": "https://localhost:8080/",
     "height": 154
    },
    "id": "J9WvlgzE-204",
    "outputId": "429ec105-591a-46b8-be7b-fcc8d27dd35f"
   },
   "outputs": [
    {
     "data": {
      "application/vnd.google.colaboratory.intrinsic+json": {
       "type": "string"
      },
      "text/plain": [
       "\"NNP PRP WP VBD NN IN JJ NNS NNS , WP VBD NNS NN IN JJ NNS , PRP VBP PDT DT NN TO NNP , NNP . VBZ JJ : DT , FW NNP MD VB TO VB : NNP VBZ DT NN , CC RB IN DT NN , IN PRP VBP , CC PRP VB PRP$ NNS . VB WP JJ NN , NNP . MD VB DT JJ NNP NN '' NN DT JJ NNP . NNP VBP WP NN NN , CC JJ NN , NNP VB DT JJ NNP VBP DT NNP . IN NNS RB RB , MD VB NNS VB , CC IN JJ NNS NNS JJ JJ NNP . NNP NN '' JJ NNS VBD DT JJ NN , CC VBD DT NNS WDT MD VB DT NN : RB VBP JJ PRP DT VBG NN , CC NN NNS , RB IN NN , NN : NNP VBD DT NN , DT NN NN VBD DT NN , CC DT NN MD VB NN MD DT JJ NN . NNP RB PRP$ NN NN NN , NNP NN NNP RB VBD DT NN NN : CC PRP VBD VBN MD TO PRP$ JJ NN DT NN IN NN MD VB PRP$ NN : NNP NNP RBR NN IN DT JJ NNP , ( DT NN IN NN NN MD PRP$ NN TO VB ) NNP MD TO PRP$ VB PRP$ VBG NNS TO VB , CC RB IN NNS VBD , CC VBP MD TO VB . NNP IN NNS , EX JJ MD VB IN NN JJ NNS IN NNP . IN JJ CD NN NN . MD VB JJ NN , IN PDT DT NNP CC PDT DT NNP VBP VBN : IN NN NNS IN NN NNS VBN , DT NN NN , CC DT JJ JJ , CC NNS VBN IN NNP , I\""
      ]
     },
     "execution_count": 29,
     "metadata": {
      "tags": []
     },
     "output_type": "execute_result"
    }
   ],
   "source": [
    "tag_pairs = nltk.pos_tag(words)\n",
    "\n",
    "just_tags = []\n",
    "for tag_pair in tag_pairs:\n",
    "    just_tags.append(tag_pair[1])\n",
    "    \n",
    "' '.join(just_tags)[:1000]"
   ]
  },
  {
   "cell_type": "markdown",
   "metadata": {
    "id": "C3m5zrfw-206"
   },
   "source": [
    "But that is a little unhelpful, because it takes the tags and combines them one long line of text. This is poetry, and we want to respect the lines. Until now we have been arbitraily cutting off our output to make it more legible after the first 1000 characters, 100 words, etc. But, again, that's not super meaningful for poetry. Having things in terms of lines will make it easier to select a smaller unit of the poem."
   ]
  },
  {
   "cell_type": "code",
   "execution_count": 30,
   "metadata": {
    "colab": {
     "base_uri": "https://localhost:8080/",
     "height": 102
    },
    "id": "IqdEgIqh-207",
    "outputId": "42a6f281-04c7-48cb-ba89-57d9fc10ef27"
   },
   "outputs": [
    {
     "data": {
      "text/plain": [
       "[[],\n",
       " ['Canto', 'I'],\n",
       " [],\n",
       " ['What', 'dire', 'offence', 'from', \"am'rous\", 'causes', 'springs', ','],\n",
       " ['What', 'mighty', 'contests', 'rise', 'from', 'trivial', 'things', ',']]"
      ]
     },
     "execution_count": 30,
     "metadata": {
      "tags": []
     },
     "output_type": "execute_result"
    }
   ],
   "source": [
    "lines = text.split('\\n')\n",
    "\n",
    "tokenized_lines = []\n",
    "for line in lines:\n",
    "    words = nltk.word_tokenize(line)\n",
    "    tokenized_lines.append(words)\n",
    "\n",
    "tokenized_lines[0:5]"
   ]
  },
  {
   "cell_type": "code",
   "execution_count": 31,
   "metadata": {
    "colab": {
     "base_uri": "https://localhost:8080/",
     "height": 340
    },
    "id": "Bq1c2E99-20-",
    "outputId": "0c990161-05be-4b1e-847e-d353cb81e169"
   },
   "outputs": [
    {
     "data": {
      "text/plain": [
       "[[],\n",
       " ['Canto/NNP', 'I/PRP'],\n",
       " [],\n",
       " ['What/WP',\n",
       "  'dire/VBD',\n",
       "  'offence/NN',\n",
       "  'from/IN',\n",
       "  \"am'rous/JJ\",\n",
       "  'causes/NNS',\n",
       "  'springs/NNS',\n",
       "  ',/,'],\n",
       " ['What/WP',\n",
       "  'mighty/NN',\n",
       "  'contests/NNS',\n",
       "  'rise/VBP',\n",
       "  'from/IN',\n",
       "  'trivial/JJ',\n",
       "  'things/NNS',\n",
       "  ',/,']]"
      ]
     },
     "execution_count": 31,
     "metadata": {
      "tags": []
     },
     "output_type": "execute_result"
    }
   ],
   "source": [
    "# now that we have the lines as a series of words (or tokens) - let's go through and tag them\n",
    "\n",
    "tagged_lines = []\n",
    "for line in tokenized_lines:\n",
    "    tagged_lines.append(nltk.pos_tag(line))\n",
    "\n",
    "just_tags_for_lines = []\n",
    "\n",
    "for line in tagged_lines:\n",
    "    this_line = []\n",
    "    for tag_pair in line:\n",
    "        this_line.append(tag_pair[0] +'/'+ tag_pair[1])\n",
    "    just_tags_for_lines.append(this_line)\n",
    "\n",
    "just_tags_for_lines[0:5]"
   ]
  },
  {
   "cell_type": "markdown",
   "metadata": {
    "id": "ckRz7W41ydnz"
   },
   "source": [
    "## Tagged Pope Example"
   ]
  },
  {
   "cell_type": "code",
   "execution_count": 32,
   "metadata": {
    "colab": {
     "base_uri": "https://localhost:8080/",
     "height": 527
    },
    "id": "baP5VPYG-21A",
    "outputId": "ecdded6e-4ae5-46e7-c91f-bdfccb35a254"
   },
   "outputs": [
    {
     "name": "stdout",
     "output_type": "stream",
     "text": [
      "\n",
      "Canto/NNP  I/PRP\n",
      "\n",
      "What/WP  dire/VBD  offence/NN  from/IN  am'rous/JJ  causes/NNS  springs/NNS  ,/,\n",
      "What/WP  mighty/NN  contests/NNS  rise/VBP  from/IN  trivial/JJ  things/NNS  ,/,\n",
      "I/PRP  sing/VBG  —/RBR  This/DT  verse/NN  to/TO  Caryl/NNP  ,/,  Muse/NNP  !/.  is/VBZ  due/JJ  :/:\n",
      "This/DT  ,/,  ev'n/FW  Belinda/NNP  may/MD  vouchsafe/VB  to/TO  view/NN  :/:\n",
      "Slight/NNP  is/VBZ  the/DT  subject/NN  ,/,  but/CC  not/RB  so/IN  the/DT  praise/NN  ,/,\n",
      "If/IN  She/PRP  inspire/VBP  ,/,  and/CC  He/PRP  approve/VB  my/PRP$  lays/NNS  ./.\n",
      "\n",
      "Say/NNP  what/WP  strange/JJ  motive/NN  ,/,  Goddess/NNP  !/.  could/MD  compel/VB\n",
      "A/DT  well-bred/JJ  Lord/NNP  t/NN  '/''  assault/NN  a/DT  gentle/JJ  Belle/NNP  ?/.\n",
      "O/NNP  say/VBP  what/WP  stranger/NN  cause/NN  ,/,  yet/CC  unexplor/JJ  'd/NN  ,/,\n",
      "Could/NNP  make/VB  a/DT  gentle/JJ  Belle/NNP  reject/VBP  a/DT  Lord/NNP  ?/.\n",
      "In/IN  tasks/NNS  so/RB  bold/RB  ,/,  can/MD  little/VB  men/NNS  engage/VB  ,/,\n",
      "And/CC  in/IN  soft/JJ  bosoms/NNS  dwells/NNS  such/JJ  mighty/JJ  Rage/NN  ?/.\n",
      "\n",
      "Sol/NNP  thro/NN  '/''  white/JJ  curtains/NNS  shot/VBD  a/DT  tim'rous/JJ  ray/NN  ,/,\n",
      "And/CC  oped/VBD  those/DT  eyes/NNS  that/WDT  must/MD  eclipse/VB  the/DT  day/NN  :/:\n",
      "Now/RB  lap-dogs/JJ  give/VBP  themselves/PRP  the/DT  rousing/VBG  shake/NN  ,/,\n",
      "And/CC  sleepless/NN  lovers/NNS  ,/,  just/RB  at/IN  twelve/NN  ,/,  awake/NN  :/:\n",
      "Thrice/NNP  rung/VBD  the/DT  bell/NN  ,/,  the/DT  slipper/NN  knock/NN  'd/VBD  the/DT  ground/NN  ,/,\n",
      "And/CC  the/DT  press/NN  'd/MD  watch/VB  return/NN  'd/MD  a/DT  silver/JJ  sound/NN  ./.\n",
      "Belinda/NNP  still/RB  her/PRP$  downy/NN  pillow/NN  prest/NN  ,/,\n",
      "Her/PRP$  guardian/JJ  Sylph/NNP  prolong/NN  'd/VBD  the/DT  balmy/NN  rest/NN  :/:\n",
      "'T/NN  was/VBD  He/PRP  had/VBD  summon/VBN  'd/MD  to/TO  her/PRP$  silent/JJ  bed/NN\n",
      "The/DT  morning-dream/NN  that/IN  hover/NN  'd/MD  o'er/VB  her/PRP$  head/NN  ;/:\n",
      "A/DT  Youth/NNP  more/RBR  glitt'ring/NN  than/IN  a/DT  Birth-night/JJ  Beau/NNP  ,/,\n",
      "(/(  That/DT  ev'n/NN  in/IN  slumber/NN  caus/NN  'd/MD  her/PRP$  cheek/NN  to/TO  glow/VB  )/)\n",
      "Seem/NNP  'd/MD  to/TO  her/PRP$  ear/VB  his/PRP$  winning/VBG  lips/NNS  to/TO  lay/VB  ,/,\n"
     ]
    }
   ],
   "source": [
    "# but that is kind of gross to read, so let's put things back together as a poem,\n",
    "# without the brackets, commas, etc. that python requires to run\n",
    "\n",
    "transformed_poem = []\n",
    "for line in just_tags_for_lines:\n",
    "    transformed_poem.append('  '.join(line))\n",
    "    \n",
    "    \n",
    "for line in transformed_poem[0:30]:\n",
    "    print(line)"
   ]
  },
  {
   "cell_type": "markdown",
   "metadata": {
    "id": "8_zX0Ktt2tGo"
   },
   "source": [
    "## Try it 2 - Tag a (short) text with NLTK"
   ]
  },
  {
   "cell_type": "code",
   "execution_count": 33,
   "metadata": {
    "colab": {
     "base_uri": "https://localhost:8080/",
     "height": 374
    },
    "id": "3D-A2jig-21D",
    "outputId": "14d81029-5b2c-431b-b275-73346d6771d1"
   },
   "outputs": [
    {
     "name": "stdout",
     "output_type": "stream",
     "text": [
      "[nltk_data] Downloading package averaged_perceptron_tagger to\n",
      "[nltk_data]     /root/nltk_data...\n",
      "[nltk_data]   Package averaged_perceptron_tagger is already up-to-\n",
      "[nltk_data]       date!\n",
      "\n",
      "Canto/NNP  I/PRP\n",
      "\n",
      "What/WP  dire/VBD  offence/NN  from/IN  am'rous/JJ  causes/NNS  springs/NNS  ,/,\n",
      "What/WP  mighty/NN  contests/NNS  rise/VBP  from/IN  trivial/JJ  things/NNS  ,/,\n",
      "I/PRP  sing/VBG  —/RBR  This/DT  verse/NN  to/TO  Caryl/NNP  ,/,  Muse/NNP  !/.  is/VBZ  due/JJ  :/:\n",
      "This/DT  ,/,  ev'n/FW  Belinda/NNP  may/MD  vouchsafe/VB  to/TO  view/NN  :/:\n",
      "Slight/NNP  is/VBZ  the/DT  subject/NN  ,/,  but/CC  not/RB  so/IN  the/DT  praise/NN  ,/,\n",
      "If/IN  She/PRP  inspire/VBP  ,/,  and/CC  He/PRP  approve/VB  my/PRP$  lays/NNS  ./.\n",
      "\n",
      "Say/NNP  what/WP  strange/JJ  motive/NN  ,/,  Goddess/NNP  !/.  could/MD  compel/VB\n",
      "A/DT  well-bred/JJ  Lord/NNP  t/NN  '/''  assault/NN  a/DT  gentle/JJ  Belle/NNP  ?/.\n",
      "O/NNP  say/VBP  what/WP  stranger/NN  cause/NN  ,/,  yet/CC  unexplor/JJ  'd/NN  ,/,\n",
      "Could/NNP  make/VB  a/DT  gentle/JJ  Belle/NNP  reject/VBP  a/DT  Lord/NNP  ?/.\n",
      "In/IN  tasks/NNS  so/RB  bold/RB  ,/,  can/MD  little/VB  men/NNS  engage/VB  ,/,\n",
      "And/CC  in/IN  soft/JJ  bosoms/NNS  dwells/NNS  such/JJ  mighty/JJ  Rage/NN  ?/.\n",
      "\n"
     ]
    }
   ],
   "source": [
    "import nltk\n",
    "nltk.download('averaged_perceptron_tagger')\n",
    "\n",
    "text = \"\"\"\n",
    "Canto I\n",
    "\n",
    "What dire offence from am'rous causes springs, \n",
    "What mighty contests rise from trivial things, \n",
    "I sing — This verse to Caryl, Muse! is due: \n",
    "This, ev'n Belinda may vouchsafe to view: \n",
    "Slight is the subject, but not so the praise,\n",
    "If She inspire, and He approve my lays. \n",
    "\n",
    "Say what strange motive, Goddess! could compel\n",
    "A well-bred Lord t' assault a gentle Belle?\n",
    "O say what stranger cause, yet unexplor'd,\n",
    "Could make a gentle Belle reject a Lord?\n",
    "In tasks so bold, can little men engage,\n",
    "And in soft bosoms dwells such mighty Rage? \n",
    "\"\"\"\n",
    "\n",
    "#  let's make that a function for ease of use and just operate on the first two stanzas:\n",
    "def nltk_pos_transform(text):\n",
    "    \"\"\"Given a filename, take a poem and transform it into its POS tags\"\"\"\n",
    "    lines = text.split('\\n')\n",
    "\n",
    "\n",
    "    tokenized_lines = []\n",
    "    for line in lines:\n",
    "        words = nltk.word_tokenize(line)\n",
    "        tokenized_lines.append(words)\n",
    "\n",
    "    tagged_lines = []\n",
    "    for line in tokenized_lines:\n",
    "        tagged_lines.append(nltk.pos_tag(line))\n",
    "\n",
    "    just_tags_for_lines = []\n",
    "\n",
    "    for line in tagged_lines:\n",
    "        this_line = []\n",
    "        for tag_pair in line:\n",
    "            this_line.append(tag_pair[0] + '/' + tag_pair[1])\n",
    "        just_tags_for_lines.append(this_line)\n",
    "\n",
    "    # reconstituting them now\n",
    "    transformed_poem = []\n",
    "    for line in just_tags_for_lines:\n",
    "        transformed_poem.append('  '.join(line))\n",
    "\n",
    "\n",
    "    for line in transformed_poem:\n",
    "        print(line)\n",
    "\n",
    "nltk_pos_transform(text)\n"
   ]
  },
  {
   "cell_type": "code",
   "execution_count": 36,
   "metadata": {
    "colab": {
     "base_uri": "https://localhost:8080/",
     "height": 272
    },
    "id": "sgTmuHXR-21H",
    "outputId": "5b88b30b-d28b-446b-aa5c-2d9e7b1082c2"
   },
   "outputs": [
    {
     "name": "stdout",
     "output_type": "stream",
     "text": [
      "\n",
      "Canto/NNP  I/PRP\n",
      "\n",
      "What/WP  dire/JJ  offence/NN  from/IN  am'rous/JJ  causes/NNS  springs/NNS  ,/,\n",
      "What/WP  mighty/JJ  contests/NNS  rise/VBP  from/IN  trivial/JJ  things/NNS  ,/.\n",
      "I/PRP  sing/VBP  —/:  This/DT  verse/NN  to/IN  Caryl/NNP  ,/,  Muse/NNP  !/.  is/VBZ  due/JJ  :/:\n",
      "This/DT  ,/,  ev'n/VBZ  Belinda/NNP  may/MD  vouchsafe/VB  to/TO  view/VB  :/:\n",
      "Slight/JJ  is/VBZ  the/DT  subject/NN  ,/,  but/CC  not/RB  so/RB  the/DT  praise/NN  ,/,\n",
      "If/IN  She/PRP  inspire/VBP  ,/,  and/CC  He/PRP  approve/VBP  my/PRP$  lays/NNS  ./.\n",
      "\n",
      "Say/VB  what/WP  strange/JJ  motive/NN  ,/,  Goddess/NNP  !/.  could/MD  compel/VB\n",
      "A/DT  well/RB  -/HYPH  bred/VBN  Lord/NNP  t/NNP  '/''  assault/NN  a/DT  gentle/JJ  Belle/NNP  ?/.\n",
      "O/UH  say/VB  what/WP  stranger/NN  cause/NN  ,/,  yet/CC  unexplor'd/CD  ,/,\n",
      "Could/MD  make/VB  a/DT  gentle/JJ  Belle/NNP  reject/VB  a/DT  Lord/NNP  ?/.\n",
      "In/IN  tasks/NNS  so/RB  bold/RB  ,/,  can/MD  little/JJ  men/NNS  engage/VB  ,/,\n"
     ]
    }
   ],
   "source": [
    "import spacy\n",
    "import en_core_web_sm\n",
    "\n",
    "# let's do the same thing with spacy\n",
    "\n",
    "def spacy_pos_transform(text):\n",
    "    \"\"\"Given a filename, take a poem and transform it into its POS tags\"\"\"\n",
    "    nlp = en_core_web_sm.load()\n",
    "    lines = text.split('\\n')\n",
    "\n",
    "    spacy_lines = []\n",
    "    for line in lines[:15]:\n",
    "        this_line = []\n",
    "        doc = nlp(line)\n",
    "        for token in doc:\n",
    "            if token.tag_ != \"_SP\":\n",
    "                this_line.append(token.text + '/' + token.tag_) \n",
    "        spacy_lines.append(this_line)\n",
    "    # reconstituting them now\n",
    "    transformed_poem = []\n",
    "    for line in spacy_lines:\n",
    "        transformed_poem.append('  '.join(line))\n",
    "\n",
    "\n",
    "    for line in transformed_poem:\n",
    "        print(line)\n",
    "\n",
    "spacy_pos_transform(text)\n"
   ]
  },
  {
   "cell_type": "markdown",
   "metadata": {
    "id": "WR4LA0TIymBR"
   },
   "source": [
    "## Tagged Comparison with NLTK and spaCy"
   ]
  },
  {
   "cell_type": "markdown",
   "metadata": {
    "id": "VH7PXxIh-21K"
   },
   "source": [
    "Let's compare the two against each other:"
   ]
  },
  {
   "cell_type": "code",
   "execution_count": 37,
   "metadata": {
    "colab": {
     "base_uri": "https://localhost:8080/",
     "height": 612
    },
    "id": "Hs9ARbks-21K",
    "outputId": "0ec93d60-de81-4bee-aea2-5d34b7d96af9"
   },
   "outputs": [
    {
     "name": "stdout",
     "output_type": "stream",
     "text": [
      "NLTK transform results:\n",
      "\n",
      "Canto/NNP  I/PRP\n",
      "\n",
      "What/WP  dire/VBD  offence/NN  from/IN  am'rous/JJ  causes/NNS  springs/NNS  ,/,\n",
      "What/WP  mighty/NN  contests/NNS  rise/VBP  from/IN  trivial/JJ  things/NNS  ,/,\n",
      "I/PRP  sing/VBG  —/RBR  This/DT  verse/NN  to/TO  Caryl/NNP  ,/,  Muse/NNP  !/.  is/VBZ  due/JJ  :/:\n",
      "This/DT  ,/,  ev'n/FW  Belinda/NNP  may/MD  vouchsafe/VB  to/TO  view/NN  :/:\n",
      "Slight/NNP  is/VBZ  the/DT  subject/NN  ,/,  but/CC  not/RB  so/IN  the/DT  praise/NN  ,/,\n",
      "If/IN  She/PRP  inspire/VBP  ,/,  and/CC  He/PRP  approve/VB  my/PRP$  lays/NNS  ./.\n",
      "\n",
      "Say/NNP  what/WP  strange/JJ  motive/NN  ,/,  Goddess/NNP  !/.  could/MD  compel/VB\n",
      "A/DT  well-bred/JJ  Lord/NNP  t/NN  '/''  assault/NN  a/DT  gentle/JJ  Belle/NNP  ?/.\n",
      "O/NNP  say/VBP  what/WP  stranger/NN  cause/NN  ,/,  yet/CC  unexplor/JJ  'd/NN  ,/,\n",
      "Could/NNP  make/VB  a/DT  gentle/JJ  Belle/NNP  reject/VBP  a/DT  Lord/NNP  ?/.\n",
      "In/IN  tasks/NNS  so/RB  bold/RB  ,/,  can/MD  little/VB  men/NNS  engage/VB  ,/,\n",
      "And/CC  in/IN  soft/JJ  bosoms/NNS  dwells/NNS  such/JJ  mighty/JJ  Rage/NN  ?/.\n",
      "\n",
      "=========\n",
      "Spacy transform results:\n",
      "\n",
      "Canto/NNP  I/PRP\n",
      "\n",
      "What/WP  dire/JJ  offence/NN  from/IN  am'rous/JJ  causes/NNS  springs/NNS  ,/,\n",
      "What/WP  mighty/JJ  contests/NNS  rise/VBP  from/IN  trivial/JJ  things/NNS  ,/.\n",
      "I/PRP  sing/VBP  —/:  This/DT  verse/NN  to/IN  Caryl/NNP  ,/,  Muse/NNP  !/.  is/VBZ  due/JJ  :/:\n",
      "This/DT  ,/,  ev'n/VBZ  Belinda/NNP  may/MD  vouchsafe/VB  to/TO  view/VB  :/:\n",
      "Slight/JJ  is/VBZ  the/DT  subject/NN  ,/,  but/CC  not/RB  so/RB  the/DT  praise/NN  ,/,\n",
      "If/IN  She/PRP  inspire/VBP  ,/,  and/CC  He/PRP  approve/VBP  my/PRP$  lays/NNS  ./.\n",
      "\n",
      "Say/VB  what/WP  strange/JJ  motive/NN  ,/,  Goddess/NNP  !/.  could/MD  compel/VB\n",
      "A/DT  well/RB  -/HYPH  bred/VBN  Lord/NNP  t/NNP  '/''  assault/NN  a/DT  gentle/JJ  Belle/NNP  ?/.\n",
      "O/UH  say/VB  what/WP  stranger/NN  cause/NN  ,/,  yet/CC  unexplor'd/CD  ,/,\n",
      "Could/MD  make/VB  a/DT  gentle/JJ  Belle/NNP  reject/VB  a/DT  Lord/NNP  ?/.\n",
      "In/IN  tasks/NNS  so/RB  bold/RB  ,/,  can/MD  little/JJ  men/NNS  engage/VB  ,/,\n"
     ]
    }
   ],
   "source": [
    "print('NLTK transform results:')\n",
    "nltk_pos_transform(text)\n",
    "print('=========')\n",
    "print('Spacy transform results:')\n",
    "spacy_pos_transform(text)"
   ]
  },
  {
   "cell_type": "markdown",
   "metadata": {
    "id": "bkLlKZCfy3N5"
   },
   "source": [
    "## Try it 3 - paste a text for tag comparison"
   ]
  },
  {
   "cell_type": "markdown",
   "metadata": {
    "id": "q6HvMWf4-21N"
   },
   "source": [
    "Can be difficult to compare. Let's make a function that compares the two outputs and gives a 1 if they are the same or a 0 if they are different. And since you might want to upload your text, let's change things slightly. Rather than use an external file, the following code block will just take a long pasted string. So you could paste your own poem from on the web if you'd like!  \n",
    "\n"
   ]
  },
  {
   "cell_type": "code",
   "execution_count": 38,
   "metadata": {
    "colab": {
     "base_uri": "https://localhost:8080/",
     "height": 972
    },
    "id": "DQusbThV-21N",
    "outputId": "d745e37e-19b4-40e7-ca37-d42f9db179c9"
   },
   "outputs": [
    {
     "name": "stdout",
     "output_type": "stream",
     "text": [
      "NLTK transform results:\n",
      "\n",
      "Canto/NNP  I/PRP\n",
      "\n",
      "What/WP  dire/VBD  offence/NN  from/IN  am'rous/JJ  causes/NNS  springs/NNS  ,/,\n",
      "What/WP  mighty/NN  contests/NNS  rise/VBP  from/IN  trivial/JJ  things/NNS  ,/,\n",
      "I/PRP  sing/VBG  —/RBR  This/DT  verse/NN  to/TO  Caryl/NNP  ,/,  Muse/NNP  !/.  is/VBZ  due/JJ  :/:\n",
      "This/DT  ,/,  ev'n/FW  Belinda/NNP  may/MD  vouchsafe/VB  to/TO  view/NN  :/:\n",
      "Slight/NNP  is/VBZ  the/DT  subject/NN  ,/,  but/CC  not/RB  so/IN  the/DT  praise/NN  ,/,\n",
      "If/IN  She/PRP  inspire/VBP  ,/,  and/CC  He/PRP  approve/VB  my/PRP$  lays/NNS  ./.\n",
      "\n",
      "Say/NNP  what/WP  strange/JJ  motive/NN  ,/,  Goddess/NNP  !/.  could/MD  compel/VB\n",
      "A/DT  well-bred/JJ  Lord/NNP  t/NN  '/''  assault/NN  a/DT  gentle/JJ  Belle/NNP  ?/.\n",
      "O/NNP  say/VBP  what/WP  stranger/NN  cause/NN  ,/,  yet/CC  unexplor/JJ  'd/NN  ,/,\n",
      "Could/NNP  make/VB  a/DT  gentle/JJ  Belle/NNP  reject/VBP  a/DT  Lord/NNP  ?/.\n",
      "In/IN  tasks/NNS  so/RB  bold/RB  ,/,  can/MD  little/VB  men/NNS  engage/VB  ,/,\n",
      "And/CC  in/IN  soft/JJ  bosoms/NNS  dwells/NNS  such/JJ  mighty/JJ  Rage/NN  ?/.\n",
      "\n",
      "=========\n",
      "Spacy transform results:\n",
      "\n",
      "Canto/NNP  I/PRP\n",
      "\n",
      "What/WP  dire/JJ  offence/NN  from/IN  am'rous/JJ  causes/NNS  springs/NNS  ,/,\n",
      "What/WP  mighty/JJ  contests/NNS  rise/VBP  from/IN  trivial/JJ  things/NNS  ,/.\n",
      "I/PRP  sing/VBP  —/:  This/DT  verse/NN  to/IN  Caryl/NNP  ,/,  Muse/NNP  !/.  is/VBZ  due/JJ  :/:\n",
      "This/DT  ,/,  ev'n/VBZ  Belinda/NNP  may/MD  vouchsafe/VB  to/TO  view/VB  :/:\n",
      "Slight/JJ  is/VBZ  the/DT  subject/NN  ,/,  but/CC  not/RB  so/RB  the/DT  praise/NN  ,/,\n",
      "If/IN  She/PRP  inspire/VBP  ,/,  and/CC  He/PRP  approve/VBP  my/PRP$  lays/NNS  ./.\n",
      "\n",
      "Say/VB  what/WP  strange/JJ  motive/NN  ,/,  Goddess/NNP  !/.  could/MD  compel/VB\n",
      "A/DT  well/RB  -/HYPH  bred/VBN  Lord/NNP  t/NNP  '/''  assault/NN  a/DT  gentle/JJ  Belle/NNP  ?/.\n",
      "O/UH  say/VB  what/WP  stranger/NN  cause/NN  ,/,  yet/CC  unexplor'd/CD  ,/,\n",
      "Could/MD  make/VB  a/DT  gentle/JJ  Belle/NNP  reject/VB  a/DT  Lord/NNP  ?/.\n",
      "In/IN  tasks/NNS  so/RB  bold/RB  ,/,  can/MD  little/JJ  men/NNS  engage/VB  ,/,\n",
      "And/CC  in/IN  soft/JJ  bosoms/NNS  dwells/NNS  such/JJ  mighty/JJ  Rage/NN  ?/.\n",
      "\n",
      "Comparison legend: 1 is the same tag in both systems. If different it prints the word followed by the spacy tag and then the nltk tag, separated by a |\n",
      "\n",
      "1\n",
      "\n",
      "1  dire/JJ|VBD  1  1  1  1  1  1  1\n",
      "1  mighty/JJ|NN  1  1  1  1  1  1  1\n",
      "1  sing/VBP|VBG  —/|RBR  :|DT  This/DT|NN  verse/NN|TO  to/IN|NNP  ,|  ,|NNP  !|  .|VBZ  is/VBZ|JJ  :|\n",
      "1  1  1  1  ev'n/VBZ|FW  1  1  1  1  view/VB|NN  1  1\n",
      "Slight/JJ|NNP  1  1  1  1  1  1  1  1  so/RB|IN  1  1  1  1\n",
      "1  1  1  1  1  1  1  1  approve/VBP|VB  1  1  1  1\n",
      "\n",
      "Say/VB|NNP  1  1  1  1  1  1  1  1  1  1  1\n",
      "1  well/RB|JJ  -/HYPH|NNP  bred/VBN|NN  Lord/NNP|  '/|NN  ''|DT  assault/NN|JJ  a/DT|NNP  Belle/NNP|\n",
      "O/UH|NNP  say/VB|VBP  1  1  1  1  1  1  1  unexplor'd/CD|JJ  ,|NN\n",
      "Could/MD|NNP  1  1  1  1  reject/VB|VBP  1  1  1  1\n",
      "1  1  1  1  1  1  1  1  little/JJ|VB  1  1  1  1\n",
      "1  1  1  1  1  1  1  1  1  1\n",
      "\n"
     ]
    }
   ],
   "source": [
    "# This is a good place to try subbing in your own text you have to leave in the \n",
    "# three quotation marks at the beginning and end, but could otherwise pick anything\n",
    "# to tag and see the output\n",
    "import spacy\n",
    "import en_core_web_sm\n",
    "import nltk\n",
    "\n",
    "our_text = \"\"\"\n",
    "Canto I\n",
    "\n",
    "What dire offence from am'rous causes springs, \n",
    "What mighty contests rise from trivial things, \n",
    "I sing — This verse to Caryl, Muse! is due: \n",
    "This, ev'n Belinda may vouchsafe to view: \n",
    "Slight is the subject, but not so the praise,\n",
    "If She inspire, and He approve my lays. \n",
    "\n",
    "Say what strange motive, Goddess! could compel\n",
    "A well-bred Lord t' assault a gentle Belle?\n",
    "O say what stranger cause, yet unexplor'd,\n",
    "Could make a gentle Belle reject a Lord?\n",
    "In tasks so bold, can little men engage,\n",
    "And in soft bosoms dwells such mighty Rage? \n",
    "\"\"\"\n",
    "\n",
    "def spacy_pos_transform(text):\n",
    "    \"\"\"Given a string pasted in, take a poem and transform it into its POS tags\"\"\"\n",
    "    nlp = en_core_web_sm.load()\n",
    "    lines = text.split('\\n')\n",
    "    spacy_lines = []\n",
    "    for line in lines:\n",
    "        this_line = []\n",
    "        doc = nlp(line)\n",
    "        for token in doc:\n",
    "            if token.tag_ != \"_SP\":\n",
    "                this_line.append(token.text + '/' + token.tag_) \n",
    "        spacy_lines.append(this_line)\n",
    "    # reconstituting them now\n",
    "    transformed_poem = []\n",
    "    for line in spacy_lines:\n",
    "        transformed_poem.append('  '.join(line))\n",
    "\n",
    "    return transformed_poem\n",
    "\n",
    "def nltk_pos_transform(text):\n",
    "    \"\"\"Given a string pasted in, take a poem and transform it into its POS tags\"\"\"\n",
    "    lines = text.split('\\n')\n",
    "    tokenized_lines = []\n",
    "    for line in lines:\n",
    "        words = nltk.word_tokenize(line)\n",
    "        tokenized_lines.append(words)\n",
    "    tagged_lines = []\n",
    "    for line in tokenized_lines:\n",
    "        tagged_lines.append(nltk.pos_tag(line))\n",
    "    just_tags_for_lines = []\n",
    "\n",
    "    for line in tagged_lines:\n",
    "        this_line = []\n",
    "        for tag_pair in line:\n",
    "            this_line.append(tag_pair[0] + '/' + tag_pair[1])\n",
    "        just_tags_for_lines.append(this_line)\n",
    "    # reconstituting them now\n",
    "    transformed_poem = []\n",
    "    for line in just_tags_for_lines:\n",
    "        transformed_poem.append('  '.join(line))\n",
    "    return transformed_poem\n",
    "\n",
    "def binary_poem(spacy_text, nltk_text):\n",
    "    binary_poem = []\n",
    "    line_counter = 0\n",
    "    for line in spacy_text:\n",
    "        this_line = []\n",
    "        spacy_line = nltk.word_tokenize(line)\n",
    "        nltk_line = nltk.word_tokenize(nltk_text[line_counter])\n",
    "        for num, word in enumerate(spacy_line[:-1], start=0):\n",
    "            try:\n",
    "                if word == nltk_line[num]:\n",
    "                    this_line.append(1)\n",
    "                else:\n",
    "                    this_line.append(word+ '|' + nltk_line[num].split('/')[1])\n",
    "            except:\n",
    "                pass\n",
    "        binary_poem.append(this_line)\n",
    "        line_counter += 1\n",
    "    return binary_poem\n",
    "\n",
    "spacy_text = spacy_pos_transform(our_text)\n",
    "nltk_text = nltk_pos_transform(our_text)\n",
    "binary_poem = binary_poem(spacy_text, nltk_text)\n",
    "\n",
    "print('NLTK transform results:')\n",
    "for line in nltk_text:\n",
    "    print(line)\n",
    "print('=========')\n",
    "print('Spacy transform results:')\n",
    "for line in spacy_text:\n",
    "    print(line)\n",
    "print('Comparison legend: 1 is the same tag in both systems. If different it prints the word followed by the spacy tag and then the nltk tag, separated by a |')\n",
    "for line in binary_poem:\n",
    "    line = [str(item) for item in line]\n",
    "    print('  '.join(line))"
   ]
  },
  {
   "cell_type": "markdown",
   "metadata": {
    "id": "DaKrUvBezIPr"
   },
   "source": [
    "## Try it 4 - paste a text for tag sorting"
   ]
  },
  {
   "cell_type": "code",
   "execution_count": 39,
   "metadata": {
    "colab": {
     "base_uri": "https://localhost:8080/",
     "height": 1000
    },
    "id": "FKAQRKxH-21Q",
    "outputId": "821f68d2-3e5f-4a90-a782-649876c73160"
   },
   "outputs": [
    {
     "name": "stdout",
     "output_type": "stream",
     "text": [
      "===============\n",
      "Words tagged with variations of ADJ\n",
      "\n",
      "CD  unexplor'd  twelve  thousand  one  two\n",
      "\n",
      "JJ  dire  am'rous  mighty  trivial  due  Slight  strange  gentle  gentle  little  soft  such  mighty  white  tim'rous  awake  silver  balmy  silent  bright  green  golden  own  narrow  secret  learned  round  light  unseen  round  own  old  beauteous  soft  earthly  transient  dead  gilded  alive  first  fiery  Soft  elemental  light\n",
      "\n",
      "JJR  more  lower  more\n",
      "\n",
      "JJS  Fairest\n",
      "\n",
      "PDT  all  all  all\n",
      "\n",
      "VBD  shot  oped  rung  had  said  token  were\n",
      "\n",
      "VBG  rousing  doubting  Succeeding  yielding\n",
      "\n",
      "total counts:67\n",
      "\n",
      "\n",
      "===============\n",
      "Words tagged with variations of NOUN\n",
      "\n",
      "NN  offence  verse  subject  praise  motive  assault  stranger  cause  Rage  ray  day  lap  shake  sleepless  bell  slipper  ground  sound  downy  pillow  prest  guardian  rest  bed  morning  dream  head  Youth  glitt'ring  Birth  night  slumber  cheek  winning  Air  vision  touch  infant  thought  moonlight  silver  importance  pride  tho  credit  Militia  sky  tho  wing  Ring  equipage  mould  transition  air  breath  tho  joy  love  death  survive  pride  expire  retire  name  Water  glide  Tea  graver  Gnome  search  mischief  repair  sport  flutter\n",
      "\n",
      "NNP  Canto  Caryl  Muse  Belinda  Goddess  Lord  t  Belle  Belle  Lord  Thrice  Belinda  Sylph  Twas  Beau  thou  distinguish'd  care  e'er  Nurse  Priest  Angel  pow'rs  Fair  Innocent  Box  thou  hast  Air  Chair  Woman  Thence  Woman  Ombre  Fair  Flame  Salamander  Nymphs  Prude  Earth  Air\n",
      "\n",
      "NNS  causes  springs  contests  things  lays  tasks  men  bosoms  dwells  Sol  curtains  eyes  dogs  lovers  lips  whispers  mortals  Inhabitants  shadows  virgins  crowns  wreaths  views  things  truths  conceal'd  Maids  Children  reveal'd  Wits  Spirits  Pages  beings  inclos'd  Vehicles  vanities  vanities  cards  Chariots  Termagants  minds  Coquettes  Sylphs  fields\n",
      "\n",
      "NNPS  Elves  Elements  Souls  Sprites\n",
      "\n",
      "total counts:163\n",
      "\n",
      "\n",
      "===============\n",
      "Words tagged with variations of VB\n",
      "\n",
      "MD  may  could  Could  can  must  'd  may  shall\n",
      "\n",
      "VB  vouchsafe  view  Say  compel  say  make  reject  engage  eclipse  watch  o'er  glow  Seem'd  ear  lay  say  thy  airy  Hear  believe  give  believe  Know  Hang  Think  view  Think  Mount  take  sip  roam\n",
      "\n",
      "VBD  shot  oped  rung  had  said  token  were\n",
      "\n",
      "VBG  rousing  doubting  Succeeding  yielding\n",
      "\n",
      "VBN  bred  summon'd  taught  seen  circled  visited  bound  scorn  fled\n",
      "\n",
      "VBP  rise  sing  inspire  approve  thro  give  hover'd  have  know  are  fly  are  hover  repair  are\n",
      "\n",
      "VBZ  is  ev'n  is  knock'd  return'd  prolong'd  seem'd  flow'rs  unnumber'd  o'er  is  regards  plays  o'erlooks  sinks\n",
      "\n",
      "total counts:89\n",
      "\n",
      "\n",
      "leftover tags that were not accounted for in the mappings Brad gave me:\n"
     ]
    },
    {
     "data": {
      "text/plain": [
       "['PRP',\n",
       " 'WP',\n",
       " 'IN',\n",
       " ',',\n",
       " '.',\n",
       " ':',\n",
       " 'DT',\n",
       " 'TO',\n",
       " 'CC',\n",
       " 'RB',\n",
       " 'PRP$',\n",
       " 'HYPH',\n",
       " \"''\",\n",
       " 'UH',\n",
       " 'POS',\n",
       " 'WDT',\n",
       " 'XX',\n",
       " '``',\n",
       " '-LRB-',\n",
       " '-RRB-',\n",
       " 'WRB',\n",
       " 'RP']"
      ]
     },
     "execution_count": 39,
     "metadata": {
      "tags": []
     },
     "output_type": "execute_result"
    }
   ],
   "source": [
    "import spacy\n",
    "import en_core_web_sm\n",
    "import nltk\n",
    "\n",
    "our_text = \"\"\"\n",
    "Canto I\n",
    "\n",
    "What dire offence from am'rous causes springs, \n",
    "What mighty contests rise from trivial things, \n",
    "I sing — This verse to Caryl, Muse! is due: \n",
    "This, ev'n Belinda may vouchsafe to view: \n",
    "Slight is the subject, but not so the praise,\n",
    "If She inspire, and He approve my lays. \n",
    "\n",
    "Say what strange motive, Goddess! could compel\n",
    "A well-bred Lord t' assault a gentle Belle?\n",
    "O say what stranger cause, yet unexplor'd,\n",
    "Could make a gentle Belle reject a Lord?\n",
    "In tasks so bold, can little men engage,\n",
    "And in soft bosoms dwells such mighty Rage? \n",
    "\n",
    "Sol thro' white curtains shot a tim'rous ray,\n",
    "And oped those eyes that must eclipse the day:\n",
    "Now lap-dogs give themselves the rousing shake,\n",
    "And sleepless lovers, just at twelve, awake:\n",
    "Thrice rung the bell, the slipper knock'd the ground,\n",
    "And the press'd watch return'd a silver sound.\n",
    "Belinda still her downy pillow prest, \n",
    "Her guardian Sylph prolong'd the balmy rest:\n",
    "'Twas He had summon'd to her silent bed\n",
    "The morning-dream that hover'd o'er her head;\n",
    "A Youth more glitt'ring than a Birth-night Beau,\n",
    "(That ev'n in slumber caus'd her cheek to glow)\n",
    "Seem'd to her ear his winning lips to lay,\n",
    "And thus in whispers said, or seem'd to say. \n",
    "Fairest of mortals, thou distinguish'd care\n",
    "Of thousand bright Inhabitants of Air! \n",
    "If e'er one vision touch.'d thy infant thought, \n",
    "Of all the Nurse and all the Priest have taught;\n",
    "Of airy Elves by moonlight shadows seen, \n",
    "The silver token, and the circled green, \n",
    "Or virgins visited by Angel-pow'rs, \n",
    "With golden crowns and wreaths of heav'nly flow'rs; \n",
    "Hear and believe! thy own importance know,\n",
    "Nor bound thy narrow views to things below. \n",
    "Some secret truths, from learned pride conceal'd,\n",
    "To Maids alone and Children are reveal'd:\n",
    "What tho' no credit doubting Wits may give? \n",
    "The Fair and Innocent shall still believe.\n",
    "Know, then, unnumber'd Spirits round thee fly, \n",
    "The light Militia of the lower sky: \n",
    "These, tho' unseen, are ever on the wing, \n",
    "Hang o'er the Box, and hover round the Ring. \n",
    "Think what an equipage thou hast in Air,\n",
    "And view with scorn two Pages and a Chair. \n",
    "As now your own, our beings were of old, \n",
    "And once inclos'd in Woman's beauteous mould; \n",
    "Thence, by a soft transition, we repair \n",
    "From earthly Vehicles to these of air.\n",
    "Think not, when Woman's transient breath is fled \n",
    "That all her vanities at once are dead; \n",
    "Succeeding vanities she still regards, \n",
    "And tho' she plays no more, o'erlooks the cards. \n",
    "Her joy in gilded Chariots, when alive,\n",
    "And love of Ombre, after death survive. \n",
    "For when the Fair in all their pride expire, \n",
    "To their first Elements their Souls retire: \n",
    "The Sprites of fiery Termagants in Flame \n",
    "Mount up, and take a Salamander's name.\n",
    "Soft yielding minds to Water glide away, \n",
    "And sip, with Nymphs, their elemental Tea. \n",
    "The graver Prude sinks downward to a Gnome, \n",
    "In search of mischief still on Earth to roam. \n",
    "The light Coquettes in Sylphs aloft repair,\n",
    "And sport and flutter in the fields of Air.  \n",
    "\"\"\"\n",
    "\n",
    "\n",
    "def spacy_pos_transform(text):\n",
    "    \"\"\"Given a string pasted in, take a poem and transform it into its POS tags\"\"\"\n",
    "    nlp = en_core_web_sm.load()\n",
    "    lines = text.split('\\n')\n",
    "    spacy_tags_sorted = {}\n",
    "    for line in lines:\n",
    "        doc = nlp(line)\n",
    "        for token in doc:\n",
    "            if token.tag_ != \"_SP\":\n",
    "                if token.tag_ in spacy_tags_sorted:\n",
    "                    spacy_tags_sorted[token.tag_].append(token.text)\n",
    "                else:\n",
    "                    spacy_tags_sorted[token.tag_] = [token.text]\n",
    "\n",
    "    return spacy_tags_sorted\n",
    "\n",
    "POS_mapping = {'ADJ': ['CD', 'JJ', 'JJR', 'JJS', 'PDT', 'VBD', 'VBG'], 'NOUN': ['NN', 'NNP', 'NNS', 'NNPS'], 'VB': ['MD', 'VB', 'VBD', 'VBG', 'VBN', 'VBP', 'VBZ']}\n",
    "\n",
    "spacy_tags_transformed = spacy_pos_transform(our_text)\n",
    "\n",
    "leftover_tags = list(spacy_tags_transformed.keys())\n",
    "\n",
    "for key, value in POS_mapping.items():\n",
    "    print('===============')\n",
    "    print('Words tagged with variations of ' + key + '\\n')\n",
    "    count = 0\n",
    "    for item in value:\n",
    "        if item in spacy_tags_transformed:\n",
    "            print(item + '  ' + '  '.join(spacy_tags_transformed[item]) + '\\n')\n",
    "            count = count + len(spacy_tags_transformed[item])\n",
    "            if item in leftover_tags:\n",
    "              leftover_tags.remove(item)\n",
    "    print('total counts:' + str(count))\n",
    "    print('\\n')\n",
    "\n",
    "print('leftover tags that were not accounted for in the mappings Brad gave me:')\n",
    "leftover_tags"
   ]
  },
  {
   "cell_type": "markdown",
   "metadata": {
    "id": "QorpfBU7-21S"
   },
   "source": [
    "If you're interested in digging deeper into the systems each of these tagging systems uses for part of speech:\n",
    "\n",
    "* NLTK is trained on a wall street journal corpus: https://stackoverflow.com/questions/32016545/how-does-nltk-pos-tag-work/41384824#:~:text=This%20basically%20means%20that%20it,not%20the%20guess%20was%20correct. It actually uses weighted averages.\n",
    "* More information on POS tagging systems - https://universaldependencies.org/docs/u/pos/\n",
    "\n",
    "* Spacy uses - OntoNotes Release 5.0 is the final release of the OntoNotes project, a collaborative effort between BBN Technologies, the University of Colorado, the University of Pennsylvania and the University of Southern Californias Information Sciences Institute. The goal of the project was to annotate a large corpus comprising various genres of text (news, conversational telephone speech, weblogs, usenet newsgroups, broadcast, talk shows) in three languages (English, Chinese, and Arabic) with structural information (syntax and predicate argument structure) and shallow semantics (word sense linked to an ontology and coreference).\n",
    "\n"
   ]
  },
  {
   "cell_type": "markdown",
   "metadata": {
    "id": "cT58187B-21S"
   },
   "source": [
    "Discussion Questions:\n",
    "\n",
    "* How could you imagine context playing a role here?\n",
    "* What are some other literary applications for POS tagging questions?\n",
    "* For supervised learning problems?\n",
    "* What other kinds of research questions are available here?\n",
    "\n"
   ]
  },
  {
   "cell_type": "markdown",
   "metadata": {
    "id": "Tgp7AeV38-YY"
   },
   "source": [
    "## Running this over the whole poem"
   ]
  },
  {
   "cell_type": "code",
   "execution_count": 40,
   "metadata": {
    "colab": {
     "base_uri": "https://localhost:8080/",
     "height": 1000
    },
    "id": "8xYLByW086Xd",
    "outputId": "16737b8f-6ab2-437a-cd55-5c1a66a44232"
   },
   "outputs": [
    {
     "name": "stdout",
     "output_type": "stream",
     "text": [
      "===============\n",
      "Words tagged with variations of ADJ\n",
      "\n",
      "CD  unexplor'd  twelve  thousand  one  two  one  two  twelve  three  three  fifty  seven  III  three  One  two  three  nine  four  four  Four  two  one  one  one  one  one  two  thousand  thousand  six  num'rous  Two  eighteen  one  One  fifty  fifteen  fav'rite  ten  num'rous  two  one  One  one  one  three\n",
      "\n",
      "JJ  dire  am'rous  mighty  trivial  due  Slight  strange  gentle  gentle  little  soft  such  mighty  white  tim'rous  awake  silver  balmy  silent  bright  green  golden  own  narrow  secret  learned  round  light  unseen  round  own  old  beauteous  soft  earthly  transient  dead  gilded  alive  first  fiery  Soft  elemental  light  fair  chaste  mortal  Safe  treach'rous  kind  warm  wise  conscious  disdain'd  gay  vacant  sweeping  soft  female  young  bidden  little  mystic  giddy  old  new  gentle  Beaux  watchful  clear  main  pious  thy  true  silver  mystic  white  inferior  sacred  various  curious  awful  fair  busy  own  etherial  alone  white  sparkling  sprightly  Quick  Bright  graceful  female  equal  conspir'd  smooth  mighty  hairy  Slight  finny  Fair  imperial  single  bright  Few  Propitious  vast  gilt  former  tender  am'rous  ardent  empty  Smooth  gay  careful  heavy  lucid  Soft  Transparent  fine  mortal  fluid  Loose  Thin  filmy  light  new  transient  gilded  Superior  purple  Ye  various  eternal  aërial  high  boundless  pale  fierce  kindly  human  own  divine  British  pleasing  glorious  rude  fresh  vernal  black  watchful  dire  slight  new  thine  special  important  fold  stiff  strong  wide  large  sharp  stopp'd  bitter  whole  silken  thin  giddy  orb  mazy  dire  Anxious  Close  majestic  foreign  great  various  instructive  charming  Indian  third  hungry  long  sacred  aërial  important  First  mindful  ancient  wondrous  fond  hoary  forky  fair  expressive  trusty  plain  skilful  sable  swarthy  unconquerable  captive  many  verdant  hard  Plebeian  broad  hoary  manly  many  colour'd  rebel  just  royal  mighty  Sad  destitute  imperial  black  haughty  barb'rous  regal  giant  unwieldy  pompous  monarchs  embroider'd  easy  wild  promiscuous  green  sable  different  various  various  wily  shameful  livid  oft  distemper'd  nice  gen'ral  unseen  captive  eager  prostrate  long  thoughtless  blind  Sudden  victorious  fiery  grateful  frequent  rich  Straight  careful  conscious  rich  wise  thro  half  late  just  fit  tempting  edg'd  little  fragrant  Swift  anxious  close  Sudden  earthly  fatal  wretched  sacred  fair  last  rich  high  glorious  small  solemn  bright  long  imperial  mortal  fair  unresisted  anxious  pensive  secret  youthful  alive  scornful  ardent  ancient  fierce  such  sad  sad  melancholy  fair  central  proper  gloomy  Swift  sooty  dismal  cheerful  sullen  dreaded  pensive  ancient  black  white  sickly  lisp  rich  fair  such  new  new  constant  Strange  Dreadful  bright  rolling  Pale  purple  liquid  Elysian  various  Goose  pow'rful  fancy  Safe  fantastic  wayward  female  poetic  various  various  proud  godly  equal  beauteous  rumpled  rude  costive  single  female  Soft  black  Full  mortal  fierce  wretched  such  constant  tort'ring  tender  double  helpless  infamy  inestimable  rapacious  precious  nice  clouded  earnest  round  unthinking  civil  much  sacred  parted  lovely  vital  proud  hateful  beauteous  half  heav'd  drooping  Happy  happy  first  mistaken  lone  distant  Northern  mortal  youthful  mute  unkind  mystic  poor  thy  rapine  sable  new  snowy  own  fatal  thy  sacrilegious  content  stopp'd  vain  fair  graceful  wise  vain  inmost  vain  good  front  first  small  old  earthly  good  dear  good  vain  pretty  fierce  tough  confus'dly  treble  common  mortal  bold  human  loud  pale  Triumphant  glad  cruel  mournful  upwards  last  flow'ry  bold  doughty  golden  doubtful  long  fierce  usual  unequal  bold  manly  wily  direct  pungent  Sudden  high  deadly  same  ancient  great  great  vast  other  low  lofty  alive  fierce  loud  oft  ambitious  pond'rous  broken  sick  quick  poetic  great  sudden  liquid  radiant  bright  propitious  cloudless  thro  egregious  bright  new  fair  such  fair  inscribe\n",
      "\n",
      "JJR  more  lower  more  keener  more  less  grosser  humbler  brighter  softer  more  louder  more  more  ravisher  more  more\n",
      "\n",
      "JJS  Fairest  most  drest  richest  purest  brightest  brightest  best  most  blest  blest\n",
      "\n",
      "PDT  all  all  all  all  all  all  half  all  half  all  all  all  half  all  half  all  all  all  all  all  such  all  such  all  all  all\n",
      "\n",
      "VBD  shot  oped  rung  had  said  token  were  did  saw  said  thought  slept  was  were  quicken  set  was  wore  had  hung  saw  rose  had  ev'ry  lay  gave  granted  was  sat  flew  was  brew  spoke  gave  paid  bore  said  were  swept  dejected  drew  spread  drew  sought  found  felt  withdrew  flew  stood  held  scribble  planted  was  gave  held  found  dejected  spread  Was  took  said  broke  spoke  grew  won  spoke  hung  rais'd  said  had  had  had  kept  had  said  was  fell  shook  sat  was  taught  gave  said  had  began  spoke  call'd  died  was  had  sought  drew  threw  drew  wore  melted  grew  jingled  blew  wore  kept  thought  mounted  lost  saw  withdrew  shot  drew  rose  lost\n",
      "\n",
      "VBG  rousing  doubting  Succeeding  yielding  melting  daring  dancing  varying  moving  erring  ruling  Trembling  shining  issuing  shining  trembling  floating  melting  impending  mingling  op'ning  waving  whirling  burning  beating  trembling  rising  ogling  declining  burning  according  shining  approaching  exulting  shining  fuming  Trembling  shining  rising  lurking  living  pitying  glitt'ring  unrepenting  weeping  becoming  rising  expiring  glaring  gaping  living  healing  losing  melting  flowing  rejoicing  swelling  rising  gazing  circling  raging  speaking  languishing  trembling  pitying  scolding  growing  living  killing  expiring  titillating  starting  insulting  leaving  bespangling  kindling  shining\n",
      "\n",
      "total counts for variations of ADJ:785\n",
      "\n",
      "\n",
      "===============\n",
      "Words tagged with variations of NOUN\n",
      "\n",
      "NN  offence  verse  subject  praise  motive  assault  stranger  cause  Rage  ray  day  lap  shake  sleepless  bell  slipper  ground  sound  downy  pillow  prest  guardian  rest  bed  morning  dream  head  Youth  glitt'ring  Birth  night  slumber  cheek  winning  Air  vision  touch  infant  thought  moonlight  silver  importance  pride  tho  credit  Militia  sky  tho  wing  Ring  equipage  mould  transition  air  breath  tho  joy  love  death  survive  pride  expire  retire  name  Water  glide  Tea  graver  Gnome  search  mischief  repair  sport  flutter  Air  mankind  ease  purity  midnight  friend  spark  glance  day  whisper  dark  occasion  music  Tho  Honour  word  face  life  embrace  pride  love  brain  train  Grace  ear  T  taint  soul  blush  world  thro  way  circle  impertinence  expel  tender  maid  victim  fall  man  treat  ball  hand  part  heart  sword  sword  banish  beaux  Levity  truth  protection  claim  sprite  name  crystal  air  dread  event  impend  Ere  morning  sun  maid  guardian  Man  Shock  mistress  tongue  T  report  Thy  Billet  head  Vase  order  intent  head  image  glass  altar  side  ope  world  toil  glitt'ring  spoil  casket  glowing  yonder  box  unite  white  Billet  moment  grace  face  purer  blush  arise  darling  care  head  hair  sleeve  gown  prais'd  plain  main  rival  bosom  silver  shone  eye  breast  adore  mind  none  sun  sun  ease  sweetness  void  pride  face  destruction  mankind  graceful  deck  iv'ry  neck  slender  hair  prey  man  race  beauty  hair  prize  way  force  fraud  success  toil  fraud  force  pair  Billet  pyre  fire  prize  ear  rest  air  vessel  sun  music  sky  soften'd  world  breast  air  repair  train  sun  insect  unfold  breeze  sink  gold  sight  half  light  wind  airy  glitt'ring  dew  tincture  whene'er  circle  mast  head  sun  azure  wand  chief  ear  kind  blaze  day  course  wand'ring  sky  moon  light  night  air  bow  wintry  distil  rain  earth  race  preside  chief  care  province  tho  care  powder  gale  exhale  flow'rs  wash  invention  Furbelow  day  Fair  spirit  care  disaster  force  wrapt  night  nymph  law  frail  jar  flaw  honour  brocade  pray'rs  masquerade  heart  necklace  ball  Shock  Haste  charge  repair  fan  care  watch  Lock  guard  Shock  note  charge  fence  Tho  whale  line  silver  circumference  spirit  careless  charge  post  fair  vengeance  bodkin  eye  flight  restrain  vain  contracting  essence  rivel'd  Ixion  wretch  motion  Mill  sea  nymph  extend  hair  ear  event  birth  pride  tow'rs  structure  frame  name  fall  foredoom  home  Dost  counsel  Tea  resort  Court  talk  ball  visit  glory  screen  ev'ry  word  reputation  fan  pause  chat  singing  laughing  noon  day  sun  ray  sentence  sign  jury  merchant  Exchange  peace  labours  cease  thirst  fame  doom  breast  band  number  hand  guard  card  rank  race  place  Behold  beard  flow'r  Th  emblem  band  hand  train  combat  velvet  force  care  show  board  victor  field  fate  trump  card  sabre  chief  leg  sight  rest  robe  prince  engage  victim  rage  chance  war  aid  victor  spade  yield  fate  field  warlike  host  Th  consort  crown  Tyrant  victim  Spite  mien  pride  circle  head  state  spread  robe  globe  apace  King  face  refulgent  conquest  find  disorder  level  army  confusion  habit  dye  fall  fate  chance  blood  cheek  forsook  paleness  look  ruin  State  fate  hand  Queen  pace  thunder  nymph  sky  day  board  mill  silver  lamp  silver  glide  earth  smoking  tide  scent  taste  repast  hover  airy  band  liquor  brocade  Coffee  politician  brain  radiant  cease  rash  youth  bird  air  hair  mischief  will  grace  weapon  case  Romance  spear  fight  gift  engine  neck  head  repair  hair  diamond  ear  foe  instant  thought  nosegay  breast  mind  spite  art  heart  Resign'd  sigh  retir'd  glitt'ring  engine  Fate  twain  substance  meeting  hair  head  lightning  horror  dust  triumph  twine  victor  fish  air  coach  Atalantis  pillow  grace  bed  wax  order  blaze  honour  name  praise  date  fate  Steel  labour  dust  Steel  pride  confound  hew  triumphal  ground  wonder  nymph  force  steel  nymph  breast  battle  bliss  kiss  die  manteau  rage  resentment  despair  thy  Hair  moment  dusky  sprite  face  light  earth  scene  vapour  dome  breeze  region  wind  grotto  air  day  glare  bed  Pain  side  head  throne  place  figure  face  nature  maid  form  store  pray'rs  hand  bosom  mien  cheek  head  pride  quilt  woe  gown  sickness  show  night  dress  disease  palace  hermit  gold  crystal  side  Tea  arm  bent  spout  pie  child  thro  band  branch  hand  Hail  Queen  sex  Parent  wit  hysteric  fit  act  physic  pet  nymph  mirth  grace  pimple  face  Citron  inflame  game  e'er  airy  suspicion  soul  head  dress  e'er  lap  dog  disease  act  world  spleen  air  force  sobs  war  fainting  griefs  day  nymph  hair  bag  vent  ire  fire  maid  maid  care  bodkin  comb  essence  paper  durance  head  lead  display  hair  envy  Honour  forbid  shrine  pleasure  virtue  sex  resign  horrid  toast  honour  whisper  fame  defend  T  friend  prize  prize  thro  crystal  diamond  hand  park  sound  earth  air  sea  fall  lap  box  vain  conduct  cane  face  snuff  box  case  devil  Z  lock  fore  jest  prithee  hair  box  vain  hair  head  air  hand  triumph  spread  head  whence  nymph  grief  drown'd  bosom  head  sigh  day  curl  love  isle  land  gilt  way  none  none  e'er  taste  eye  mind  pray'rs  home  T  morning  Thrice  hand  patch  box  wind  Shock  fate  neck  sister  lock  fellow  fate  sight  V  audience  melt  reproach  vain  fan  Silence  nymph  man  passion  man  toast  land  sea  afford  ador'd  white  Beaux  side  box  sense  beauty  box  grace  virtue  face  night  day  pox  age  housewife  thing  use  sin  frail  beauty  man  maid  humour  whate'er  humour  fail  sight  merit  soul  applause  lightning  combat  side  attack  rustle  rise  bass  wound  rage  thunder  bellowing  resound  Earth  nodding  ground  way  flash  day  sconce  height  fight  survey  combat  fray  thro  press  death  throng  song  nymph  death  Dapperwit  chair  glance  cast  margin  frown  hero  smile  air  hair  beam  side  side  length  lightning  th  fight  foe  strength  finger  thumb  breath  life  charge  virgin  atom  dust  eye  dome  re  -  nose  fate  bodkin  side  personage  deck  grandsire  neck  seal  buckle  widow  gown  infant  grandame  whistle  whistle  bodkin  mother  fall  foe  shalt  mind  strain  handkerchief  pain  prize  guilt  pain  ev'ry  place  vain  prize  mortal  sphere  earth  snuff  tweezer  death  bed  riband  courtier  man  pray'rs  flea  casuistry  Tho  none  founder  heav'ns  view  Star  thro  air  trail  hair  heav'ns  light  behold  progress  thro  monde  survey  hail  music  ray  lake  wizard  fate  fall  hair  glory  sphere  head  envy  eye  dust  name\n",
      "\n",
      "NNP  Canto  Caryl  Muse  Belinda  Goddess  Lord  t  Belle  Belle  Lord  Thrice  Belinda  Sylph  Twas  Beau  thou  distinguish'd  care  e'er  Nurse  Priest  Angel  pow'rs  Fair  Innocent  Box  thou  hast  Air  Chair  Woman  Thence  Woman  Ombre  Fair  Flame  Salamander  Nymphs  Prude  Earth  Sylph  Tis  Sylph  Infant  Beau  Oft  Florio  virgin  Damon  ev'ry  Toyshop  Ariel  Mirror  thy  Star  descend  Sylph  Belinda  Vision  Toilet  Nymph  Cosmetic  pow'rs  Priestess  Pride  Unnumber'd  off'rings  Goddess  India  Arabia  Tortoise  Elephant  Bibles  Beauty  ev'ry  Betty  Canto  II  th  Sun  o'er  Thames  Fair  ev'ry  Cross  Oft  Nymph  Nourish'd  ensnare  advent'rous  Baron  wish'd  betray  Lover  ere  Phœbus  Altar  French  prostrate  pow'rs  Zephyrs  Belinda  smil'd  Sylph  woe  shrouds  aërial  Zephyrs  Dipt  ev'ry  Ariel  Fays  Genii  Elves  Æther  main  glebe  Throne  Fair  show'rs  Flounce  e'er  Diana  China  Heav'n  ye  flutt'ring  Zephyretta  Brillante  Momentilla  thou  Crispissa  fav'rite  Ariel  Sylphs  Petticoat  Oft  arm'd  Alum  flow'r  Chocolate  orb  Fate  Canto  flow'rs  neighb'ring  Hampton  Britain  Nymphs  thou  Anna  nymphs  British  Queen  Snuff  th  Toilet  Belinda  advent'rous  Ombre  Ariel  Matadore  majesty  rever'd  Queens  Nymph  Spades  Spadillio  Lord  Manillio  Him  Basto  Gain'd  Majesty  Spades  Knave  Pam  Queens  o'erthrew  Lu  Falls  undistinguish'd  Belinda  Baron  Amazon  Spades  Club  Baron  Queen  pow'rs  Asia  Afric  pierc'd  dis  Knave  Queen  virgin  Codille  Trick  Ace  King  Vengeance  Ace  lo  crown'd  Japan  China  Fair  fann'd  Baron  New  Stratagems  Lock  ere't  Scylla  Fate  Chang'd  Nisus  ill  Clarissa  Knight  rev'rence  Belinda  Lock  Ariel  Virgin  Lover  confus'd  Peer  T  Lock  Sylph  Sylph  China  cry'd  Prize  British  Fair  Lady  Time  Steel  tow'rs  Troy  thy  conqu'ring  Canto  IV  oppress'd  Cynthia  awry  E'er  thou  Virgin  Ariel  Belinda  Umbriel  Cave  Spleen  Gnome  East  Megrim  diff'ring  Ill  Affectation  Practis'd  Vapour  Unnumber'd  Spleen  Pipkin  Homer  Tripod  Jar  Gnome  Spleenwort  e'er  thy  Gnome  Prude  Belinda  chagrin  Goddess  tho  wond'rous  Bag  Ulysses  Sighs  Vial  Gnome  Thalestris  Belinda  Thalestris  cry'd  Hampton  Wretched  Fops  Expos'd  Hyde  Circus  Bow  Chaos  Sir  Plume  Beau  Sir  Plume  amber  snuff  open'd  Lord  ds  Gad  Plague  on't!'t  nay  pox  reply'd  Peer  Lock  Lock  Umbriel  Gnome  Vial  Hampton  Court  maid  un  admir'd  Chariot  Ombre  Bohea  tott'ring  China  Nay  Poll  Sylph  Uncurl'd  hadst  thou  cruel  Canto  Fate  Jove  Baron  Thalestris  Belinda  Trojan  Anna  Dido  Clarissa  wav'd  Angel  nay  ogle  Saint  grey  Dame  Belinda  frown'd  Thalestris  Prude  Virago  Heroines  Homer  Gainst  Pallas  Mars  Latona  Hermes  Olympus  Blue  Neptune  tow'rs  Umbriel  Clapp'd  Propp'd  bodkin  Thalestris  Beau  Witling  metaphor  Cry'd  Sir  Fopling  Mæander  Swan  Sir  Plume  Clarissa  Chloe  stepp'd  slain  Beau  Jove  Weighs  Lady  Belinda  Baron  Chief  Lord  Snuff  incens'd  Belinda  cry'd  Belinda  Thou  Cupid  Lock  Lock  vaulted  roofs  rebound  Othello  Lock  Lunar  Hero  beau  Muse  Rome  Proculus  Berenice  Sylphs  Beau  Mall  Lover  Venus  Rosamonda  Partridge  Galileo  Louis  Rome  Nymph  thy  Lock  Lock  Muse  Belinda\n",
      "\n",
      "NNS  causes  springs  contests  things  lays  tasks  men  bosoms  dwells  Sol  curtains  eyes  dogs  lovers  lips  whispers  mortals  Inhabitants  shadows  virgins  crowns  wreaths  views  things  truths  conceal'd  Maids  Children  reveal'd  Wits  Spirits  Pages  beings  inclos'd  Vehicles  vanities  vanities  cards  Chariots  Termagants  minds  Coquettes  Sylphs  fields  Rejects  embrac'd  Spirits  laws  sexes  shapes  balls  desires  fires  Men  nymphs  predestin'd  prospects  offers  Ideas  Garters  sounds  eyes  Coquettes  hearts  women  mazes  vanities  wigs  wigs  knots  knots  coaches  mortals  Sylphs  wilds  eyes  Ardors  vanish'd  display'd  eyes  rites  treasures  gems  unlocks  combs  files  pins  rows  Puffs  arms  charms  Repairs  smiles  wonders  Sees  degrees  lightnings  eyes  Sylphs  others  labours  glories  beams  Youths  fix'd  eyes  Favours  offends  eyes  gazers  faults  Belles  faults  errors  Locks  curls  ringlets  labyrinths  slaves  detains  hearts  chains  springes  birds  lines  tresses  locks  Resolv'd  attends  ends  heav'n  pow'r  garters  gloves  trophies  loves  sighs  begs  eyes  pray'r  winds  glides  beams  tides  steals  waters  waves  thoughts  summons  Denizens  squadrons  sails  whispers  wings  clouds  forms  bodies  dissolv'd  garments  textures  skies  disports  dyes  colours  flings  Colours  wings  plac'd  pinions  Dæmons  spheres  tasks  laws  fields  orbs  planets  refin'd  stars  mists  pinions  tempests  Others  ways  actions  Nations  Arms  imprison'd  essences  colours  rainbows  hairs  blushes  airs  dreams  fates  spirits  drops  hoops  ribs  sins  vials  transfix'd  pins  plung'd  lakes  washes  ages  Gums  Pomatums  clogg'd  wings  styptics  pow'r  fix'd  fumes  spirits  sails  ringlets  pendants  hearts  meads  surveys  statesmen  Tyrants  realms  heroes  pleasures  hours  motions  looks  eyes  wretches  men  Burns  conquests  bands  arms  perch'd  Sylphs  women  Kings  whiskers  hands  pow'r  Knaves  garbs  Caps  heads  halberts  particolour'd  troops  trumps  trumps  Matadores  leaders  Moors  trumps  forc'd  years  Puts  reveal'd  conceal'd  armies  fights  armies  dy'd  limbs  Diamonds  combin'd  troops  throngs  troops  sons  nations  battalions  heaps  heaps  Diamonds  arts  trembles  jaws  fills  shouts  walls  woods  canals  mortals  honours  cups  spoons  berries  Altars  spirits  spouts  liquors  cups  plumes  display'd  things  eyes  vapours  injur'd  mortals  instruments  fingers  ends  steams  wings  turns  recesses  reclin'd  Ideas  view'd  pow'r  urg'd  shears  eyes  screams  skies  shrieks  husbands  lapdogs  vessels  fall'n  fragments  wreaths  temples  streams  birds  visits  days  lights  nymphs  treats  assignations  monuments  men  works  hairs  passions  kings  seiz'd  virgins  charms  lovers  robb'd  ladies  tyrants  pinn'd  pinions  screen'd  shades  handmaids  array'd  mornings  nights  noons  fill'd  lampoons  Shows  roses  Faints  airs  sinks  ones  maladies  phantoms  mists  dreams  shades  visions  maids  fiends  snakes  spires  spectres  tombs  fires  lakes  scenes  domes  angels  machines  throngs  bodies  chang'd  forms  pots  walks  talks  Men  works  maids  turn'd  bottles  corks  pow'r  vapours  tempers  ways  others  plays  visits  pow'r  disdains  thousands  maintains  waters  matrons  cheeks  complexions  horns  heads  petticoats  beds  tears  eyes  pray'r  hands  winds  lungs  passions  tongues  fears  sorrows  tears  gifts  wings  mounts  arms  eyes  heads  fans  hands  echoes  locks  irons  fillets  loads  Gods  unrivall'd  Methinks  tears  things  eyes  rays  wits  lodgings  Men  monkeys  dogs  parrots  repairs  hairs  eyes  honours  Clipp'd  nostrils  honours  forbears  sorrows  eyes  tears  times  eyes  Courts  ills  charms  roses  deserts  threats  visions  remnants  hairs  hands  spares  ringlets  beauties  foresees  demands  tempts  hands  Hairs  hairs  tears  ears  assails  begg'd  rag'd  ensu'd  Beauties  prais'd  coaches  glov'd  rows  glories  pains  gains  men  cares  Locks  pow'r  airs  flights  screams  Beauties  eyes  Charms  ensu'd  arms  arms  cries  flies  parties  Fans  silks  whalebones  Heroes  voices  skies  weapons  hands  Gods  Gods  passions  arms  alarms  trembles  storms  ghosts  wings  spears  flies  eyes  perish'd  eyes  scales  wits  nods  wits  hairs  flies  eyes  subdu'd  nostrils  grains  tears  echoes  rings  bells  hairs  flames  aims  cross'd  chiefs  decrees  heav'n  things  wits  vases  boxes  cases  vows  alms  lovers  hearts  ends  promises  smiles  harlots  tears  heirs  Cages  gnats  chains  Dry'd  butterflies  tomes  mark'd  eyes  skies  vows  skies  eyes  tresses  murders  millions  suns  tresses  stars\n",
      "\n",
      "NNPS  Elves  Elements  Souls  Sprites  Maids  Celestials  Gnomes  Peers  Dukes  Stars  Coronets  Sylphs  Wounds  Charms  Powders  Patches  Nymphs  Jews  Infidels  Romances  Sylphs  Sylphids  Fairies  Omens  Judges  Knights  Kings  Clubs  Diamonds  Hearts  Hearts  Hearts  Gods  Ladies  Sprites  Gods  Sylphs  Furies  Ladies  Lords  Angels  Sprites  Men  Gnomes  Locks\n",
      "\n",
      "total counts for variations of NOUN:2055\n",
      "\n",
      "\n",
      "===============\n",
      "Words tagged with variations of VB\n",
      "\n",
      "MD  may  could  Could  can  must  'd  may  shall  must  could  may  can  might  Might  'll  shall  must  shall  Shall  shall  shall  shall  may  shall  shall  shall  shall  would  could  could  should  could  could  shall  shall  will  shall  shall  must  should  shall  shall  shall  curs'd  shall  can  could  may  would  would  might  could  must  will  shall  must  can  may  must  can  shall  shall  shall  shall  can  Shall  shall  shall  must  shall  shall\n",
      "\n",
      "VB  vouchsafe  view  Say  compel  say  make  reject  engage  eclipse  watch  o'er  glow  Seem'd  ear  lay  say  thy  airy  Hear  believe  give  believe  Know  Hang  Think  view  Think  Mount  take  sip  roam  Know  Assume  exalt  Instruct  roll  Teach  know  flutter  Thro  withstand  squeeze  call  blind  beware  disclose  Beware  Launch'd  kiss  disclose  hide  hide  share  Look  forget  Love  surprise  aspir'd  win  ravish  Love  raise  obtain  possess  secure  flow  Waft  beam  give  play  bask  roll  thro  Pursue  suck  dip  o'er  Watch  guard  tend  save  let  draw  steal  curl  Assist  inspire  change  add  break  stain  Forget  lose  fall  be  let  be  tend  be  fail  Form  guard  feel  o'ertake  Be  Shrink  feel  glow  tremble  take  Hither  taste  supply  Mean  dine  encounter  decide  come  join  Descend  sit  Draw  Let  be  move  war  Led  yield  march'd  mow'd  fate  be  see  gain  desist  Fear  think  flit  bend  assist  Present  arm  blow  thrice  Thrice  thrice  expir'd  fate  divide  cut  airy  rend  Let  be  be  live  spare  destroy  strike  feel  Repair'd  search  hang  Wrapt  handle  call  rule  Make  take  cause  delay  send  pray  spoil  raise  change  discompos'd  ease  Hear  touch  reject  rent  prepare  bore  Ease  hear  see  be  seem  blaze  grass  grow  let  perish  be  Give  speak  join  renew  wear  see  be  die  roam  tell  See  rend  break  seize  move  remain  grave  Say  round  say  Behold  dance  dress  Charm'd  scorn  learn  patch  become  be  paint  decay  turn  fade  die  use  keep  trust  prevail  roll  swift  begin  dread  engage  Jove  sate  view  assist  see  See  try  die  ev'ry  meet  Form'd  Boast  be  die  let  survive  burn  burn  Restore  Restore  see  be  contest  yoke  trust  rise  pleas'd  pursue  take  send  view  foredoom  cease  mourn  boast  draw  die  set  be  consecrate  fame\n",
      "\n",
      "VBD  shot  oped  rung  had  said  token  were  did  saw  said  thought  slept  was  were  quicken  set  was  wore  had  hung  saw  rose  had  ev'ry  lay  gave  granted  was  sat  flew  was  brew  spoke  gave  paid  bore  said  were  swept  dejected  drew  spread  drew  sought  found  felt  withdrew  flew  stood  held  scribble  planted  was  gave  held  found  dejected  spread  Was  took  said  broke  spoke  grew  won  spoke  hung  rais'd  said  had  had  had  kept  had  said  was  fell  shook  sat  was  taught  gave  said  had  began  spoke  call'd  died  was  had  sought  drew  threw  drew  wore  melted  grew  jingled  blew  wore  kept  thought  mounted  lost  saw  withdrew  shot  drew  rose  lost\n",
      "\n",
      "VBG  rousing  doubting  Succeeding  yielding  melting  daring  dancing  varying  moving  erring  ruling  Trembling  shining  issuing  shining  trembling  floating  melting  impending  mingling  op'ning  waving  whirling  burning  beating  trembling  rising  ogling  declining  burning  according  shining  approaching  exulting  shining  fuming  Trembling  shining  rising  lurking  living  pitying  glitt'ring  unrepenting  weeping  becoming  rising  expiring  glaring  gaping  living  healing  losing  melting  flowing  rejoicing  swelling  rising  gazing  circling  raging  speaking  languishing  trembling  pitying  scolding  growing  living  killing  expiring  titillating  starting  insulting  leaving  bespangling  kindling  shining\n",
      "\n",
      "VBN  bred  summon'd  taught  seen  circled  visited  bound  scorn  fled  freed  doux  read  laid  Transformed  speckled  doux  purpled  held  implor'd  built  doux  painted  begun  painted  chosen  known  bound  crown'd  broken  seen  routed  united  shut  Sent  sent  affrighted  cast  painted  read  paid  detested  wrinkled  haunted  seen  tumbled  discontented  Sunk  bound  degraded  lost  heighten'd  contended  detested  been  seen  stay'd  slighted  been  painted  painted  found  sunk  made  drawn  laid  lost  sought  sought  kept  found  bound  set  laid\n",
      "\n",
      "VBP  rise  sing  inspire  approve  thro  give  hover'd  have  know  are  fly  are  hover  repair  are  please  know  are  swell  are  crowd  appear  imagine  stray  guide  pursue  shift  strive  drive  contrive  am  thy  beware  say  appear  extend  surround  divide  fold  plait  strike  shine  fall  are  betray  ask  Love  die  play  strait  round  breathe  change  wave  hear  know  whiten  guide  shoot  athwart  guide  drop  bestow  threat  have  receive  miss  consign  Do  trust  have  lie  descend  thrid  hang  wait  obey  past  hang  prepare  Are  sustain  succinct  strow  fly  o'er  reply  elate  crackle  raise  blaze  gratify  prolong  o'er  lap  find  twitch'd  watch'd  inclose  are  breathe  lie  delight  take  give  submit  survive  wait  feel  arise  are  stand  prove  give  stare  survey  say  take  demand  swear  draw  flow  am  learn  bloom  are  deck'd  crowd  are  preserve  produce  lose  strike  clap  crack  strike  are  fight  start  bear  are  mount  subside  think  dread  are  contend  are  are  are  slain\n",
      "\n",
      "VBZ  is  ev'n  is  knock'd  return'd  prolong'd  seem'd  flow'rs  unnumber'd  o'er  is  regards  plays  o'erlooks  sinks  is  guards  masquerades  prompts  softens  is  salutes  is  cheeks  's  speaks  coaches  is  rang'd  reveals  is  wak'd  stands  rob'd  adores  appears  bends  rears  begins  culls  decks  breathes  puts  rises  awakens  calls  rises  looks  smiles  extends  rejects  draws  meditates  attain'd  lights  breathes  falls  sounds  o'er  seem'd  rais'd  is  has  neglects  leaves  wedg'd  beats  froths  Thames  stands  takes  speaks  describes  interprets  dies  shoots  returns  invites  swells  spreads  reviews  appears  dares  Proves  inclines  invades  boots  trails  grasps  pours  shows  runs  o'erwhelms  tries  wins  spreads  sees  depends  steps  springs  falls  is  turns  receives  sipp'd  makes  is  pays  takes  extends  o'er  bends  look'd  spreads  joins  interpos'd  unites  points  flash'd  is  receives  arches  cares  sully'd  flits  knows  is  blows  sighs  is  languishes  gives  o'er  flies  sighs  is  gives  Seems  grants  binds  collects  fills  bears  Spreads  o'er  issu'd  burns  bids  is  rapp'd  grieves  speaks  breaks  appears  snatch'd  marks  mov'd  omens  seem'd  sits  hangs  shears  fails  fix'd  honour'd  bows  chas'd  uncurl'd  scorns  remains  wins  shouts  makes  breasts  rings  roars  heav'n  deeps  shakes  gives  enrag'd  scatters  lies  sings  dies  kill'd  smil'd  suspends  fear'd  o'erflows  wears  cry'd  dejects  is  cries  is  is  heav'n  confess'd  flies  looks  adds\n",
      "\n",
      "total counts for variations of VB:963\n",
      "\n",
      "\n",
      "leftover tags that were not accounted for in the mappings Brad gave me:\n"
     ]
    },
    {
     "data": {
      "text/plain": [
       "['PRP',\n",
       " 'WP',\n",
       " 'IN',\n",
       " ',',\n",
       " '.',\n",
       " ':',\n",
       " 'DT',\n",
       " 'TO',\n",
       " 'CC',\n",
       " 'RB',\n",
       " 'PRP$',\n",
       " 'HYPH',\n",
       " \"''\",\n",
       " 'UH',\n",
       " 'POS',\n",
       " 'WDT',\n",
       " 'XX',\n",
       " '``',\n",
       " '-LRB-',\n",
       " '-RRB-',\n",
       " 'WRB',\n",
       " 'RP',\n",
       " 'EX',\n",
       " 'RBR',\n",
       " 'WP$',\n",
       " 'NFP',\n",
       " 'LS',\n",
       " 'RBS']"
      ]
     },
     "execution_count": 40,
     "metadata": {
      "tags": []
     },
     "output_type": "execute_result"
    }
   ],
   "source": [
    "import spacy\n",
    "import en_core_web_sm\n",
    "import nltk\n",
    "\n",
    "our_text = \"\"\"\n",
    "Canto I\n",
    "\n",
    "What dire offence from am'rous causes springs, \n",
    "What mighty contests rise from trivial things, \n",
    "I sing — This verse to Caryl, Muse! is due: \n",
    "This, ev'n Belinda may vouchsafe to view: \n",
    "Slight is the subject, but not so the praise,\n",
    "If She inspire, and He approve my lays. \n",
    "\n",
    "Say what strange motive, Goddess! could compel\n",
    "A well-bred Lord t' assault a gentle Belle?\n",
    "O say what stranger cause, yet unexplor'd,\n",
    "Could make a gentle Belle reject a Lord?\n",
    "In tasks so bold, can little men engage,\n",
    "And in soft bosoms dwells such mighty Rage? \n",
    "\n",
    "Sol thro' white curtains shot a tim'rous ray,\n",
    "And oped those eyes that must eclipse the day:\n",
    "Now lap-dogs give themselves the rousing shake,\n",
    "And sleepless lovers, just at twelve, awake:\n",
    "Thrice rung the bell, the slipper knock'd the ground,\n",
    "And the press'd watch return'd a silver sound.\n",
    "Belinda still her downy pillow prest, \n",
    "Her guardian Sylph prolong'd the balmy rest:\n",
    "'Twas He had summon'd to her silent bed\n",
    "The morning-dream that hover'd o'er her head;\n",
    "A Youth more glitt'ring than a Birth-night Beau,\n",
    "(That ev'n in slumber caus'd her cheek to glow)\n",
    "Seem'd to her ear his winning lips to lay,\n",
    "And thus in whispers said, or seem'd to say. \n",
    "Fairest of mortals, thou distinguish'd care\n",
    "Of thousand bright Inhabitants of Air! \n",
    "If e'er one vision touch.'d thy infant thought, \n",
    "Of all the Nurse and all the Priest have taught;\n",
    "Of airy Elves by moonlight shadows seen, \n",
    "The silver token, and the circled green, \n",
    "Or virgins visited by Angel-pow'rs, \n",
    "With golden crowns and wreaths of heav'nly flow'rs; \n",
    "Hear and believe! thy own importance know,\n",
    "Nor bound thy narrow views to things below. \n",
    "Some secret truths, from learned pride conceal'd,\n",
    "To Maids alone and Children are reveal'd:\n",
    "What tho' no credit doubting Wits may give? \n",
    "The Fair and Innocent shall still believe.\n",
    "Know, then, unnumber'd Spirits round thee fly, \n",
    "The light Militia of the lower sky: \n",
    "These, tho' unseen, are ever on the wing, \n",
    "Hang o'er the Box, and hover round the Ring. \n",
    "Think what an equipage thou hast in Air,\n",
    "And view with scorn two Pages and a Chair. \n",
    "As now your own, our beings were of old, \n",
    "And once inclos'd in Woman's beauteous mould; \n",
    "Thence, by a soft transition, we repair \n",
    "From earthly Vehicles to these of air.\n",
    "Think not, when Woman's transient breath is fled \n",
    "That all her vanities at once are dead; \n",
    "Succeeding vanities she still regards, \n",
    "And tho' she plays no more, o'erlooks the cards. \n",
    "Her joy in gilded Chariots, when alive,\n",
    "And love of Ombre, after death survive. \n",
    "For when the Fair in all their pride expire, \n",
    "To their first Elements their Souls retire: \n",
    "The Sprites of fiery Termagants in Flame \n",
    "Mount up, and take a Salamander's name.\n",
    "Soft yielding minds to Water glide away, \n",
    "And sip, with Nymphs, their elemental Tea. \n",
    "The graver Prude sinks downward to a Gnome, \n",
    "In search of mischief still on Earth to roam. \n",
    "The light Coquettes in Sylphs aloft repair,\n",
    "And sport and flutter in the fields of Air. \n",
    "\n",
    "\"Know further yet; whoever fair and chaste\n",
    "Rejects mankind, is by some Sylph embrac'd:\n",
    "For Spirits, freed from mortal laws, with ease\n",
    "Assume what sexes and what shapes they please.\n",
    "What guards the purity of melting Maids,\n",
    "In courtly balls, and midnight masquerades,\n",
    "Safe from the treach'rous friend, the daring spark,\n",
    "The glance by day, the whisper in the dark,\n",
    "When kind occasion prompts their warm desires,\n",
    "When music softens, and when dancing fires?\n",
    "'Tis but their Sylph, the wise Celestials know,\n",
    "Tho' Honour is the word with Men below. \n",
    "\n",
    "Some nymphs there are, too conscious of their face,\n",
    "For life predestin'd to the Gnomes' embrace.\n",
    "These swell their prospects and exalt their pride,\n",
    "When offers are disdain'd, and love deny'd:\n",
    "Then gay Ideas crowd the vacant brain,\n",
    "While Peers, and Dukes, and all their sweeping train,\n",
    "And Garters, Stars, and Coronets appear,\n",
    "And in soft sounds, Your Grace salutes their ear.\n",
    "'T is these that early taint the female soul,\n",
    "Instruct the eyes of young Coquettes to roll,\n",
    "Teach Infant-cheeks a bidden blush to know,\n",
    "And little hearts to flutter at a Beau.\n",
    "\n",
    "Oft, when the world imagine women stray,\n",
    "The Sylphs thro' mystic mazes guide their way,\n",
    "Thro' all the giddy circle they pursue,\n",
    "And old impertinence expel by new. \n",
    "What tender maid but must a victim fall\n",
    "To one man's treat, but for another's ball? \n",
    "When Florio speaks what virgin could withstand, \n",
    "If gentle Damon did not squeeze her hand? \n",
    "With varying vanities, from ev'ry part, \n",
    "They shift the moving Toyshop of their heart;\n",
    "Where wigs with wigs, with sword-knots sword-knots strive,\n",
    "Beaux banish beaux, and coaches coaches drive. \n",
    "This erring mortals Levity may call; \n",
    "Oh blind to truth! the Sylphs contrive it all. \n",
    "\n",
    "Of these am I, who thy protection claim,\n",
    "A watchful sprite, and Ariel is my name.\n",
    "Late, as I rang'd the crystal wilds of air,\n",
    "In the clear Mirror of thy ruling Star\n",
    "I saw, alas! some dread event impend, \n",
    "Ere to the main this morning sun descend,\n",
    "But heav'n reveals not what, or how, or where:\n",
    "Warn'd by the Sylph, oh pious maid, beware!\n",
    "This to disclose is all thy guardian can:\n",
    "Beware of all, but most beware of Man!\"\n",
    "\n",
    "He said; when Shock, who thought she slept too long,\n",
    "Leap'd up, and wak'd his mistress with his tongue.\n",
    "'T was then, Belinda, if report say true,\n",
    "Thy eyes first open'd on a Billet-doux;\n",
    "Wounds, Charms, and Ardors were no sooner read,\n",
    "But all the Vision vanish'd from thy head.\n",
    "\n",
    "And now, unveil'd, the Toilet stands display'd,\n",
    "Each silver Vase in mystic order laid.\n",
    "First, rob'd in white, the Nymph intent adores,\n",
    "With head uncover'd, the Cosmetic pow'rs.\n",
    "A heav'nly image in the glass appears,\n",
    "To that she bends, to that her eyes she rears;\n",
    "Th' inferior Priestess, at her altar's side, \n",
    "Trembling begins the sacred rites of Pride. \n",
    "Unnumber'd treasures ope at once, and here \n",
    "The various off'rings of the world appear;\n",
    "From each she nicely culls with curious toil, \n",
    "And decks the Goddess with the glitt'ring spoil. \n",
    "This casket India's glowing gems unlocks, \n",
    "And all Arabia breathes from yonder box. \n",
    "The Tortoise here and Elephant unite,\n",
    "Transformed to combs, the speckled, and the white. \n",
    "Here files of pins extend their shining rows, \n",
    "Puffs, Powders, Patches, Bibles, Billet-doux. \n",
    "Now awful Beauty puts on all its arms; \n",
    "The fair each moment rises in her charms,\n",
    "Repairs her smiles, awakens ev'ry grace, \n",
    "And calls forth all the wonders of her face; \n",
    "Sees by degrees a purer blush arise, \n",
    "And keener lightnings quicken in her eyes. \n",
    "The busy Sylphs surround their darling care,\n",
    "These set the head, and those divide the hair, \n",
    "Some fold the sleeve, whilst others plait the gown: \n",
    "And Betty's prais'd for labours not her own.\t\n",
    "\n",
    "Canto II\n",
    "\n",
    "\n",
    "Not with more glories, in th' etherial plain, \n",
    "The Sun first rises o'er the purpled main, \n",
    "Than, issuing forth, the rival of his beams \n",
    "Launch'd on the bosom of the silver Thames. \n",
    "Fair Nymphs, and well-drest Youths around her shone.\n",
    "But ev'ry eye was fix'd on her alone. \n",
    "On her white breast a sparkling Cross she wore, \n",
    "Which Jews might kiss, and Infidels adore. \n",
    "Her lively looks a sprightly mind disclose, \n",
    "Quick as her eyes, and as unfix'd as those:\n",
    "Favours to none, to all she smiles extends; \n",
    "Oft she rejects, but never once offends. \n",
    "Bright as the sun, her eyes the gazers strike, \n",
    "And, like the sun, they shine on all alike. \n",
    "Yet graceful ease, and sweetness void of pride,\n",
    "Might hide her faults, if Belles had faults to hide: \n",
    "If to her share some female errors fall, \n",
    "Look on her face, and you'll forget 'em all. \n",
    "\n",
    "This Nymph, to the destruction of mankind,\n",
    "Nourish'd two Locks, which graceful hung behind\n",
    "In equal curls, and well conspir'd to deck\n",
    "With shining ringlets the smooth iv'ry neck.\n",
    "Love in these labyrinths his slaves detains,\n",
    "And mighty hearts are held in slender chains.\n",
    "With hairy springes we the birds betray,\n",
    "Slight lines of hair surprise the finny prey,\n",
    "Fair tresses man's imperial race ensnare,\n",
    "And beauty draws us with a single hair. \n",
    "\n",
    "Th' advent'rous Baron the bright locks admir'd;\n",
    "He saw, he wish'd, and to the prize aspir'd.\n",
    "Resolv'd to win, he meditates the way,\n",
    "By force to ravish, or by fraud betray;\n",
    "For when success a Lover's toil attends,\n",
    "Few ask, if fraud or force attain'd his ends. \n",
    "\n",
    "For this, ere Phœbus rose, he had implor'd\n",
    "Propitious heav'n, and ev'ry pow'r ador'd,\n",
    "But chiefly Love — to Love an Altar built,\n",
    "Of twelve vast French Romances, neatly gilt.\n",
    "There lay three garters, half a pair of gloves;\n",
    "And all the trophies of his former loves;\n",
    "With tender Billet-doux he lights the pyre,\n",
    "And breathes three am'rous sighs to raise the fire. \n",
    "Then prostrate falls, and begs with ardent eyes \n",
    "Soon to obtain, and long possess the prize: \n",
    "The pow'rs gave ear, and granted half his pray'r,\n",
    "The rest, the winds dispers'd in empty air. \n",
    "\n",
    "But now secure the painted vessel glides,\n",
    "The sun-beams trembling on the floating tides:\n",
    "While melting music steals upon the sky, \n",
    "And soften'd sounds along the waters die;\n",
    "Smooth flow the waves, the Zephyrs gently play,\n",
    "Belinda smil'd, and all the world was gay.\n",
    "All but the Sylph — with careful thoughts opprest,\n",
    "Th' impending woe sat heavy on his breast.\n",
    "He summons strait his Denizens of air;\n",
    "The lucid squadrons round the sails repair:\n",
    "Soft o'er the shrouds aërial whispers breathe,\n",
    "That seem'd but Zephyrs to the train beneath.\n",
    "Some to the sun their insect-wings unfold,\n",
    "Waft on the breeze, or sink in clouds of gold;\n",
    "Transparent forms, too fine for mortal sight,\n",
    "Their fluid bodies half dissolv'd in light,\n",
    "Loose to the wind their airy garments flew,\n",
    "Thin glitt'ring textures of the filmy dew,\n",
    "Dipt in the richest tincture of the skies,\n",
    "Where light disports in ever-mingling dyes,\n",
    "While ev'ry beam new transient colours flings,\n",
    "Colours that change whene'er they wave their wings.\n",
    "Amid the circle, on the gilded mast, \n",
    "Superior by the head, was Ariel plac'd;\n",
    "His purple pinions op'ning to the sun,\n",
    "He rais'd his azure wand, and thus begun. \n",
    "\n",
    "Ye Sylphs and Sylphids, to your chief give ear!\n",
    "Fays, Fairies, Genii, Elves, and Dæmons, hear!\n",
    "Ye know the spheres and various tasks assign'd\n",
    "By laws eternal to th' aërial kind. \n",
    "Some in the fields of purest Æther play, \n",
    "And bask and whiten in the blaze of day. \n",
    "Some guide the course of wand'ring orbs on high, \n",
    "Or roll the planets thro' the boundless sky.\n",
    "Some less refin'd, beneath the moon's pale light \n",
    "Pursue the stars that shoot athwart the night, \n",
    "Or suck the mists in grosser air below, \n",
    "Or dip their pinions in the painted bow, \n",
    "Or brew fierce tempests on the wintry main,\n",
    "Or o'er the glebe distil the kindly rain. \n",
    "Others on earth o'er human race preside, \n",
    "Watch all their ways, and all their actions guide: \n",
    "Of these the chief the care of Nations own, \n",
    "And guard with Arms divine the British Throne. \n",
    "\n",
    "Our humbler province is to tend the Fair,\n",
    "Not a less pleasing, tho' less glorious care;\n",
    "To save the powder from too rude a gale,\n",
    "Nor let th' imprison'd-essences exhale; \n",
    "To draw fresh colours from the vernal flow'rs;\n",
    "To steal from rainbows e'er they drop in show'rs\n",
    "A brighter wash; to curl their waving hairs,\n",
    "Assist their blushes, and inspire their airs;\n",
    "Nay oft, in dreams, invention we bestow,\n",
    "To change a Flounce, or add a Furbelow.\n",
    "\n",
    "This day, black Omens threat the brightest Fair,\n",
    "That e'er deserv'd a watchful spirit's care;\n",
    "Some dire disaster, or by force, or slight;\n",
    "But what, or where, the fates have wrapt in night.\n",
    "Whether the nymph shall break Diana's law,\n",
    "Or some frail China jar receive a flaw;\n",
    "Or stain her honour or her new brocade;\n",
    "Forget her pray'rs, or miss a masquerade;\n",
    "Or lose her heart, or necklace, at a ball; \n",
    "Or whether Heav'n has doom'd that Shock must fall.\n",
    "Haste, then, ye spirits! to your charge repair: \n",
    "The flutt'ring fan be Zephyretta's care; \n",
    "The drops to thee, Brillante, we consign; \n",
    "And, Momentilla, let the watch be thine; \n",
    "Do thou, Crispissa, tend her fav'rite Lock;\n",
    "Ariel himself shall be the guard of Shock. \n",
    "\n",
    "To fifty chosen Sylphs, of special note,\n",
    "We trust th' important charge, the Petticoat:\n",
    "Oft have we known that seven-fold fence to fail,\n",
    "Tho' stiff with hoops, and arm'd with ribs of whale;\n",
    "Form a strong line about the silver bound,\n",
    "And guard the wide circumference around. \n",
    "\n",
    "Whatever spirit, careless of his charge,\n",
    "His post neglects, or leaves the fair at large,\n",
    "Shall feel sharp vengeance soon o'ertake his sins,\n",
    "Be stopp'd in vials, or transfix'd with pins;\n",
    "Or plung'd in lakes of bitter washes lie,\n",
    "Or wedg'd whole ages in a bodkin's eye:\n",
    "Gums and Pomatums shall his flight restrain,\n",
    "While clogg'd he beats his silken wings in vain;\n",
    "Or Alum styptics with contracting pow'r\n",
    "Shrink his thin essence like a rivel'd flow'r:\n",
    "Or, as Ixion fix'd, the wretch shall feel\n",
    "The giddy motion of the whirling Mill, \n",
    "In fumes of burning Chocolate shall glow,\n",
    "And tremble at the sea that froths below! \n",
    "\n",
    "He spoke; the spirits from the sails descend;\n",
    "Some, orb in orb, around the nymph extend;\n",
    "Some thrid the mazy ringlets of her hair;\n",
    "Some hang upon the pendants of her ear:\n",
    "With beating hearts the dire event they wait,\n",
    "Anxious, and trembling for the birth of Fate.\t\n",
    "\n",
    "Canto III\n",
    "\n",
    "Close by those meads, for ever crown'd with flow'rs, \n",
    "Where Thames with pride surveys his rising tow'rs, \n",
    "There stands a structure of majestic frame, \n",
    "Which from the neighb'ring Hampton takes its name. \n",
    "Here Britain's statesmen oft the fall foredoom\n",
    "Of foreign Tyrants and of Nymphs at home; \n",
    "Here thou, great Anna! whom three realms obey. \n",
    "Dost sometimes counsel take — and sometimes Tea.\n",
    "\n",
    "Hither the heroes and the nymphs resort,\n",
    "To taste awhile the pleasures of a Court;\n",
    "In various talk th' instructive hours they past,\n",
    "Who gave the ball, or paid the visit last;\n",
    "One speaks the glory of the British Queen,\n",
    "And one describes a charming Indian screen;\n",
    "A third interprets motions, looks, and eyes;\n",
    "At ev'ry word a reputation dies.\n",
    "Snuff, or the fan, supply each pause of chat,\n",
    "With singing, laughing, ogling, and all that. \n",
    "\n",
    "Mean while, declining from the noon of day,\n",
    "The sun obliquely shoots his burning ray; \n",
    "The hungry Judges soon the sentence sign,\n",
    "And wretches hang that jury-men may dine;\n",
    "The merchant from th' Exchange returns in peace,\n",
    "And the long labours of the Toilet cease. \n",
    "Belinda now, whom thirst of fame invites,\n",
    "Burns to encounter two advent'rous Knights,\n",
    "At Ombre singly to decide their doom;\n",
    "And swells her breast with conquests yet to come.\n",
    "Straight the three bands prepare in arms to join,\n",
    "Each band the number of the sacred nine.\n",
    "\n",
    "Soon as she spreads her hand, th' aërial guard \n",
    "Descend, and sit on each important card: \n",
    "First Ariel perch'd upon a Matadore, \n",
    "Then each, according to the rank they bore; \n",
    "For Sylphs, yet mindful of their ancient race,\n",
    "Are, as when women, wondrous fond of place. \n",
    "Behold, four Kings in majesty rever'd,\n",
    "With hoary whiskers and a forky beard;\n",
    "And four fair Queens whose hands sustain a flow'r,\n",
    "Th' expressive emblem of their softer pow'r;\n",
    "Four Knaves in garbs succinct, a trusty band,\n",
    "Caps on their heads, and halberts in their hand;\n",
    "And particolour'd troops, a shining train,\n",
    "Draw forth to combat on the velvet plain. \n",
    "\n",
    "The skilful Nymph reviews her force with care:\n",
    "Let Spades be trumps! she said, and trumps they were. \n",
    "\n",
    "Now move to war her sable Matadores,\n",
    "In show like leaders of the swarthy Moors.\n",
    "Spadillio first, unconquerable Lord! \n",
    "Led off two captive trumps, and swept the board.\n",
    "As many more Manillio forc'd to yield,\n",
    "And march'd a victor from the verdant field.\n",
    "Him Basto follow'd, but his fate more hard\n",
    "Gain'd but one trump and one Plebeian card.\n",
    "With his broad sabre next, a chief in years,\n",
    "The hoary Majesty of Spades appears,\n",
    "Puts forth one manly leg, to sight reveal'd,\n",
    "The rest, his many-colour'd robe conceal'd.\n",
    "The rebel Knave, who dares his prince engage,\n",
    "Proves the just victim of his royal rage.\n",
    "Ev'n mighty Pam, that Kings and Queens o'erthrew\n",
    "And mow'd down armies in the fights of Lu,\n",
    "Sad chance of war! now destitute of aid, \n",
    "Falls undistinguish'd by the victor spade! \n",
    "\n",
    "Thus far both armies to Belinda yield;\n",
    "Now to the Baron fate inclines the field.\n",
    "His warlike Amazon her host invades,\n",
    "Th' imperial consort of the crown of Spades.\n",
    "The Club's black Tyrant first her victim dy'd,\n",
    "Spite of his haughty mien, and barb'rous pride:\n",
    "What boots the regal circle on his head,\n",
    "His giant limbs, in state unwieldy spread;\n",
    "That long behind he trails his pompous robe,\n",
    "And, of all monarchs, only grasps the globe? \n",
    "\n",
    "The Baron now his Diamonds pours apace;\n",
    "Th' embroider'd King who shows but half his face,\n",
    "And his refulgent Queen, with pow'rs combin'd\n",
    "Of broken troops an easy conquest find.\n",
    "Clubs, Diamonds, Hearts, in wild disorder seen,\n",
    "With throngs promiscuous strow the level green.\n",
    "Thus when dispers'd a routed army runs,\n",
    "Of Asia's troops, and Afric's sable sons,\n",
    "With like confusion different nations fly,\n",
    "Of various habit, and of various dye, \n",
    "The pierc'd battalions dis-united fall,\n",
    "In heaps on heaps; one fate o'erwhelms them all. \n",
    "\n",
    "The Knave of Diamonds tries his wily arts,\n",
    "And wins (oh shameful chance!) the Queen of Hearts.\n",
    "At this, the blood the virgin's cheek forsook,\n",
    "A livid paleness spreads o'er all her look;\n",
    "She sees, and trembles at th' approaching ill,\n",
    "Just in the jaws of ruin, and Codille.\n",
    "And now (as oft in some distemper'd State)\n",
    "On one nice Trick depends the gen'ral fate.\n",
    "An Ace of Hearts steps forth: The King unseen\n",
    "Lurk'd in her hand, and mourn'd his captive Queen: \n",
    "He springs to Vengeance with an eager pace, \n",
    "And falls like thunder on the prostrate Ace. \n",
    "The nymph exulting fills with shouts the sky; \n",
    "The walls, the woods, and long canals reply.\n",
    "\n",
    "Oh thoughtless mortals! ever blind to fate,\n",
    "Too soon dejected, and too soon elate.\n",
    "Sudden, these honours shall be snatch'd away,\n",
    "And curs'd for ever this victorious day. \n",
    "\n",
    "For lo! the board with cups and spoons is crown'd,\n",
    "The berries crackle, and the mill turns round;\n",
    "On shining Altars of Japan they raise\n",
    "The silver lamp; the fiery spirits blaze:\n",
    "From silver spouts the grateful liquors glide,\n",
    "While China's earth receives the smoking tide:\n",
    "At once they gratify their scent and taste,\n",
    "And frequent cups prolong the rich repast.\n",
    "Straight hover round the Fair her airy band;\n",
    "Some, as she sipp'd, the fuming liquor fann'd,\n",
    "Some o'er her lap their careful plumes display'd,\n",
    "Trembling, and conscious of the rich brocade.\n",
    "Coffee, (which makes the politician wise,\n",
    "And see thro' all things with his half-shut eyes)\n",
    "Sent up in vapours to the Baron's brain \n",
    "New Stratagems, the radiant Lock to gain.\n",
    "Ah cease, rash youth! desist ere't is too late,\n",
    "Fear the just Gods, and think of Scylla's Fate!\n",
    "Chang'd to a bird, and sent to flit in air,\n",
    "She dearly pays for Nisus' injur'd hair! \n",
    "\n",
    "But when to mischief mortals bend their will,\n",
    "How soon they find fit instruments of ill!\n",
    "Just then, Clarissa drew with tempting grace\n",
    "A two-edg'd weapon from her shining case:\n",
    "So Ladies in Romance assist their Knight,\n",
    "Present the spear, and arm him for the fight.\n",
    "He takes the gift with rev'rence, and extends \n",
    "The little engine on his fingers' ends; \n",
    "This just behind Belinda's neck he spread, \n",
    "As o'er the fragrant steams she bends her head. \n",
    "Swift to the Lock a thousand Sprites repair,\n",
    "A thousand wings, by turns, blow back the hair; \n",
    "And thrice they twitch'd the diamond in her ear; \n",
    "Thrice she look'd back, and thrice the foe drew near. \n",
    "Just in that instant, anxious Ariel sought \n",
    "The close recesses of the Virgin's thought;\n",
    "As on the nosegay in her breast reclin'd, \n",
    "He watch'd th' Ideas rising in her mind, \n",
    "Sudden he view'd, in spite of all her art, \n",
    "An earthly Lover lurking at her heart. \n",
    "Amaz'd, confus'd, he found his pow'r expir'd,\n",
    "Resign'd to fate, and with a sigh retir'd. \n",
    "\n",
    "The Peer now spreads the glitt'ring Forfex wide,\n",
    "T' inclose the Lock; now joins it, to divide.\n",
    "Ev'n then, before the fatal engine clos'd, \n",
    "A wretched Sylph too fondly interpos'd;\n",
    "Fate urg'd the shears, and cut the Sylph in twain,\n",
    "(But airy substance soon unites again)\n",
    "The meeting points the sacred hair dissever\n",
    "From the fair head, for ever, and for ever! \n",
    "\n",
    "Then flash'd the living lightning from her eyes,\n",
    "And screams of horror rend th' affrighted skies.\n",
    "Not louder shrieks to pitying heav'n are cast,\n",
    "When husbands, or when lapdogs breathe their last;\n",
    "Or when rich China vessels fall'n from high,\n",
    "In glitt'ring dust and painted fragments lie!\n",
    "\n",
    "Let wreaths of triumph now my temples twine\n",
    "(The victor cry'd) the glorious Prize is mine! \n",
    "While fish in streams, or birds delight in air, \n",
    "Or in a coach and six the British Fair, \n",
    "As long as Atalantis shall be read,\n",
    "Or the small pillow grace a Lady's bed, \n",
    "While visits shall be paid on solemn days, \n",
    "When num'rous wax-lights in bright order blaze, \n",
    "While nymphs take treats, or assignations give, \n",
    "So long my honour, name, and praise shall live!\n",
    "What Time would spare, from Steel receives its date, \n",
    "And monuments, like men, submit to fate! \n",
    "Steel could the labour of the Gods destroy, \n",
    "And strike to dust th' imperial tow'rs of Troy; \n",
    "Steel could the works of mortal pride confound,\n",
    "And hew triumphal arches to the ground. \n",
    "What wonder then, fair nymph! thy hairs should feel, \n",
    "The conqu'ring force of unresisted steel?\t\n",
    "\n",
    "Canto IV\n",
    "\n",
    "\n",
    "But anxious cares the pensive nymph oppress'd, \n",
    "And secret passions labour'd in her breast. \n",
    "Not youthful kings in battle seiz'd alive, \n",
    "Not scornful virgins who their charms survive, \n",
    "Not ardent lovers robb'd of all their bliss, \n",
    "Not ancient ladies when refus'd a kiss, \n",
    "Not tyrants fierce that unrepenting die, \n",
    "Not Cynthia when her manteau's pinn'd awry,\n",
    "E'er felt such rage, resentment, and despair, \n",
    "As thou, sad Virgin! for thy ravish'd Hair.\n",
    "\n",
    "For, that sad moment, when the Sylphs withdrew\n",
    "And Ariel weeping from Belinda flew,\n",
    "Umbriel, a dusky, melancholy sprite,\n",
    "As ever sully'd the fair face of light, \n",
    "Down to the central earth, his proper scene,\n",
    "Repair'd to search the gloomy Cave of Spleen. \n",
    "\n",
    "Swift on his sooty pinions flits the Gnome,\n",
    "And in a vapour reach'd the dismal dome.\n",
    "No cheerful breeze this sullen region knows,\n",
    "The dreaded East is all the wind that blows.\n",
    "Here in a grotto, shelter'd close from air,\n",
    "And screen'd in shades from day's detested glare,\n",
    "She sighs for ever on her pensive bed,\n",
    "Pain at her side, and Megrim at her head. \n",
    "\n",
    "Two handmaids wait the throne: alike in place,\n",
    "But diff'ring far in figure and in face.\n",
    "Here stood Ill-nature like an ancient maid,\n",
    "Her wrinkled form in black and white array'd;\n",
    "With store of pray'rs, for mornings, nights, and noons,\n",
    "Her hand is fill'd; her bosom with lampoons.\n",
    "There Affectation, with a sickly mien,\n",
    "Shows in her cheek the roses of eighteen,\n",
    "Practis'd to lisp, and hang the head aside.\n",
    "Faints into airs, and languishes with pride,\n",
    "On the rich quilt sinks with becoming woe,\n",
    "Wrapt in a gown, for sickness, and for show.\n",
    "The fair ones feel such maladies as these,\n",
    "When each new night-dress gives a new disease. \n",
    "\n",
    "A constant Vapour o'er the palace flies; \n",
    "Strange phantoms rising as the mists arise;\n",
    "Dreadful, as hermit's dreams in haunted shades,\n",
    "Or bright, as visions of expiring maids.\n",
    "Now glaring fiends, and snakes on rolling spires,\n",
    "Pale spectres, gaping tombs, and purple fires:\n",
    "Now lakes of liquid gold, Elysian scenes,\n",
    "And crystal domes, and angels in machines. \n",
    "\n",
    "Unnumber'd throngs on every side are seen, \n",
    "Of bodies chang'd to various forms by Spleen. \n",
    "Here living Tea-pots stand, one arm held out, \n",
    "One bent; the handle this, and that the spout:\n",
    "A Pipkin there, like Homer's Tripod walks; \n",
    "Here sighs a Jar, and there a Goose-pie talks; \n",
    "Men prove with child, as pow'rful fancy works, \n",
    "And maids turn'd bottles, call aloud for corks. \n",
    "\n",
    "Safe past the Gnome thro' this fantastic band,\n",
    "A branch of healing Spleenwort in his hand.\n",
    "Then thus address'd the pow'r: \"Hail, wayward Queen!\n",
    "Who rule the sex to fifty from fifteen:\n",
    "Parent of vapours and of female wit, \n",
    "Who give th' hysteric, or poetic fit,\n",
    "On various tempers act by various ways,\n",
    "Make some take physic, others scribble plays;\n",
    "Who cause the proud their visits to delay,\n",
    "And send the godly in a pet to pray. \n",
    "A nymph there is, that all thy pow'r disdains,\n",
    "And thousands more in equal mirth maintains.\n",
    "But oh! if e'er thy Gnome could spoil a grace,\n",
    "Or raise a pimple on a beauteous face,\n",
    "Like Citron-waters matrons cheeks inflame,\n",
    "Or change complexions at a losing game;\n",
    "If e'er with airy horns I planted heads,\n",
    "Or rumpled petticoats, or tumbled beds,\n",
    "Or caus'd suspicion when no soul was rude,\n",
    "Or discompos'd the head-dress of a Prude,\n",
    "Or e'er to costive lap-dog gave disease,\n",
    "Which not the tears of brightest eyes could ease:\n",
    "Hear me, and touch Belinda with chagrin,\n",
    "That single act gives half the world the spleen.\"\n",
    "\n",
    "The Goddess with a discontented air\n",
    "Seems to reject him, tho' she grants his pray'r.\n",
    "A wond'rous Bag with both her hands she binds, \n",
    "Like that where once Ulysses held the winds; \n",
    "There she collects the force of female lungs, \n",
    "Sighs, sobs, and passions, and the war of tongues. \n",
    "A Vial next she fills with fainting fears,\n",
    "Soft sorrows, melting griefs, and flowing tears. \n",
    "The Gnome rejoicing bears her gifts away, \n",
    "Spreads his black wings, and slowly mounts to day.\n",
    "\n",
    "Sunk in Thalestris' arms the nymph he found,\n",
    "Her eyes dejected and her hair unbound.\n",
    "Full o'er their heads the swelling bag he rent,\n",
    "And all the Furies issu'd at the vent.\n",
    "Belinda burns with more than mortal ire,\n",
    "And fierce Thalestris fans the rising fire. \n",
    "\"O wretched maid!\" she spread her hands, and cry'd,\n",
    "(While Hampton's echoes, \"Wretched maid!\" reply'd)\n",
    "\"Was it for this you took such constant care\n",
    "The bodkin, comb, and essence to prepare?\n",
    "For this your locks in paper durance bound,\n",
    "For this with tort'ring irons wreath'd around?\n",
    "For this with fillets strain'd your tender head,\n",
    "And bravely bore the double loads of lead?\n",
    "Gods! shall the ravisher display your hair,\n",
    "While the Fops envy, and the Ladies stare!\n",
    "Honour forbid! at whose unrivall'd shrine \n",
    "Ease, pleasure, virtue, all our sex resign.\n",
    "Methinks already I your tears survey,\n",
    "Already hear the horrid things they say,\n",
    "Already see you a degraded toast, \n",
    "And all your honour in a whisper lost!\n",
    "How shall I, then, your helpless fame defend?\n",
    "'T will then be infamy to seem your friend!\n",
    "And shall this prize, th' inestimable prize, \n",
    "Expos'd thro' crystal to the gazing eyes, \n",
    "And heighten'd by the diamond's circling rays,\n",
    "On that rapacious hand for ever blaze? \n",
    "Sooner shall grass in Hyde-park Circus grow, \n",
    "And wits take lodgings in the sound of Bow; \n",
    "Sooner let earth, air, sea, to Chaos fall, \n",
    "Men, monkeys, lap-dogs, parrots, perish all!\"\n",
    "\n",
    "She said; then raging to Sir Plume repairs,\n",
    "And bids her Beau demand the precious hairs;\n",
    "(Sir Plume of amber snuff-box justly vain,\n",
    "And the nice conduct of a clouded cane) \n",
    "With earnest eyes, and round unthinking face,\n",
    "He first the snuff-box open'd, then the case,\n",
    "And thus broke out — \"My Lord, why, what the devil?\n",
    "\"Z — ds! damn the lock! 'fore Gad, you must be civil!\n",
    "Plague on't!'t is past a jest — nay prithee, pox!\n",
    "Give her the hair\" — he spoke, and rapp'd his box.\n",
    "\n",
    "\"It grieves me much\" (reply'd the Peer again)\n",
    "\"Who speaks so well should ever speak in vain.\n",
    "But by this Lock, this sacred Lock I swear,\n",
    "(Which never more shall join its parted hair;\n",
    "Which never more its honours shall renew,\n",
    "Clipp'd from the lovely head where late it grew)\n",
    "That while my nostrils draw the vital air,\n",
    "This hand, which won it, shall for ever wear.\"\n",
    "He spoke, and speaking, in proud triumph spread\n",
    "The long-contended honours of her head. \n",
    "\n",
    "But Umbriel, hateful Gnome! forbears not so;\n",
    "He breaks the Vial whence the sorrows flow.\n",
    "Then see! the nymph in beauteous grief appears,\n",
    "Her eyes half-languishing, half-drown'd in tears;\n",
    "On her heav'd bosom hung her drooping head,\n",
    "Which, with a sigh, she rais'd; and thus she said. \n",
    "\"For ever curs'd be this detested day,\n",
    "Which snatch'd my best, my fav'rite curl away!\n",
    "Happy! ah ten times happy had I been, \n",
    "If Hampton-Court these eyes had never seen!\n",
    "Yet am not I the first mistaken maid,\n",
    "By love of Courts to num'rous ills betray'd.\n",
    "Oh had I rather un-admir'd remain'd\n",
    "In some lone isle, or distant Northern land;\n",
    "Where the gilt Chariot never marks the way,\n",
    "Where none learn Ombre, none e'er taste Bohea!\n",
    "There kept my charms conceal'd from mortal eye,\n",
    "Like roses, that in deserts bloom and die.\n",
    "What mov'd my mind with youthful Lords to roam?\n",
    "Oh had I stay'd, and said my pray'rs at home!\n",
    "'T was this, the morning omens seem'd to tell,\n",
    "Thrice from my trembling hand the patch-box fell;\n",
    "The tott'ring China shook without a wind.\n",
    "Nay, Poll sat mute, and Shock was most unkind!\n",
    "A Sylph too warn'd me of the threats of fate,\n",
    "In mystic visions, now believ'd too late!\n",
    "See the poor remnants of these slighted hairs!\n",
    "My hands shall rend what ev'n thy rapine spares:\n",
    "These in two sable ringlets taught to break,\n",
    "Once gave new beauties to the snowy neck;\n",
    "The sister-lock now sits uncouth, alone,\n",
    "And in its fellow's fate foresees its own;\n",
    "Uncurl'd it hangs, the fatal shears demands,\n",
    "And tempts once more thy sacrilegious hands.\n",
    "Oh hadst thou, cruel! been content to seize\n",
    "Hairs less in sight, or any hairs but these!\"\t\n",
    "\n",
    "Canto V\n",
    "\n",
    "\n",
    "She said: the pitying audience melt in tears. \n",
    "But Fate and Jove had stopp'd the Baron's ears. \n",
    "In vain Thalestris with reproach assails, \n",
    "For who can move when fair Belinda fails? \n",
    "Not half so fix'd the Trojan could remain,\n",
    "While Anna begg'd and Dido rag'd in vain. \n",
    "Then grave Clarissa graceful wav'd her fan; \n",
    "Silence ensu'd, and thus the nymph began. \n",
    "\n",
    "\"Say why are Beauties prais'd and honour'd most, \n",
    "The wise man's passion, and the vain man's toast?\n",
    "Why deck'd with all that land and sea afford, \n",
    "Why Angels call'd, and Angel-like ador'd? \n",
    "Why round our coaches crowd the white-glov'd Beaux, \n",
    "Why bows the side-box from its inmost rows; \n",
    "How vain are all these glories, all our pains,\n",
    "Unless good sense preserve what beauty gains: \n",
    "That men may say, when we the front-box grace: \n",
    "'Behold the first in virtue as in face!' \n",
    "Oh! if to dance all night, and dress all day, \n",
    "Charm'd the small-pox, or chas'd old-age away;\n",
    "Who would not scorn what housewife's cares produce, \n",
    "Or who would learn one earthly thing of use? \n",
    "To patch, nay ogle, might become a Saint, \n",
    "Nor could it sure be such a sin to paint. \n",
    "But since, alas! frail beauty must decay,\n",
    "Curl'd or uncurl'd, since Locks will turn to grey; \n",
    "Since painted, or not painted, all shall fade, \n",
    "And she who scorns a man, must die a maid; \n",
    "What then remains but well our pow'r to use, \n",
    "And keep good-humour still whate'er we lose?\n",
    "And trust me, dear! good-humour can prevail,\n",
    "When airs, and flights, and screams, and scolding fail.\n",
    "Beauties in vain their pretty eyes may roll;\n",
    "Charms strike the sight, but merit wins the soul.\"\n",
    "\n",
    "So spoke the Dame, but no applause ensu'd;\n",
    "Belinda frown'd, Thalestris call'd her Prude.\n",
    "\"To arms, to arms!\" the fierce Virago cries,\n",
    "And swift as lightning to the combat flies.\n",
    "All side in parties, and begin th' attack; \n",
    "Fans clap, silks rustle, and tough whalebones crack;\n",
    "Heroes' and Heroines' shouts confus'dly rise,\n",
    "And bass, and treble voices strike the skies.\n",
    "No common weapons in their hands are found,\n",
    "Like Gods they fight, nor dread a mortal wound. \n",
    "\n",
    "So when bold Homer makes the Gods engage, \n",
    "And heav'nly breasts with human passions rage;\n",
    "'Gainst Pallas, Mars; Latona, Hermes arms;\n",
    "And all Olympus rings with loud alarms:\n",
    "Jove's thunder roars, heav'n trembles all around,\n",
    "Blue Neptune storms, the bellowing deeps resound: \n",
    "Earth shakes her nodding tow'rs, the ground gives way.\n",
    "And the pale ghosts start at the flash of day! \n",
    "\n",
    "Triumphant Umbriel on a sconce's height\n",
    "Clapp'd his glad wings, and sate to view the fight:\n",
    "Propp'd on the bodkin spears, the Sprites survey\n",
    "The growing combat, or assist the fray. \n",
    "\n",
    "While thro' the press enrag'd Thalestris flies,\n",
    "And scatters death around from both her eyes,\n",
    "A Beau and Witling perish'd in the throng,\n",
    "One died in metaphor, and one in song.\n",
    "\"O cruel nymph! a living death I bear,\"\n",
    "Cry'd Dapperwit, and sunk beside his chair.\n",
    "A mournful glance Sir Fopling upwards cast, \n",
    "\"Those eyes are made so killing\" — was his last. \n",
    "Thus on Mæander's flow'ry margin lies \n",
    "Th' expiring Swan, and as he sings he dies. \n",
    "\n",
    "When bold Sir Plume had drawn Clarissa down,\n",
    "Chloe stepp'd in, and kill'd him with a frown;\n",
    "She smil'd to see the doughty hero slain,\n",
    "But, at her smile, the Beau reviv'd again.\n",
    "\n",
    "Now Jove suspends his golden scales in air,\n",
    "Weighs the Men's wits against the Lady's hair;\n",
    "The doubtful beam long nods from side to side;\n",
    "At length the wits mount up, the hairs subside. \n",
    "\n",
    "See, fierce Belinda on the Baron flies,\n",
    "With more than usual lightning in her eyes:\n",
    "Nor fear'd the Chief th' unequal fight to try,\n",
    "Who sought no more than on his foe to die.\n",
    "But this bold Lord with manly strength endu'd,\n",
    "She with one finger and a thumb subdu'd:\n",
    "Just where the breath of life his nostrils drew,\n",
    "A charge of Snuff the wily virgin threw;\n",
    "The Gnomes direct, to ev'ry atom just,\n",
    "The pungent grains of titillating dust. \n",
    "Sudden, with starting tears each eye o'erflows,\n",
    "And the high dome re-echoes to his nose. \n",
    "\n",
    "Now meet thy fate, incens'd Belinda cry'd,\n",
    "And drew a deadly bodkin from her side.\n",
    "(The same, his ancient personage to deck,\n",
    "Her great great grandsire wore about his neck,\n",
    "In three seal-rings; which after, melted down,\n",
    "Form'd a vast buckle for his widow's gown:\n",
    "Her infant grandame's whistle next it grew,\n",
    "The bells she jingled, and the whistle blew;\n",
    "Then in a bodkin grac'd her mother's hairs,\n",
    "Which long she wore, and now Belinda wears.) \n",
    "\n",
    "\"Boast not my fall\" (he cry'd) \"insulting foe!\n",
    "Thou by some other shalt be laid as low,\n",
    "Nor think, to die dejects my lofty mind: \n",
    "All that I dread is leaving you behind!\n",
    "Rather than so, ah let me still survive,\n",
    "And burn in Cupid's flames — but burn alive.\"\n",
    "\n",
    "\"Restore the Lock!\" she cries; and all around\n",
    "\"Restore the Lock!\" the vaulted roofs rebound.\n",
    "Not fierce Othello in so loud a strain\n",
    "Roar'd for the handkerchief that caus'd his pain.\n",
    "But see how oft ambitious aims are cross'd,\n",
    "And chiefs contend 'till all the prize is lost!\n",
    "The Lock, obtain'd with guilt, and kept with pain,\n",
    "In ev'ry place is sought, but sought in vain:\n",
    "With such a prize no mortal must be blest,\n",
    "So heav'n decrees! with heav'n who can contest? \n",
    "\n",
    "Some thought it mounted to the Lunar sphere,\n",
    "Since all things lost on earth are treasur'd there.\n",
    "There Hero's wits are kept in pond'rous vases,\n",
    "And beau's in snuff-boxes and tweezer-cases.\n",
    "There broken vows and death-bed alms are found,\n",
    "And lovers' hearts with ends of riband bound,\n",
    "The courtier's promises, and sick man's pray'rs,\n",
    "The smiles of harlots, and the tears of heirs,\n",
    "Cages for gnats, and chains to yoke a flea,\n",
    "Dry'd butterflies, and tomes of casuistry. \n",
    "\n",
    "But trust the Muse — she saw it upward rise,\n",
    "Tho' mark'd by none but quick, poetic eyes:\n",
    "(So Rome's great founder to the heav'ns withdrew,\n",
    "To Proculus alone confess'd in view)\n",
    "A sudden Star, it shot thro' liquid air,\n",
    "And drew behind a radiant trail of hair.\n",
    "Not Berenice's Locks first rose so bright,\n",
    "The heav'ns bespangling with dishevell'd light.\n",
    "The Sylphs behold it kindling as it flies, \n",
    "And pleas'd pursue its progress thro' the skies. \n",
    "\n",
    "This the Beau monde shall from the Mall survey,\n",
    "And hail with music its propitious ray. \n",
    "This the blest Lover shall for Venus take,\n",
    "And send up vows from Rosamonda's lake.\n",
    "This Partridge soon shall view in cloudless skies,\n",
    "When next he looks thro' Galileo's eyes;\n",
    "And hence th' egregious wizard shall foredoom\n",
    "The fate of Louis, and the fall of Rome.\n",
    "Then cease, bright Nymph! to mourn thy ravish'd hair,\n",
    "Which adds new glory to the shining sphere!\n",
    "Not all the tresses that fair head can boast,\n",
    "Shall draw such envy as the Lock you lost.\n",
    "For, after all the murders of your eye,\n",
    "When, after millions slain, yourself shall die:\n",
    "When those fair suns shall set, as set they must,\n",
    "And all those tresses shall be laid in dust,\n",
    "This Lock, the Muse shall consecrate to fame,\n",
    "And 'midst the stars inscribe Belinda's name. \n",
    "\"\"\"\n",
    "\n",
    "\n",
    "def spacy_pos_transform(text):\n",
    "    \"\"\"Given a string pasted in, take a poem and transform it into its POS tags\"\"\"\n",
    "    nlp = en_core_web_sm.load()\n",
    "    lines = text.split('\\n')\n",
    "    spacy_tags_sorted = {}\n",
    "    for line in lines:\n",
    "        doc = nlp(line)\n",
    "        for token in doc:\n",
    "            if token.tag_ != \"_SP\":\n",
    "                if token.tag_ in spacy_tags_sorted:\n",
    "                    spacy_tags_sorted[token.tag_].append(token.text)\n",
    "                else:\n",
    "                    spacy_tags_sorted[token.tag_] = [token.text]\n",
    "\n",
    "    return spacy_tags_sorted\n",
    "\n",
    "POS_mapping = {'ADJ': ['CD', 'JJ', 'JJR', 'JJS', 'PDT', 'VBD', 'VBG'], 'NOUN': ['NN', 'NNP', 'NNS', 'NNPS'], 'VB': ['MD', 'VB', 'VBD', 'VBG', 'VBN', 'VBP', 'VBZ']}\n",
    "\n",
    "spacy_tags_transformed = spacy_pos_transform(our_text)\n",
    "\n",
    "leftover_tags = list(spacy_tags_transformed.keys())\n",
    "\n",
    "for key, value in POS_mapping.items():\n",
    "    print('===============')\n",
    "    print('Words tagged with variations of ' + key + '\\n')\n",
    "    count = 0\n",
    "    for item in value:\n",
    "        if item in spacy_tags_transformed:\n",
    "            print(item + '  ' + '  '.join(spacy_tags_transformed[item]) + '\\n')\n",
    "            count = count + len(spacy_tags_transformed[item])\n",
    "            if item in leftover_tags:\n",
    "              leftover_tags.remove(item)\n",
    "    print('total counts for variations of ' + key + ':' + str(count))\n",
    "    print('\\n')\n",
    "\n",
    "print('leftover tags that were not accounted for in the mappings Brad gave me:')\n",
    "leftover_tags"
   ]
  }
 ],
 "metadata": {
  "colab": {
   "collapsed_sections": [],
   "name": "Real GradConWorkshop.ipynb",
   "provenance": [],
   "toc_visible": true
  },
  "kernelspec": {
   "display_name": "Python 3",
   "language": "python",
   "name": "python3"
  },
  "language_info": {
   "codemirror_mode": {
    "name": "ipython",
    "version": 3
   },
   "file_extension": ".py",
   "mimetype": "text/x-python",
   "name": "python",
   "nbconvert_exporter": "python",
   "pygments_lexer": "ipython3",
   "version": "3.8.5"
  }
 },
 "nbformat": 4,
 "nbformat_minor": 1
}
