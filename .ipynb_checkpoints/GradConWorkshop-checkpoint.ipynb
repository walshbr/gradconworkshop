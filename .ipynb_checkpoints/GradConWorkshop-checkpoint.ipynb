{
 "cells": [
  {
   "cell_type": "markdown",
   "metadata": {},
   "source": [
    "# A Brief Introduction to POS Tagging"
   ]
  },
  {
   "cell_type": "markdown",
   "metadata": {},
   "source": [
    "Identifying the part of speech associated with a particular word is complex, even for humans. Let's talk through how a computer would go about doing this. We have to get really basic. \n",
    "\n",
    "In Python there are a few base level units of data. There are more, but to begin let's just look at two:\n",
    "\n",
    "* Integers\n",
    "* Strings"
   ]
  },
  {
   "cell_type": "code",
   "execution_count": 2,
   "metadata": {},
   "outputs": [
    {
     "data": {
      "text/plain": [
       "8"
      ]
     },
     "execution_count": 2,
     "metadata": {},
     "output_type": "execute_result"
    }
   ],
   "source": [
    "# an integer is a whole number that you do number like things to.\n",
    "4 + 4"
   ]
  },
  {
   "cell_type": "code",
   "execution_count": 3,
   "metadata": {},
   "outputs": [
    {
     "data": {
      "text/plain": [
       "19"
      ]
     },
     "execution_count": 3,
     "metadata": {},
     "output_type": "execute_result"
    }
   ],
   "source": [
    "our_int = 4\n",
    "our_int + 15"
   ]
  },
  {
   "cell_type": "markdown",
   "metadata": {},
   "source": [
    "In contrast, a string is something we can do word-like things to:"
   ]
  },
  {
   "cell_type": "code",
   "execution_count": 4,
   "metadata": {},
   "outputs": [
    {
     "data": {
      "text/plain": [
       "'FOUR'"
      ]
     },
     "execution_count": 4,
     "metadata": {},
     "output_type": "execute_result"
    }
   ],
   "source": [
    "\"four\".upper()"
   ]
  },
  {
   "cell_type": "code",
   "execution_count": 5,
   "metadata": {},
   "outputs": [
    {
     "data": {
      "text/plain": [
       "'fourfour'"
      ]
     },
     "execution_count": 5,
     "metadata": {},
     "output_type": "execute_result"
    }
   ],
   "source": [
    "our_string = \"four\"\n",
    "\n",
    "our_string + our_string\n",
    "# what happened here?"
   ]
  },
  {
   "cell_type": "markdown",
   "metadata": {},
   "source": [
    "Numbers can do numerical things and strings (word-type bits) can do word-type things. You can, of course, go way deeper in Python with data types, but a one more example of things you can do to strings (word-type data):"
   ]
  },
  {
   "cell_type": "code",
   "execution_count": 6,
   "metadata": {
    "scrolled": false
   },
   "outputs": [
    {
     "name": "stdout",
     "output_type": "stream",
     "text": [
      "f\n",
      "o\n",
      "u\n",
      "r\n"
     ]
    }
   ],
   "source": [
    "# we can print each letter out - a string is made up of its constituent pieces.\n",
    "for letter in our_string:\n",
    "    print(letter)"
   ]
  },
  {
   "cell_type": "code",
   "execution_count": 7,
   "metadata": {},
   "outputs": [
    {
     "data": {
      "text/plain": [
       "False"
      ]
     },
     "execution_count": 7,
     "metadata": {},
     "output_type": "execute_result"
    }
   ],
   "source": [
    "# is 4 equal to four?\n",
    "our_int == our_string"
   ]
  },
  {
   "cell_type": "markdown",
   "metadata": {},
   "source": [
    "Python is very literal the number four is not equal to the word four. Similarly, we can see that a word is not equal to its individual letters (we could combine those letters and get a different result."
   ]
  },
  {
   "cell_type": "code",
   "execution_count": 8,
   "metadata": {
    "scrolled": true
   },
   "outputs": [
    {
     "data": {
      "text/plain": [
       "False"
      ]
     },
     "execution_count": 8,
     "metadata": {},
     "output_type": "execute_result"
    }
   ],
   "source": [
    "['f','o','u','r'] == 'four'"
   ]
  },
  {
   "cell_type": "markdown",
   "metadata": {},
   "source": [
    "Given how difficult it is for Python to parse these basic elements - how can it do more complicated things? like recognize the part of speech for a word? for a poem? We don't have to work from scratch - people build on the work of others. We can test out a basic part of speech tagger, but in order to do so we have to feed a series of words (a list) rather than a single word."
   ]
  },
  {
   "cell_type": "code",
   "execution_count": 9,
   "metadata": {},
   "outputs": [
    {
     "data": {
      "text/plain": [
       "[('A', 'DT'), ('sentence', 'NN'), ('made', 'VBN'), ('of', 'IN'), ('words', 'NNS')]"
      ]
     },
     "execution_count": 9,
     "metadata": {},
     "output_type": "execute_result"
    }
   ],
   "source": [
    "import nltk\n",
    "nltk.pos_tag([\"A\", \"sentence\", \"made\", \"of\", \"words\"])"
   ]
  },
  {
   "cell_type": "markdown",
   "metadata": {},
   "source": [
    "But how did that work? Time for…\n",
    "\n",
    "## Pause for a Brief interlude on Nicholas Sparks"
   ]
  },
  {
   "cell_type": "markdown",
   "metadata": {},
   "source": [
    "Given these basic building blocks, let's take a poem and try to work out how we would tag it convert it into a read out of parts of speech. We'll be about as hand-wave-y as you can possibly be here, only gesturing at what the code does on a macro level. Let's run it on \"The Rape of the Lock\" by Alexander Pope, a text marked up for parts of speech in the same way by Josephine Miles."
   ]
  },
  {
   "cell_type": "code",
   "execution_count": 10,
   "metadata": {},
   "outputs": [
    {
     "name": "stdout",
     "output_type": "stream",
     "text": [
      "Canto I\n",
      "\n",
      "What dire offence from am'rous causes springs, \n",
      "What mighty contests rise from trivial things, \n",
      "I sing — This verse to Caryl, Muse! is due: \n",
      "This, ev'n Belinda may vouchsafe to view: \n",
      "Slight is the subject, but not so the praise,\n",
      "If She inspire, and He approve my lays. \n",
      "\n",
      "Say what strange motive, Goddess! could compel\n",
      "A well-bred Lord t' assault a gentle Belle?\n",
      "O say what stranger cause, yet unexplor'd,\n",
      "Could make a gentle Belle reject a Lord?\n",
      "In tasks so bold, can little men engage,\n",
      "And in soft bosoms dwells such mighty Rage? \n",
      "\n",
      "Sol thro' white curtains shot a tim'rous ray,\n",
      "And oped those eyes that must eclipse the day:\n",
      "Now lap-dogs give themselves the rousing shake,\n",
      "And sleepless lovers, just at twelve, awake:\n",
      "Thrice rung the bell, the slipper knock'd the ground,\n",
      "And the press'd watch return'd a silver sound.\n",
      "Belinda still her downy pillow prest, \n",
      "Her guardian Sylph prolong'd the balmy rest:\n",
      "'Twas He had summon'd to her silent bed\n",
      "The morning-dream that hover'd o'er her head;\n",
      "\n"
     ]
    }
   ],
   "source": [
    "# Take a poem (exists at belief.txt) and read it in\n",
    "\n",
    "filename = \"Pope-RapeoftheLock.txt\"\n",
    "\n",
    "with open(filename, 'r') as filein:\n",
    "    text = filein.read()\n",
    "\n",
    "# by default this is going to be the whole text as one long strings (line breaks\n",
    "# are represented by a \\n character)\n",
    "\n",
    "print(text[0:1000])"
   ]
  },
  {
   "cell_type": "code",
   "execution_count": 11,
   "metadata": {},
   "outputs": [
    {
     "data": {
      "text/plain": [
       "[('C', 'VB'), ('a', 'DT'), ('n', 'JJ'), ('t', 'NN'), ('o', 'IN'), (' ', 'NN'), ('I', 'PRP'), ('\\n', 'VBP'), ('\\n', 'JJ'), ('W', 'NNP'), ('h', 'NN'), ('a', 'DT'), ('t', 'NN'), (' ', 'NNP'), ('d', 'NN'), ('i', 'NN'), ('r', 'VBP'), ('e', 'NN'), (' ', 'NNP'), ('o', 'VBZ'), ('f', 'JJ'), ('f', 'JJ'), ('e', 'NN'), ('n', 'JJ'), ('c', 'NN'), ('e', 'NN'), (' ', 'NNP'), ('f', 'NN'), ('r', 'NN'), ('o', 'IN'), ('m', 'NN'), (' ', 'VBP'), ('a', 'DT'), ('m', 'NN'), (\"'\", 'POS'), ('r', 'NN'), ('o', 'IN'), ('u', 'JJ'), ('s', 'NN'), (' ', 'NNP'), ('c', 'VBZ'), ('a', 'DT'), ('u', 'JJ'), ('s', 'NN'), ('e', 'NN'), ('s', 'NN'), (' ', 'NNP'), ('s', 'NN'), ('p', 'NN'), ('r', 'NN')]"
      ]
     },
     "execution_count": 11,
     "metadata": {},
     "output_type": "execute_result"
    }
   ],
   "source": [
    "# tag the poem!\n",
    "\n",
    "import nltk\n",
    "nltk.pos_tag(text[0:50])"
   ]
  },
  {
   "cell_type": "markdown",
   "metadata": {},
   "source": [
    "Oops that didn't work. Remember that the POS tagger we're using requires a list of words, and it read our file in as one long string. By default a string is divided into characters - it doesn't know what a \"word\" is. So we have to break that poem into words."
   ]
  },
  {
   "cell_type": "code",
   "execution_count": 12,
   "metadata": {},
   "outputs": [
    {
     "data": {
      "text/plain": [
       "['Canto', 'I', 'What', 'dire', 'offence', 'from', \"am'rous\", 'causes', 'springs', ',', 'What', 'mighty', 'contests', 'rise', 'from', 'trivial', 'things', ',', 'I', 'sing', '—', 'This', 'verse', 'to', 'Caryl', ',', 'Muse', '!', 'is', 'due', ':', 'This', ',', 'ev', \"'\", 'n', 'Belinda', 'may', 'vouchsafe', 'to', 'view', ':', 'Slight', 'is', 'the', 'subject', ',', 'but', 'not', 'so']"
      ]
     },
     "execution_count": 12,
     "metadata": {},
     "output_type": "execute_result"
    }
   ],
   "source": [
    "# break a text into a series of words\n",
    "\n",
    "words = nltk.word_tokenize(text)\n",
    "    \n",
    "words[0:50]"
   ]
  },
  {
   "cell_type": "code",
   "execution_count": 13,
   "metadata": {},
   "outputs": [
    {
     "data": {
      "text/plain": [
       "\"NNP PRP WP VBD NN IN JJ NNS NNS , WP VBD NNS NN IN JJ NNS , PRP VBP PDT DT NN TO NNP , NNP . VBZ JJ : DT , NN '' JJ NNP MD VB TO VB : NNP VBZ DT NN , CC RB IN DT NN , IN PRP VBP , CC PRP VB PRP$ NNS . VB WP JJ NN , NNP . MD VB DT JJ NNP NN '' NN DT JJ NNP . NNP VBP WP NN NN , CC JJ NN , NNP VB DT JJ NNP VBP DT NNP . IN NNS RB RB , MD VB NNS VB , CC IN JJ NNS NNS JJ JJ NNP . NNP NN '' JJ NNS VBD DT JJ NN , CC VBD DT NNS WDT MD VB DT NN : RB VBP JJ PRP DT VBG NN , CC NN NNS , RB IN NN , NN : NNP VBD DT NN , DT NN NN VBD DT NN , CC DT NN MD VB NN MD DT JJ NN . NNP RB PRP$ NN NN NN , NNP NN NNP RB VBD DT NN NN : CC PRP VBD VBN MD TO PRP$ JJ NN DT NN IN NN MD VB PRP$ NN : NNP NNP RBR NN IN DT JJ NNP , ( IN NN '' NNS IN NN NN MD PRP$ NN TO VB ) NNP MD TO PRP$ VB PRP$ VBG NNS TO VB , CC RB IN NNS VBD , CC VBP MD TO VB . NNP IN NNS , EX JJ MD VB IN NN JJ NNS IN NNP . IN JJ CD NN NN . MD VB JJ NN , IN PDT DT NNP CC PDT DT NNP VBP VBN : IN NN NNS IN NN NNS VBN , DT NN NN , CC DT JJ JJ , CC NNS V\""
      ]
     },
     "execution_count": 13,
     "metadata": {},
     "output_type": "execute_result"
    }
   ],
   "source": [
    "tag_pairs = nltk.pos_tag(words)\n",
    "\n",
    "just_tags = []\n",
    "for tag_pair in tag_pairs:\n",
    "    just_tags.append(tag_pair[1])\n",
    "    \n",
    "' '.join(just_tags)[:1000]"
   ]
  },
  {
   "cell_type": "markdown",
   "metadata": {},
   "source": [
    "But that is a little unhelpful, because it takes the tags and combines them one long line of text. This is poetry, and we want to respect the lines. Until now we have been arbitraily cutting off our output to make it more legible after the first 1000 characters, 100 words, etc. But, again, that's not super meaningful for poetry. Having things in terms of lines will make it easier to select a smaller unit of the poem."
   ]
  },
  {
   "cell_type": "code",
   "execution_count": 14,
   "metadata": {},
   "outputs": [
    {
     "data": {
      "text/plain": [
       "[['Canto', 'I'], [], ['What', 'dire', 'offence', 'from', \"am'rous\", 'causes', 'springs', ','], ['What', 'mighty', 'contests', 'rise', 'from', 'trivial', 'things', ','], ['I', 'sing', '—', 'This', 'verse', 'to', 'Caryl', ',', 'Muse', '!', 'is', 'due', ':'], ['This', ',', 'ev', \"'\", 'n', 'Belinda', 'may', 'vouchsafe', 'to', 'view', ':'], ['Slight', 'is', 'the', 'subject', ',', 'but', 'not', 'so', 'the', 'praise', ','], ['If', 'She', 'inspire', ',', 'and', 'He', 'approve', 'my', 'lays', '.'], [], ['Say', 'what', 'strange', 'motive', ',', 'Goddess', '!', 'could', 'compel'], ['A', 'well-bred', 'Lord', 't', \"'\", 'assault', 'a', 'gentle', 'Belle', '?'], ['O', 'say', 'what', 'stranger', 'cause', ',', 'yet', 'unexplor', \"'d\", ','], ['Could', 'make', 'a', 'gentle', 'Belle', 'reject', 'a', 'Lord', '?'], ['In', 'tasks', 'so', 'bold', ',', 'can', 'little', 'men', 'engage', ','], ['And', 'in', 'soft', 'bosoms', 'dwells', 'such', 'mighty', 'Rage', '?'], [], ['Sol', 'thro', \"'\", 'white', 'curtains', 'shot', 'a', \"tim'rous\", 'ray', ','], ['And', 'oped', 'those', 'eyes', 'that', 'must', 'eclipse', 'the', 'day', ':'], ['Now', 'lap-dogs', 'give', 'themselves', 'the', 'rousing', 'shake', ','], ['And', 'sleepless', 'lovers', ',', 'just', 'at', 'twelve', ',', 'awake', ':']]"
      ]
     },
     "execution_count": 14,
     "metadata": {},
     "output_type": "execute_result"
    }
   ],
   "source": [
    "with open(filename, 'r') as filein:\n",
    "    lines = filein.readlines()\n",
    "\n",
    "tokenized_lines = []\n",
    "for line in lines:\n",
    "    words = nltk.word_tokenize(line)\n",
    "    tokenized_lines.append(words)\n",
    "\n",
    "tokenized_lines[0:20]"
   ]
  },
  {
   "cell_type": "code",
   "execution_count": 15,
   "metadata": {},
   "outputs": [
    {
     "data": {
      "text/plain": [
       "[['Canto/NNP', 'I/PRP'], [], ['What/WP', 'dire/VBD', 'offence/NN', 'from/IN', \"am'rous/JJ\", 'causes/NNS', 'springs/NNS', ',/,'], ['What/WP', 'mighty/NN', 'contests/NNS', 'rise/VBP', 'from/IN', 'trivial/JJ', 'things/NNS', ',/,'], ['I/PRP', 'sing/VBG', '—/RBR', 'This/DT', 'verse/NN', 'to/TO', 'Caryl/NNP', ',/,', 'Muse/NNP', '!/.', 'is/VBZ', 'due/JJ', ':/:'], ['This/DT', ',/,', 'ev/NN', \"'/''\", 'n/JJ', 'Belinda/NNP', 'may/MD', 'vouchsafe/VB', 'to/TO', 'view/NN', ':/:'], ['Slight/NNP', 'is/VBZ', 'the/DT', 'subject/NN', ',/,', 'but/CC', 'not/RB', 'so/IN', 'the/DT', 'praise/NN', ',/,'], ['If/IN', 'She/PRP', 'inspire/VBP', ',/,', 'and/CC', 'He/PRP', 'approve/VB', 'my/PRP$', 'lays/NNS', './.'], [], ['Say/NNP', 'what/WP', 'strange/JJ', 'motive/NN', ',/,', 'Goddess/NNP', '!/.', 'could/MD', 'compel/VB'], ['A/DT', 'well-bred/JJ', 'Lord/NNP', 't/NN', \"'/''\", 'assault/NN', 'a/DT', 'gentle/JJ', 'Belle/NNP', '?/.'], ['O/NNP', 'say/VBP', 'what/WP', 'stranger/NN', 'cause/NN', ',/,', 'yet/CC', 'unexplor/JJ', \"'d/NN\", ',/,'], ['Could/NNP', 'make/VB', 'a/DT', 'gentle/JJ', 'Belle/NNP', 'reject/VBP', 'a/DT', 'Lord/NNP', '?/.'], ['In/IN', 'tasks/NNS', 'so/RB', 'bold/RB', ',/,', 'can/MD', 'little/VB', 'men/NNS', 'engage/VB', ',/,'], ['And/CC', 'in/IN', 'soft/JJ', 'bosoms/NNS', 'dwells/NNS', 'such/JJ', 'mighty/JJ', 'Rage/NN', '?/.'], [], ['Sol/NNP', 'thro/NN', \"'/''\", 'white/JJ', 'curtains/NNS', 'shot/VBD', 'a/DT', \"tim'rous/JJ\", 'ray/NN', ',/,'], ['And/CC', 'oped/VBD', 'those/DT', 'eyes/NNS', 'that/WDT', 'must/MD', 'eclipse/VB', 'the/DT', 'day/NN', ':/:'], ['Now/RB', 'lap-dogs/JJ', 'give/VBP', 'themselves/PRP', 'the/DT', 'rousing/VBG', 'shake/NN', ',/,'], ['And/CC', 'sleepless/NN', 'lovers/NNS', ',/,', 'just/RB', 'at/IN', 'twelve/NN', ',/,', 'awake/NN', ':/:'], ['Thrice/NNP', 'rung/VBD', 'the/DT', 'bell/NN', ',/,', 'the/DT', 'slipper/NN', 'knock/NN', \"'d/VBD\", 'the/DT', 'ground/NN', ',/,'], ['And/CC', 'the/DT', 'press/NN', \"'d/MD\", 'watch/VB', 'return/NN', \"'d/MD\", 'a/DT', 'silver/JJ', 'sound/NN', './.'], ['Belinda/NNP', 'still/RB', 'her/PRP$', 'downy/NN', 'pillow/NN', 'prest/NN', ',/,'], ['Her/PRP$', 'guardian/JJ', 'Sylph/NNP', 'prolong/NN', \"'d/VBD\", 'the/DT', 'balmy/NN', 'rest/NN', ':/:'], [\"'T/NN\", 'was/VBD', 'He/PRP', 'had/VBD', 'summon/VBN', \"'d/MD\", 'to/TO', 'her/PRP$', 'silent/JJ', 'bed/NN'], ['The/DT', 'morning-dream/NN', 'that/IN', 'hover/NN', \"'d/MD\", \"o'er/VB\", 'her/PRP$', 'head/NN', ';/:'], ['A/DT', 'Youth/NNP', 'more/RBR', \"glitt'ring/NN\", 'than/IN', 'a/DT', 'Birth-night/JJ', 'Beau/NNP', ',/,'], ['(/(', 'That/DT', 'ev/NN', \"'/''\", 'n/NNS', 'in/IN', 'slumber/NN', 'caus/NN', \"'d/MD\", 'her/PRP$', 'cheek/NN', 'to/TO', 'glow/VB', ')/)'], ['Seem/NNP', \"'d/MD\", 'to/TO', 'her/PRP$', 'ear/VB', 'his/PRP$', 'winning/VBG', 'lips/NNS', 'to/TO', 'lay/VB', ',/,'], ['And/CC', 'thus/RB', 'in/IN', 'whispers/NNS', 'said/VBD', ',/,', 'or/CC', 'seem/VBP', \"'d/MD\", 'to/TO', 'say/VB', './.']]"
      ]
     },
     "execution_count": 15,
     "metadata": {},
     "output_type": "execute_result"
    }
   ],
   "source": [
    "# now that we have the lines as a series of words (or tokens) - let's go through and tag them\n",
    "\n",
    "tagged_lines = []\n",
    "for line in tokenized_lines:\n",
    "    tagged_lines.append(nltk.pos_tag(line))\n",
    "\n",
    "just_tags_for_lines = []\n",
    "\n",
    "for line in tagged_lines:\n",
    "    this_line = []\n",
    "    for tag_pair in line:\n",
    "        this_line.append(tag_pair[0] +'/'+ tag_pair[1])\n",
    "    just_tags_for_lines.append(this_line)\n",
    "\n",
    "just_tags_for_lines[0:30]"
   ]
  },
  {
   "cell_type": "code",
   "execution_count": 16,
   "metadata": {},
   "outputs": [
    {
     "name": "stdout",
     "output_type": "stream",
     "text": [
      "Canto/NNP  I/PRP\n",
      "\n",
      "What/WP  dire/VBD  offence/NN  from/IN  am'rous/JJ  causes/NNS  springs/NNS  ,/,\n",
      "What/WP  mighty/NN  contests/NNS  rise/VBP  from/IN  trivial/JJ  things/NNS  ,/,\n",
      "I/PRP  sing/VBG  —/RBR  This/DT  verse/NN  to/TO  Caryl/NNP  ,/,  Muse/NNP  !/.  is/VBZ  due/JJ  :/:\n",
      "This/DT  ,/,  ev/NN  '/''  n/JJ  Belinda/NNP  may/MD  vouchsafe/VB  to/TO  view/NN  :/:\n",
      "Slight/NNP  is/VBZ  the/DT  subject/NN  ,/,  but/CC  not/RB  so/IN  the/DT  praise/NN  ,/,\n",
      "If/IN  She/PRP  inspire/VBP  ,/,  and/CC  He/PRP  approve/VB  my/PRP$  lays/NNS  ./.\n",
      "\n",
      "Say/NNP  what/WP  strange/JJ  motive/NN  ,/,  Goddess/NNP  !/.  could/MD  compel/VB\n",
      "A/DT  well-bred/JJ  Lord/NNP  t/NN  '/''  assault/NN  a/DT  gentle/JJ  Belle/NNP  ?/.\n",
      "O/NNP  say/VBP  what/WP  stranger/NN  cause/NN  ,/,  yet/CC  unexplor/JJ  'd/NN  ,/,\n",
      "Could/NNP  make/VB  a/DT  gentle/JJ  Belle/NNP  reject/VBP  a/DT  Lord/NNP  ?/.\n",
      "In/IN  tasks/NNS  so/RB  bold/RB  ,/,  can/MD  little/VB  men/NNS  engage/VB  ,/,\n",
      "And/CC  in/IN  soft/JJ  bosoms/NNS  dwells/NNS  such/JJ  mighty/JJ  Rage/NN  ?/.\n",
      "\n",
      "Sol/NNP  thro/NN  '/''  white/JJ  curtains/NNS  shot/VBD  a/DT  tim'rous/JJ  ray/NN  ,/,\n",
      "And/CC  oped/VBD  those/DT  eyes/NNS  that/WDT  must/MD  eclipse/VB  the/DT  day/NN  :/:\n",
      "Now/RB  lap-dogs/JJ  give/VBP  themselves/PRP  the/DT  rousing/VBG  shake/NN  ,/,\n",
      "And/CC  sleepless/NN  lovers/NNS  ,/,  just/RB  at/IN  twelve/NN  ,/,  awake/NN  :/:\n",
      "Thrice/NNP  rung/VBD  the/DT  bell/NN  ,/,  the/DT  slipper/NN  knock/NN  'd/VBD  the/DT  ground/NN  ,/,\n",
      "And/CC  the/DT  press/NN  'd/MD  watch/VB  return/NN  'd/MD  a/DT  silver/JJ  sound/NN  ./.\n",
      "Belinda/NNP  still/RB  her/PRP$  downy/NN  pillow/NN  prest/NN  ,/,\n",
      "Her/PRP$  guardian/JJ  Sylph/NNP  prolong/NN  'd/VBD  the/DT  balmy/NN  rest/NN  :/:\n",
      "'T/NN  was/VBD  He/PRP  had/VBD  summon/VBN  'd/MD  to/TO  her/PRP$  silent/JJ  bed/NN\n",
      "The/DT  morning-dream/NN  that/IN  hover/NN  'd/MD  o'er/VB  her/PRP$  head/NN  ;/:\n",
      "A/DT  Youth/NNP  more/RBR  glitt'ring/NN  than/IN  a/DT  Birth-night/JJ  Beau/NNP  ,/,\n",
      "(/(  That/DT  ev/NN  '/''  n/NNS  in/IN  slumber/NN  caus/NN  'd/MD  her/PRP$  cheek/NN  to/TO  glow/VB  )/)\n",
      "Seem/NNP  'd/MD  to/TO  her/PRP$  ear/VB  his/PRP$  winning/VBG  lips/NNS  to/TO  lay/VB  ,/,\n",
      "And/CC  thus/RB  in/IN  whispers/NNS  said/VBD  ,/,  or/CC  seem/VBP  'd/MD  to/TO  say/VB  ./.\n"
     ]
    }
   ],
   "source": [
    "# but that is kind of gross to read, so let's put things back together as a poem,\n",
    "# without the brackets, commas, etc. that python requires to run\n",
    "\n",
    "transformed_poem = []\n",
    "for line in just_tags_for_lines:\n",
    "    transformed_poem.append('  '.join(line))\n",
    "    \n",
    "    \n",
    "for line in transformed_poem[0:30]:\n",
    "    print(line)"
   ]
  },
  {
   "cell_type": "code",
   "execution_count": 19,
   "metadata": {},
   "outputs": [
    {
     "name": "stdout",
     "output_type": "stream",
     "text": [
      "Canto/NNP  I/PRP\n",
      "\n",
      "What/WP  dire/VBD  offence/NN  from/IN  am'rous/JJ  causes/NNS  springs/NNS  ,/,\n",
      "What/WP  mighty/NN  contests/NNS  rise/VBP  from/IN  trivial/JJ  things/NNS  ,/,\n",
      "I/PRP  sing/VBG  —/RBR  This/DT  verse/NN  to/TO  Caryl/NNP  ,/,  Muse/NNP  !/.  is/VBZ  due/JJ  :/:\n",
      "This/DT  ,/,  ev/NN  '/''  n/JJ  Belinda/NNP  may/MD  vouchsafe/VB  to/TO  view/NN  :/:\n",
      "Slight/NNP  is/VBZ  the/DT  subject/NN  ,/,  but/CC  not/RB  so/IN  the/DT  praise/NN  ,/,\n",
      "If/IN  She/PRP  inspire/VBP  ,/,  and/CC  He/PRP  approve/VB  my/PRP$  lays/NNS  ./.\n",
      "\n",
      "Say/NNP  what/WP  strange/JJ  motive/NN  ,/,  Goddess/NNP  !/.  could/MD  compel/VB\n",
      "A/DT  well-bred/JJ  Lord/NNP  t/NN  '/''  assault/NN  a/DT  gentle/JJ  Belle/NNP  ?/.\n",
      "O/NNP  say/VBP  what/WP  stranger/NN  cause/NN  ,/,  yet/CC  unexplor/JJ  'd/NN  ,/,\n",
      "Could/NNP  make/VB  a/DT  gentle/JJ  Belle/NNP  reject/VBP  a/DT  Lord/NNP  ?/.\n",
      "In/IN  tasks/NNS  so/RB  bold/RB  ,/,  can/MD  little/VB  men/NNS  engage/VB  ,/,\n",
      "And/CC  in/IN  soft/JJ  bosoms/NNS  dwells/NNS  such/JJ  mighty/JJ  Rage/NN  ?/.\n"
     ]
    }
   ],
   "source": [
    "#  let's make that a function for ease of use and just operate on the first two stanzas:\n",
    "def nltk_pos_transform(filename):\n",
    "    \"\"\"Given a filename, take a poem and transform it into its POS tags\"\"\"\n",
    "    with open(filename, 'r') as filein:\n",
    "        lines = filein.readlines()\n",
    "\n",
    "    tokenized_lines = []\n",
    "    for line in lines:\n",
    "        words = nltk.word_tokenize(line)\n",
    "        tokenized_lines.append(words)\n",
    "\n",
    "    tagged_lines = []\n",
    "    for line in tokenized_lines:\n",
    "        tagged_lines.append(nltk.pos_tag(line))\n",
    "\n",
    "    just_tags_for_lines = []\n",
    "\n",
    "    for line in tagged_lines[:15]:\n",
    "        this_line = []\n",
    "        for tag_pair in line:\n",
    "            this_line.append(tag_pair[0] + '/' + tag_pair[1])\n",
    "        just_tags_for_lines.append(this_line)\n",
    "\n",
    "    # reconstituting them now\n",
    "    transformed_poem = []\n",
    "    for line in just_tags_for_lines:\n",
    "        transformed_poem.append('  '.join(line))\n",
    "\n",
    "\n",
    "    for line in transformed_poem:\n",
    "        print(line)\n",
    "\n",
    "nltk_pos_transform('Pope-RapeoftheLock.txt')\n"
   ]
  },
  {
   "cell_type": "code",
   "execution_count": 20,
   "metadata": {},
   "outputs": [
    {
     "name": "stdout",
     "output_type": "stream",
     "text": [
      "Canto/NNP  I/CD\n",
      "\n",
      "What/WP  dire/JJ  offence/NN  from/IN  am'rous/JJ  causes/NNS  springs/NNS  ,/,\n",
      "What/WDT  mighty/JJ  contests/NNS  rise/VBP  from/IN  trivial/JJ  things/NNS  ,/,\n",
      "I/PRP  sing/VBP  —/:  This/DT  verse/NN  to/IN  Caryl/NNP  ,/,  Muse/NNP  !/.  is/VBZ  due/JJ  :/:\n",
      "This/DT  ,/,  ev'n/NNP  Belinda/NNP  may/MD  vouchsafe/VB  to/TO  view/VB  :/:\n",
      "Slight/JJ  is/VBZ  the/DT  subject/NN  ,/,  but/CC  not/RB  so/RB  the/DT  praise/NN  ,/,\n",
      "If/IN  She/PRP  inspire/VBP  ,/,  and/CC  He/PRP  approve/VBP  my/PRP$  lays/NNS  ./.\n",
      "\n",
      "Say/VB  what/WP  strange/JJ  motive/NN  ,/,  Goddess/NNP  !/.  could/MD  compel/VB\n",
      "A/DT  well/RB  -/HYPH  bred/VBN  Lord/NNP  t/NNP  '/''  assault/NN  a/DT  gentle/JJ  Belle/NNP  ?/.\n",
      "O/UH  say/VB  what/WP  stranger/NN  cause/VBP  ,/,  yet/CC  unexplor'd/JJ  ,/,\n",
      "Could/MD  make/VB  a/DT  gentle/JJ  Belle/NNP  reject/VB  a/DT  Lord/NNP  ?/.\n",
      "In/IN  tasks/NNS  so/RB  bold/RB  ,/,  can/MD  little/JJ  men/NNS  engage/VB  ,/,\n",
      "And/CC  in/IN  soft/JJ  bosoms/NNS  dwells/NNS  such/JJ  mighty/JJ  Rage/NN  ?/.\n"
     ]
    }
   ],
   "source": [
    "import spacy\n",
    "import en_core_web_sm\n",
    "\n",
    "# let's do the same thing with spacy\n",
    "\n",
    "def spacy_pos_transform(filename):\n",
    "    \"\"\"Given a filename, take a poem and transform it into its POS tags\"\"\"\n",
    "    nlp = en_core_web_sm.load()\n",
    "    with open(filename, 'r') as filein:\n",
    "        lines = filein.readlines()\n",
    "\n",
    "    spacy_lines = []\n",
    "    for line in lines[:15]:\n",
    "        this_line = []\n",
    "        doc = nlp(line)\n",
    "        for token in doc:\n",
    "            if token.tag_ != \"_SP\":\n",
    "                this_line.append(token.text + '/' + token.tag_) \n",
    "        spacy_lines.append(this_line)\n",
    "    # reconstituting them now\n",
    "    transformed_poem = []\n",
    "    for line in spacy_lines:\n",
    "        transformed_poem.append('  '.join(line))\n",
    "\n",
    "\n",
    "    for line in transformed_poem:\n",
    "        print(line)\n",
    "\n",
    "spacy_pos_transform('Pope-RapeoftheLock.txt')\n"
   ]
  },
  {
   "cell_type": "markdown",
   "metadata": {},
   "source": [
    "Let's compare the two against each other:"
   ]
  },
  {
   "cell_type": "code",
   "execution_count": 21,
   "metadata": {},
   "outputs": [
    {
     "name": "stdout",
     "output_type": "stream",
     "text": [
      "NLTK transform results:\n",
      "Canto/NNP  I/PRP\n",
      "\n",
      "What/WP  dire/VBD  offence/NN  from/IN  am'rous/JJ  causes/NNS  springs/NNS  ,/,\n",
      "What/WP  mighty/NN  contests/NNS  rise/VBP  from/IN  trivial/JJ  things/NNS  ,/,\n",
      "I/PRP  sing/VBG  —/RBR  This/DT  verse/NN  to/TO  Caryl/NNP  ,/,  Muse/NNP  !/.  is/VBZ  due/JJ  :/:\n",
      "This/DT  ,/,  ev/NN  '/''  n/JJ  Belinda/NNP  may/MD  vouchsafe/VB  to/TO  view/NN  :/:\n",
      "Slight/NNP  is/VBZ  the/DT  subject/NN  ,/,  but/CC  not/RB  so/IN  the/DT  praise/NN  ,/,\n",
      "If/IN  She/PRP  inspire/VBP  ,/,  and/CC  He/PRP  approve/VB  my/PRP$  lays/NNS  ./.\n",
      "\n",
      "Say/NNP  what/WP  strange/JJ  motive/NN  ,/,  Goddess/NNP  !/.  could/MD  compel/VB\n",
      "A/DT  well-bred/JJ  Lord/NNP  t/NN  '/''  assault/NN  a/DT  gentle/JJ  Belle/NNP  ?/.\n",
      "O/NNP  say/VBP  what/WP  stranger/NN  cause/NN  ,/,  yet/CC  unexplor/JJ  'd/NN  ,/,\n",
      "Could/NNP  make/VB  a/DT  gentle/JJ  Belle/NNP  reject/VBP  a/DT  Lord/NNP  ?/.\n",
      "In/IN  tasks/NNS  so/RB  bold/RB  ,/,  can/MD  little/VB  men/NNS  engage/VB  ,/,\n",
      "And/CC  in/IN  soft/JJ  bosoms/NNS  dwells/NNS  such/JJ  mighty/JJ  Rage/NN  ?/.\n",
      "=========\n",
      "Spacy transform results:\n",
      "Canto/NNP  I/CD\n",
      "\n",
      "What/WP  dire/JJ  offence/NN  from/IN  am'rous/JJ  causes/NNS  springs/NNS  ,/,\n",
      "What/WDT  mighty/JJ  contests/NNS  rise/VBP  from/IN  trivial/JJ  things/NNS  ,/,\n",
      "I/PRP  sing/VBP  —/:  This/DT  verse/NN  to/IN  Caryl/NNP  ,/,  Muse/NNP  !/.  is/VBZ  due/JJ  :/:\n",
      "This/DT  ,/,  ev'n/NNP  Belinda/NNP  may/MD  vouchsafe/VB  to/TO  view/VB  :/:\n",
      "Slight/JJ  is/VBZ  the/DT  subject/NN  ,/,  but/CC  not/RB  so/RB  the/DT  praise/NN  ,/,\n",
      "If/IN  She/PRP  inspire/VBP  ,/,  and/CC  He/PRP  approve/VBP  my/PRP$  lays/NNS  ./.\n",
      "\n",
      "Say/VB  what/WP  strange/JJ  motive/NN  ,/,  Goddess/NNP  !/.  could/MD  compel/VB\n",
      "A/DT  well/RB  -/HYPH  bred/VBN  Lord/NNP  t/NNP  '/''  assault/NN  a/DT  gentle/JJ  Belle/NNP  ?/.\n",
      "O/UH  say/VB  what/WP  stranger/NN  cause/VBP  ,/,  yet/CC  unexplor'd/JJ  ,/,\n",
      "Could/MD  make/VB  a/DT  gentle/JJ  Belle/NNP  reject/VB  a/DT  Lord/NNP  ?/.\n",
      "In/IN  tasks/NNS  so/RB  bold/RB  ,/,  can/MD  little/JJ  men/NNS  engage/VB  ,/,\n",
      "And/CC  in/IN  soft/JJ  bosoms/NNS  dwells/NNS  such/JJ  mighty/JJ  Rage/NN  ?/.\n"
     ]
    }
   ],
   "source": [
    "print('NLTK transform results:')\n",
    "nltk_pos_transform('Pope-RapeoftheLock.txt')\n",
    "print('=========')\n",
    "print('Spacy transform results:')\n",
    "spacy_pos_transform('Pope-RapeoftheLock.txt')"
   ]
  },
  {
   "cell_type": "markdown",
   "metadata": {},
   "source": [
    "Can be difficult to compare. Let's make a function that compares the two outputs and gives a 1 if they are the same or a 0 if they are different. And since you might want to upload your text, let's change things slightly. Rather than use an external file, the following code block will just take a long pasted string. So you could paste your own poem from on the web if you'd like!  \n",
    "\n"
   ]
  },
  {
   "cell_type": "code",
   "execution_count": 22,
   "metadata": {},
   "outputs": [
    {
     "name": "stdout",
     "output_type": "stream",
     "text": [
      "NLTK transform results:\n",
      "\n",
      "Canto/NNP  I/PRP\n",
      "\n",
      "What/WP  dire/VBD  offence/NN  from/IN  am'rous/JJ  causes/NNS  springs/NNS  ,/,\n",
      "What/WP  mighty/NN  contests/NNS  rise/VBP  from/IN  trivial/JJ  things/NNS  ,/,\n",
      "I/PRP  sing/VBG  —/RBR  This/DT  verse/NN  to/TO  Caryl/NNP  ,/,  Muse/NNP  !/.  is/VBZ  due/JJ  :/:\n",
      "This/DT  ,/,  ev/NN  '/''  n/JJ  Belinda/NNP  may/MD  vouchsafe/VB  to/TO  view/NN  :/:\n",
      "Slight/NNP  is/VBZ  the/DT  subject/NN  ,/,  but/CC  not/RB  so/IN  the/DT  praise/NN  ,/,\n",
      "If/IN  She/PRP  inspire/VBP  ,/,  and/CC  He/PRP  approve/VB  my/PRP$  lays/NNS  ./.\n",
      "\n",
      "Say/NNP  what/WP  strange/JJ  motive/NN  ,/,  Goddess/NNP  !/.  could/MD  compel/VB\n",
      "A/DT  well-bred/JJ  Lord/NNP  t/NN  '/''  assault/NN  a/DT  gentle/JJ  Belle/NNP  ?/.\n",
      "O/NNP  say/VBP  what/WP  stranger/NN  cause/NN  ,/,  yet/CC  unexplor/JJ  'd/NN  ,/,\n",
      "Could/NNP  make/VB  a/DT  gentle/JJ  Belle/NNP  reject/VBP  a/DT  Lord/NNP  ?/.\n",
      "In/IN  tasks/NNS  so/RB  bold/RB  ,/,  can/MD  little/VB  men/NNS  engage/VB  ,/,\n",
      "And/CC  in/IN  soft/JJ  bosoms/NNS  dwells/NNS  such/JJ  mighty/JJ  Rage/NN  ?/.\n",
      "\n",
      "=========\n",
      "Spacy transform results:\n",
      "\n",
      "Canto/NNP  I/PRP\n",
      "\n",
      "What/WP  dire/JJ  offence/NN  from/IN  am'rous/JJ  causes/NNS  springs/NNS  ,/,\n",
      "What/WDT  mighty/JJ  contests/NNS  rise/VBP  from/IN  trivial/JJ  things/NNS  ,/,\n",
      "I/PRP  sing/VBP  —/:  This/DT  verse/NN  to/IN  Caryl/NNP  ,/,  Muse/NNP  !/.  is/VBZ  due/JJ  :/:\n",
      "This/DT  ,/,  ev'n/NNP  Belinda/NNP  may/MD  vouchsafe/VB  to/TO  view/VB  :/:\n",
      "Slight/JJ  is/VBZ  the/DT  subject/NN  ,/,  but/CC  not/RB  so/RB  the/DT  praise/NN  ,/,\n",
      "If/IN  She/PRP  inspire/VBP  ,/,  and/CC  He/PRP  approve/VBP  my/PRP$  lays/NNS  ./.\n",
      "\n",
      "Say/VB  what/WP  strange/JJ  motive/NN  ,/,  Goddess/NNP  !/.  could/MD  compel/VB\n",
      "A/DT  well/RB  -/HYPH  bred/VBN  Lord/NNP  t/NNP  '/''  assault/NN  a/DT  gentle/JJ  Belle/NNP  ?/.\n",
      "O/UH  say/VB  what/WP  stranger/NN  cause/VBP  ,/,  yet/CC  unexplor'd/JJ  ,/,\n",
      "Could/MD  make/VB  a/DT  gentle/JJ  Belle/NNP  reject/VB  a/DT  Lord/NNP  ?/.\n",
      "In/IN  tasks/NNS  so/RB  bold/RB  ,/,  can/MD  little/JJ  men/NNS  engage/VB  ,/,\n",
      "And/CC  in/IN  soft/JJ  bosoms/NNS  dwells/NNS  such/JJ  mighty/JJ  Rage/NN  ?/.\n",
      "\n",
      "Comparison legend: 1 is the same tag in both systems. If differen,t it prints the word followed by the spacy tag and then the nltk tag, separated by a |\n",
      "\n",
      "1\n",
      "\n",
      "1  dire/JJ|VBD  1  1  1  1  1  1  1\n",
      "What/WDT|WP  mighty/JJ|NN  1  1  1  1  1  1  1\n",
      "1  sing/VBP|VBG  —/|RBR  :|DT  This/DT|NN  verse/NN|TO  to/IN|NNP  ,|  ,|NNP  !|  .|VBZ  is/VBZ|JJ  :|\n",
      "1  1  1  1  ev|NN  '|  Belinda/NNP|JJ  may/MD|NNP  vouchsafe/VB|MD  to/TO|VB  view/VB|TO  :|NN\n",
      "Slight/JJ|NNP  1  1  1  1  1  1  1  1  so/RB|IN  1  1  1  1\n",
      "1  1  1  1  1  1  1  1  approve/VBP|VB  1  1  1  1\n",
      "\n",
      "Say/VB|NNP  1  1  1  1  1  1  1  1  1  1  1\n",
      "1  well/RB|JJ  -/HYPH|NNP  bred/VBN|NN  Lord/NNP|  '/|NN  ''|DT  assault/NN|JJ  a/DT|NNP  Belle/NNP|\n",
      "O/UH|NNP  say/VB|VBP  1  1  cause/VBP|NN  1  1  1  1  unexplor'd/JJ|JJ  ,|NN\n",
      "Could/MD|NNP  1  1  1  1  reject/VB|VBP  1  1  1  1\n",
      "1  1  1  1  1  1  1  1  little/JJ|VB  1  1  1  1\n",
      "1  1  1  1  1  1  1  1  1  1\n",
      "\n"
     ]
    }
   ],
   "source": [
    "our_text = \"\"\"\n",
    "Canto I\n",
    "\n",
    "What dire offence from am'rous causes springs, \n",
    "What mighty contests rise from trivial things, \n",
    "I sing — This verse to Caryl, Muse! is due: \n",
    "This, ev'n Belinda may vouchsafe to view: \n",
    "Slight is the subject, but not so the praise,\n",
    "If She inspire, and He approve my lays. \n",
    "\n",
    "Say what strange motive, Goddess! could compel\n",
    "A well-bred Lord t' assault a gentle Belle?\n",
    "O say what stranger cause, yet unexplor'd,\n",
    "Could make a gentle Belle reject a Lord?\n",
    "In tasks so bold, can little men engage,\n",
    "And in soft bosoms dwells such mighty Rage? \n",
    "\"\"\"\n",
    "\n",
    "def spacy_pos_transform(text):\n",
    "    \"\"\"Given a string pasted in, take a poem and transform it into its POS tags\"\"\"\n",
    "    nlp = en_core_web_sm.load()\n",
    "    lines = text.split('\\n')\n",
    "    spacy_lines = []\n",
    "    for line in lines:\n",
    "        this_line = []\n",
    "        doc = nlp(line)\n",
    "        for token in doc:\n",
    "            if token.tag_ != \"_SP\":\n",
    "                this_line.append(token.text + '/' + token.tag_) \n",
    "        spacy_lines.append(this_line)\n",
    "    # reconstituting them now\n",
    "    transformed_poem = []\n",
    "    for line in spacy_lines:\n",
    "        transformed_poem.append('  '.join(line))\n",
    "\n",
    "    return transformed_poem\n",
    "\n",
    "def nltk_pos_transform(text):\n",
    "    \"\"\"Given a string pasted in, take a poem and transform it into its POS tags\"\"\"\n",
    "    lines = text.split('\\n')\n",
    "    tokenized_lines = []\n",
    "    for line in lines:\n",
    "        words = nltk.word_tokenize(line)\n",
    "        tokenized_lines.append(words)\n",
    "    tagged_lines = []\n",
    "    for line in tokenized_lines:\n",
    "        tagged_lines.append(nltk.pos_tag(line))\n",
    "    just_tags_for_lines = []\n",
    "\n",
    "    for line in tagged_lines:\n",
    "        this_line = []\n",
    "        for tag_pair in line:\n",
    "            this_line.append(tag_pair[0] + '/' + tag_pair[1])\n",
    "        just_tags_for_lines.append(this_line)\n",
    "    # reconstituting them now\n",
    "    transformed_poem = []\n",
    "    for line in just_tags_for_lines:\n",
    "        transformed_poem.append('  '.join(line))\n",
    "    return transformed_poem\n",
    "\n",
    "def binary_poem(spacy_text, nltk_text):\n",
    "    binary_poem = []\n",
    "    line_counter = 0\n",
    "    for line in spacy_text:\n",
    "        this_line = []\n",
    "        spacy_line = nltk.word_tokenize(line)\n",
    "        nltk_line = nltk.word_tokenize(nltk_text[line_counter])\n",
    "        for num, word in enumerate(spacy_line[:-1], start=0):\n",
    "            try:\n",
    "                if word == nltk_line[num]:\n",
    "                    this_line.append(1)\n",
    "                else:\n",
    "                    this_line.append(word+ '|' + nltk_line[num].split('/')[1])\n",
    "            except:\n",
    "                pass\n",
    "        binary_poem.append(this_line)\n",
    "        line_counter += 1\n",
    "    return binary_poem\n",
    "\n",
    "spacy_text = spacy_pos_transform(our_text)\n",
    "nltk_text = nltk_pos_transform(our_text)\n",
    "binary_poem = binary_poem(spacy_text, nltk_text)\n",
    "\n",
    "print('NLTK transform results:')\n",
    "for line in nltk_text:\n",
    "    print(line)\n",
    "print('=========')\n",
    "print('Spacy transform results:')\n",
    "for line in spacy_text:\n",
    "    print(line)\n",
    "print('Comparison legend: 1 is the same tag in both systems. If differen,t it prints the word followed by the spacy tag and then the nltk tag, separated by a |')\n",
    "for line in binary_poem:\n",
    "    line = [str(item) for item in line]\n",
    "    print('  '.join(line))"
   ]
  },
  {
   "cell_type": "code",
   "execution_count": 62,
   "metadata": {},
   "outputs": [
    {
     "name": "stdout",
     "output_type": "stream",
     "text": [
      "===============\n",
      "Words tagged with variations of ADJ\n",
      "\n",
      "CD  twelve  thousand  one  two\n",
      "\n",
      "DT  This  This  the  the  A  a  a  a  a  those  the  the  the  the  the  the  a  the  The  A  a  the  the  The  the  Some  no  The  The  the  These  the  the  the  an  a  a  these  all  no  the  the  all  The  a  The  a  The  the\n",
      "\n",
      "PDT  all  all\n",
      "\n",
      "VBN  bred  summon'd  taught  seen  circled  visited  bound  learned  reveal'd  inclos'd  fled  gilded\n",
      "\n",
      "VBG  rousing  doubting  Succeeding  yielding\n",
      "\n",
      "JJ  dire  am'rous  mighty  trivial  due  Slight  strange  gentle  unexplor'd  gentle  little  soft  such  mighty  white  tim'rous  awake  silver  downy  silent  glitt'ring  bright  airy  golden  own  narrow  secret  Fair  Innocent  round  light  scorn  own  old  beauteous  soft  earthly  transient  dead  alive  first  fiery  Soft  elemental  light\n",
      "\n",
      "JJR  lower\n",
      "\n",
      "JJS  Fairest\n",
      "\n",
      "\n",
      "\n",
      "===============\n",
      "Words tagged with variations of NOUN\n",
      "\n",
      "NN  offence  verse  subject  praise  motive  assault  stranger  Rage  thro  ray  day  lap  shake  sleepless  bell  slipper  ground  sound  pillow  prest  guardian  rest  bed  morning  dream  head  Youth  Birth  night  slumber  cheek  winning  Air  vision  touch  infant  moonlight  silver  token  green  importance  pride  tho  credit  thee  fly  sky  tho  unseen  wing  equipage  thou  hast  mould  Thence  transition  air  breath  tho  joy  love  death  pride  name  Tea  graver  search  mischief  roam  sport  flutter\n",
      "\n",
      "NNS  causes  springs  contests  things  lays  tasks  men  bosoms  dwells  curtains  eyes  dogs  lovers  ev'n  lips  whispers  mortals  Inhabitants  shadows  virgins  crowns  wreaths  views  things  truths  Children  Spirits  beings  Vehicles  vanities  vanities  cards  Elements  Souls  Sprites  minds  fields\n",
      "\n",
      "NNP  Canto  Caryl  Muse  ev'n  Belinda  Goddess  Lord  t  Belle  Belle  Lord  Sol  Thrice  press'd  Belinda  Sylph  balmy  Twas  o'er  Beau  thou  distinguish'd  care  e'er  Nurse  Priest  Elves  Angel  pow'rs  flow'rs  conceal'd  Militia  o'er  Box  Ring  Air  Chair  Woman  Woman  o'erlooks  Chariots  Ombre  Fair  Flame  Mount  Salamander  Water  Nymphs  Prude  Gnome  Earth  Sylphs  Air\n",
      "\n",
      "NNPS  Maids  Wits  Pages  Termagants  Coquettes\n",
      "\n",
      "\n",
      "\n",
      "===============\n",
      "Words tagged with variations of VB\n",
      "\n",
      "VB  vouchsafe  view  Say  compel  say  make  reject  engage  eclipse  return'd  glow  Seem'd  ear  lay  say  Hear  believe  give  believe  Know  Hang  hover  Think  view  Think  expire  take  glide  sip\n",
      "\n",
      "\n",
      "\n",
      "leftover tags that were not accounted for in the mappings Brad gave me:\n"
     ]
    },
    {
     "data": {
      "text/plain": [
       "['PRP', 'WP', 'IN', ',', 'WDT', 'VBP', ':', '.', 'VBZ', 'MD', 'TO', 'CC', 'RB', 'PRP$', 'HYPH', \"''\", 'UH', 'POS', 'VBD', '``', 'RBR', '-LRB-', '-RRB-', 'WRB', 'RP']"
      ]
     },
     "execution_count": 62,
     "metadata": {},
     "output_type": "execute_result"
    }
   ],
   "source": [
    "our_text = \"\"\"\n",
    "Canto I\n",
    "\n",
    "What dire offence from am'rous causes springs, \n",
    "What mighty contests rise from trivial things, \n",
    "I sing — This verse to Caryl, Muse! is due: \n",
    "This, ev'n Belinda may vouchsafe to view: \n",
    "Slight is the subject, but not so the praise,\n",
    "If She inspire, and He approve my lays. \n",
    "\n",
    "Say what strange motive, Goddess! could compel\n",
    "A well-bred Lord t' assault a gentle Belle?\n",
    "O say what stranger cause, yet unexplor'd,\n",
    "Could make a gentle Belle reject a Lord?\n",
    "In tasks so bold, can little men engage,\n",
    "And in soft bosoms dwells such mighty Rage? \n",
    "\n",
    "Sol thro' white curtains shot a tim'rous ray,\n",
    "And oped those eyes that must eclipse the day:\n",
    "Now lap-dogs give themselves the rousing shake,\n",
    "And sleepless lovers, just at twelve, awake:\n",
    "Thrice rung the bell, the slipper knock'd the ground,\n",
    "And the press'd watch return'd a silver sound.\n",
    "Belinda still her downy pillow prest, \n",
    "Her guardian Sylph prolong'd the balmy rest:\n",
    "'Twas He had summon'd to her silent bed\n",
    "The morning-dream that hover'd o'er her head;\n",
    "A Youth more glitt'ring than a Birth-night Beau,\n",
    "(That ev'n in slumber caus'd her cheek to glow)\n",
    "Seem'd to her ear his winning lips to lay,\n",
    "And thus in whispers said, or seem'd to say. \n",
    "Fairest of mortals, thou distinguish'd care\n",
    "Of thousand bright Inhabitants of Air! \n",
    "If e'er one vision touch.'d thy infant thought, \n",
    "Of all the Nurse and all the Priest have taught;\n",
    "Of airy Elves by moonlight shadows seen, \n",
    "The silver token, and the circled green, \n",
    "Or virgins visited by Angel-pow'rs, \n",
    "With golden crowns and wreaths of heav'nly flow'rs; \n",
    "Hear and believe! thy own importance know,\n",
    "Nor bound thy narrow views to things below. \n",
    "Some secret truths, from learned pride conceal'd,\n",
    "To Maids alone and Children are reveal'd:\n",
    "What tho' no credit doubting Wits may give? \n",
    "The Fair and Innocent shall still believe.\n",
    "Know, then, unnumber'd Spirits round thee fly, \n",
    "The light Militia of the lower sky: \n",
    "These, tho' unseen, are ever on the wing, \n",
    "Hang o'er the Box, and hover round the Ring. \n",
    "Think what an equipage thou hast in Air,\n",
    "And view with scorn two Pages and a Chair. \n",
    "As now your own, our beings were of old, \n",
    "And once inclos'd in Woman's beauteous mould; \n",
    "Thence, by a soft transition, we repair \n",
    "From earthly Vehicles to these of air.\n",
    "Think not, when Woman's transient breath is fled \n",
    "That all her vanities at once are dead; \n",
    "Succeeding vanities she still regards, \n",
    "And tho' she plays no more, o'erlooks the cards. \n",
    "Her joy in gilded Chariots, when alive,\n",
    "And love of Ombre, after death survive. \n",
    "For when the Fair in all their pride expire, \n",
    "To their first Elements their Souls retire: \n",
    "The Sprites of fiery Termagants in Flame \n",
    "Mount up, and take a Salamander's name.\n",
    "Soft yielding minds to Water glide away, \n",
    "And sip, with Nymphs, their elemental Tea. \n",
    "The graver Prude sinks downward to a Gnome, \n",
    "In search of mischief still on Earth to roam. \n",
    "The light Coquettes in Sylphs aloft repair,\n",
    "And sport and flutter in the fields of Air.  \n",
    "\"\"\"\n",
    "\n",
    "\n",
    "def spacy_pos_transform(text):\n",
    "    \"\"\"Given a string pasted in, take a poem and transform it into its POS tags\"\"\"\n",
    "    nlp = en_core_web_sm.load()\n",
    "    lines = text.split('\\n')\n",
    "    spacy_tags_sorted = {}\n",
    "    for line in lines:\n",
    "        doc = nlp(line)\n",
    "        for token in doc:\n",
    "            if token.tag_ != \"_SP\":\n",
    "                if token.tag_ in spacy_tags_sorted:\n",
    "                    spacy_tags_sorted[token.tag_].append(token.text)\n",
    "                else:\n",
    "                    spacy_tags_sorted[token.tag_] = [token.text]\n",
    "\n",
    "    return spacy_tags_sorted\n",
    "\n",
    "POS_mapping = {'ADJ': ['CD', 'DT', 'PDT','VBN', 'VBG', 'JJ', 'JJR', 'JJS'], 'NOUN': ['NN', 'NNS', 'NNP', 'NNPS'], 'VB': ['VB']}\n",
    "\n",
    "spacy_tags_transformed = spacy_pos_transform(our_text)\n",
    "\n",
    "leftover_tags = list(spacy_tags_transformed.keys())\n",
    "\n",
    "for key, value in POS_mapping.items():\n",
    "    print('===============')\n",
    "    print('Words tagged with variations of ' + key + '\\n')\n",
    "    for item in value:\n",
    "        if item in spacy_tags_transformed:\n",
    "            print(item + '  ' + '  '.join(spacy_tags_transformed[item]) + '\\n')\n",
    "            leftover_tags.remove(item)\n",
    "    print('\\n')\n",
    "\n",
    "print('leftover tags that were not accounted for in the mappings Brad gave me:')\n",
    "leftover_tags"
   ]
  },
  {
   "cell_type": "markdown",
   "metadata": {},
   "source": [
    "If you're interested in digging deeper into the systems each of these tagging systems uses for part of speech:\n",
    "\n",
    "* NLTK is trained on a wall street journal corpus: https://stackoverflow.com/questions/32016545/how-does-nltk-pos-tag-work/41384824#:~:text=This%20basically%20means%20that%20it,not%20the%20guess%20was%20correct. It actually uses weighted averages.\n",
    "* More information on POS tagging systems - https://universaldependencies.org/docs/u/pos/\n",
    "\n",
    "* Spacy uses - OntoNotes Release 5.0 is the final release of the OntoNotes project, a collaborative effort between BBN Technologies, the University of Colorado, the University of Pennsylvania and the University of Southern Californias Information Sciences Institute. The goal of the project was to annotate a large corpus comprising various genres of text (news, conversational telephone speech, weblogs, usenet newsgroups, broadcast, talk shows) in three languages (English, Chinese, and Arabic) with structural information (syntax and predicate argument structure) and shallow semantics (word sense linked to an ontology and coreference).\n",
    "\n"
   ]
  },
  {
   "cell_type": "markdown",
   "metadata": {},
   "source": [
    "Discussion Questions:\n",
    "\n",
    "* How could you imagine context playing a role here?\n",
    "* What are some other literary applications for POS tagging questions?\n",
    "* For supervised learning problems?\n",
    "* What other kinds of research questions are available here?\n",
    "\n"
   ]
  }
 ],
 "metadata": {
  "kernelspec": {
   "display_name": "Python 3",
   "language": "python",
   "name": "python3"
  },
  "language_info": {
   "codemirror_mode": {
    "name": "ipython",
    "version": 3
   },
   "file_extension": ".py",
   "mimetype": "text/x-python",
   "name": "python",
   "nbconvert_exporter": "python",
   "pygments_lexer": "ipython3",
   "version": "3.8.5"
  }
 },
 "nbformat": 4,
 "nbformat_minor": 4
}
